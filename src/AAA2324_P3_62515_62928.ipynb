{
  "cells": [
    {
      "cell_type": "markdown",
      "metadata": {
        "id": "njYfCiv3rkTc"
      },
      "source": [
        "# Advanced Machine Learning - Project 2\n",
        "## Mountain Car Problem with Reinforcement Learning\n",
        "\n",
        "- Eduardo Carneiro - 62515\n",
        "- Til Dietrich - 62928"
      ]
    },
    {
      "cell_type": "markdown",
      "metadata": {
        "id": "beHiK3nDrWeU"
      },
      "source": [
        "## Possibly useful resources:\n",
        "- Hyperparameter tuning in RL: https://arxiv.org/pdf/2306.01324.pdf"
      ]
    },
    {
      "cell_type": "markdown",
      "metadata": {
        "id": "opLYtqQmrkTg"
      },
      "source": [
        "# TODO\n",
        "- hyper-parameter tuning for Q-Learning (e.g. grid search)\n",
        "- understand if results from Q-Learn make any sense\n",
        "\n",
        "- Deep-Q Learning\n",
        "\n",
        "- use same initial state to better compare the two agents"
      ]
    },
    {
      "cell_type": "markdown",
      "metadata": {
        "id": "Q3yhgHVGrkTh"
      },
      "source": [
        "- Reverb Package does not work on Windows. Thus, im running this notebook in VSCode through a WSL Window\n",
        "- The next commands create an environment in the WSL with all the necessary packages"
      ]
    },
    {
      "cell_type": "code",
      "execution_count": 1,
      "metadata": {
        "colab": {
          "base_uri": "https://localhost:8080/"
        },
        "id": "zFmcVFFPrkTi",
        "outputId": "d255571f-7165-490b-d0a4-fd029110ef03"
      },
      "outputs": [
        {
          "name": "stdout",
          "output_type": "stream",
          "text": [
            "Password:"
          ]
        },
        {
          "name": "stdout",
          "output_type": "stream",
          "text": [
            "\n",
            "sudo: a password is required\n"
          ]
        }
      ],
      "source": [
        "!sudo apt install python3.10-venv\n",
        "!python -m venv venv_AML_linux\n",
        "!source venv_AML_linux/bin/activate"
      ]
    },
    {
      "cell_type": "code",
      "execution_count": null,
      "metadata": {
        "colab": {
          "base_uri": "https://localhost:8080/"
        },
        "id": "d3-5lc1arkTj",
        "outputId": "821eb174-3baa-4afc-c326-0c9f0f151c6f"
      },
      "outputs": [
        {
          "name": "stdout",
          "output_type": "stream",
          "text": [
            "Reading package lists... Done\n",
            "Building dependency tree... Done\n",
            "Reading state information... Done\n",
            "freeglut3-dev is already the newest version (2.8.1-6).\n",
            "ffmpeg is already the newest version (7:4.4.2-0ubuntu0.22.04.1).\n",
            "xvfb is already the newest version (2:21.1.4-2ubuntu1.7~22.04.5).\n",
            "0 upgraded, 0 newly installed, 0 to remove and 24 not upgraded.\n",
            "Requirement already satisfied: imageio==2.4.0 in /usr/local/lib/python3.10/dist-packages (2.4.0)\n",
            "Requirement already satisfied: numpy in /usr/local/lib/python3.10/dist-packages (from imageio==2.4.0) (1.23.5)\n",
            "Requirement already satisfied: pillow in /usr/local/lib/python3.10/dist-packages (from imageio==2.4.0) (9.4.0)\n",
            "Requirement already satisfied: pyvirtualdisplay in /usr/local/lib/python3.10/dist-packages (3.0)\n",
            "Requirement already satisfied: tf-agents[reverb] in /usr/local/lib/python3.10/dist-packages (0.19.0)\n",
            "Requirement already satisfied: absl-py>=0.6.1 in /usr/local/lib/python3.10/dist-packages (from tf-agents[reverb]) (1.4.0)\n",
            "Requirement already satisfied: cloudpickle>=1.3 in /usr/local/lib/python3.10/dist-packages (from tf-agents[reverb]) (2.2.1)\n",
            "Requirement already satisfied: gin-config>=0.4.0 in /usr/local/lib/python3.10/dist-packages (from tf-agents[reverb]) (0.5.0)\n",
            "Requirement already satisfied: gym<=0.23.0,>=0.17.0 in /usr/local/lib/python3.10/dist-packages (from tf-agents[reverb]) (0.23.0)\n",
            "Requirement already satisfied: numpy>=1.19.0 in /usr/local/lib/python3.10/dist-packages (from tf-agents[reverb]) (1.23.5)\n",
            "Requirement already satisfied: pillow in /usr/local/lib/python3.10/dist-packages (from tf-agents[reverb]) (9.4.0)\n",
            "Requirement already satisfied: six>=1.10.0 in /usr/local/lib/python3.10/dist-packages (from tf-agents[reverb]) (1.16.0)\n",
            "Requirement already satisfied: protobuf>=3.11.3 in /usr/local/lib/python3.10/dist-packages (from tf-agents[reverb]) (3.20.3)\n",
            "Requirement already satisfied: wrapt>=1.11.1 in /usr/local/lib/python3.10/dist-packages (from tf-agents[reverb]) (1.14.1)\n",
            "Requirement already satisfied: typing-extensions==4.5.0 in /usr/local/lib/python3.10/dist-packages (from tf-agents[reverb]) (4.5.0)\n",
            "Requirement already satisfied: pygame==2.1.3 in /usr/local/lib/python3.10/dist-packages (from tf-agents[reverb]) (2.1.3)\n",
            "Requirement already satisfied: tensorflow-probability~=0.23.0 in /usr/local/lib/python3.10/dist-packages (from tf-agents[reverb]) (0.23.0)\n",
            "Requirement already satisfied: rlds in /usr/local/lib/python3.10/dist-packages (from tf-agents[reverb]) (0.1.8)\n",
            "Requirement already satisfied: dm-reverb~=0.14.0 in /usr/local/lib/python3.10/dist-packages (from tf-agents[reverb]) (0.14.0)\n",
            "Requirement already satisfied: tensorflow~=2.15.0 in /usr/local/lib/python3.10/dist-packages (from tf-agents[reverb]) (2.15.0)\n",
            "Requirement already satisfied: dm-tree in /usr/local/lib/python3.10/dist-packages (from dm-reverb~=0.14.0->tf-agents[reverb]) (0.1.8)\n",
            "Requirement already satisfied: portpicker in /usr/local/lib/python3.10/dist-packages (from dm-reverb~=0.14.0->tf-agents[reverb]) (1.5.2)\n",
            "Requirement already satisfied: gym-notices>=0.0.4 in /usr/local/lib/python3.10/dist-packages (from gym<=0.23.0,>=0.17.0->tf-agents[reverb]) (0.0.8)\n",
            "Requirement already satisfied: astunparse>=1.6.0 in /usr/local/lib/python3.10/dist-packages (from tensorflow~=2.15.0->tf-agents[reverb]) (1.6.3)\n",
            "Requirement already satisfied: flatbuffers>=23.5.26 in /usr/local/lib/python3.10/dist-packages (from tensorflow~=2.15.0->tf-agents[reverb]) (23.5.26)\n",
            "Requirement already satisfied: gast!=0.5.0,!=0.5.1,!=0.5.2,>=0.2.1 in /usr/local/lib/python3.10/dist-packages (from tensorflow~=2.15.0->tf-agents[reverb]) (0.5.4)\n",
            "Requirement already satisfied: google-pasta>=0.1.1 in /usr/local/lib/python3.10/dist-packages (from tensorflow~=2.15.0->tf-agents[reverb]) (0.2.0)\n",
            "Requirement already satisfied: h5py>=2.9.0 in /usr/local/lib/python3.10/dist-packages (from tensorflow~=2.15.0->tf-agents[reverb]) (3.9.0)\n",
            "Requirement already satisfied: libclang>=13.0.0 in /usr/local/lib/python3.10/dist-packages (from tensorflow~=2.15.0->tf-agents[reverb]) (16.0.6)\n",
            "Requirement already satisfied: ml-dtypes~=0.2.0 in /usr/local/lib/python3.10/dist-packages (from tensorflow~=2.15.0->tf-agents[reverb]) (0.2.0)\n",
            "Requirement already satisfied: opt-einsum>=2.3.2 in /usr/local/lib/python3.10/dist-packages (from tensorflow~=2.15.0->tf-agents[reverb]) (3.3.0)\n",
            "Requirement already satisfied: packaging in /usr/local/lib/python3.10/dist-packages (from tensorflow~=2.15.0->tf-agents[reverb]) (23.2)\n",
            "Requirement already satisfied: setuptools in /usr/local/lib/python3.10/dist-packages (from tensorflow~=2.15.0->tf-agents[reverb]) (67.7.2)\n",
            "Requirement already satisfied: termcolor>=1.1.0 in /usr/local/lib/python3.10/dist-packages (from tensorflow~=2.15.0->tf-agents[reverb]) (2.4.0)\n",
            "Requirement already satisfied: tensorflow-io-gcs-filesystem>=0.23.1 in /usr/local/lib/python3.10/dist-packages (from tensorflow~=2.15.0->tf-agents[reverb]) (0.34.0)\n",
            "Requirement already satisfied: grpcio<2.0,>=1.24.3 in /usr/local/lib/python3.10/dist-packages (from tensorflow~=2.15.0->tf-agents[reverb]) (1.60.0)\n",
            "Requirement already satisfied: tensorboard<2.16,>=2.15 in /usr/local/lib/python3.10/dist-packages (from tensorflow~=2.15.0->tf-agents[reverb]) (2.15.1)\n",
            "Requirement already satisfied: tensorflow-estimator<2.16,>=2.15.0 in /usr/local/lib/python3.10/dist-packages (from tensorflow~=2.15.0->tf-agents[reverb]) (2.15.0)\n",
            "Requirement already satisfied: keras<2.16,>=2.15.0 in /usr/local/lib/python3.10/dist-packages (from tensorflow~=2.15.0->tf-agents[reverb]) (2.15.0)\n",
            "Requirement already satisfied: decorator in /usr/local/lib/python3.10/dist-packages (from tensorflow-probability~=0.23.0->tf-agents[reverb]) (4.4.2)\n",
            "Requirement already satisfied: wheel<1.0,>=0.23.0 in /usr/local/lib/python3.10/dist-packages (from astunparse>=1.6.0->tensorflow~=2.15.0->tf-agents[reverb]) (0.42.0)\n",
            "Requirement already satisfied: google-auth<3,>=1.6.3 in /usr/local/lib/python3.10/dist-packages (from tensorboard<2.16,>=2.15->tensorflow~=2.15.0->tf-agents[reverb]) (2.17.3)\n",
            "Requirement already satisfied: google-auth-oauthlib<2,>=0.5 in /usr/local/lib/python3.10/dist-packages (from tensorboard<2.16,>=2.15->tensorflow~=2.15.0->tf-agents[reverb]) (1.2.0)\n",
            "Requirement already satisfied: markdown>=2.6.8 in /usr/local/lib/python3.10/dist-packages (from tensorboard<2.16,>=2.15->tensorflow~=2.15.0->tf-agents[reverb]) (3.5.1)\n",
            "Requirement already satisfied: requests<3,>=2.21.0 in /usr/local/lib/python3.10/dist-packages (from tensorboard<2.16,>=2.15->tensorflow~=2.15.0->tf-agents[reverb]) (2.31.0)\n",
            "Requirement already satisfied: tensorboard-data-server<0.8.0,>=0.7.0 in /usr/local/lib/python3.10/dist-packages (from tensorboard<2.16,>=2.15->tensorflow~=2.15.0->tf-agents[reverb]) (0.7.2)\n",
            "Requirement already satisfied: werkzeug>=1.0.1 in /usr/local/lib/python3.10/dist-packages (from tensorboard<2.16,>=2.15->tensorflow~=2.15.0->tf-agents[reverb]) (3.0.1)\n",
            "Requirement already satisfied: psutil in /usr/local/lib/python3.10/dist-packages (from portpicker->dm-reverb~=0.14.0->tf-agents[reverb]) (5.9.5)\n",
            "Requirement already satisfied: cachetools<6.0,>=2.0.0 in /usr/local/lib/python3.10/dist-packages (from google-auth<3,>=1.6.3->tensorboard<2.16,>=2.15->tensorflow~=2.15.0->tf-agents[reverb]) (5.3.2)\n",
            "Requirement already satisfied: pyasn1-modules>=0.2.1 in /usr/local/lib/python3.10/dist-packages (from google-auth<3,>=1.6.3->tensorboard<2.16,>=2.15->tensorflow~=2.15.0->tf-agents[reverb]) (0.3.0)\n",
            "Requirement already satisfied: rsa<5,>=3.1.4 in /usr/local/lib/python3.10/dist-packages (from google-auth<3,>=1.6.3->tensorboard<2.16,>=2.15->tensorflow~=2.15.0->tf-agents[reverb]) (4.9)\n",
            "Requirement already satisfied: requests-oauthlib>=0.7.0 in /usr/local/lib/python3.10/dist-packages (from google-auth-oauthlib<2,>=0.5->tensorboard<2.16,>=2.15->tensorflow~=2.15.0->tf-agents[reverb]) (1.3.1)\n",
            "Requirement already satisfied: charset-normalizer<4,>=2 in /usr/local/lib/python3.10/dist-packages (from requests<3,>=2.21.0->tensorboard<2.16,>=2.15->tensorflow~=2.15.0->tf-agents[reverb]) (3.3.2)\n",
            "Requirement already satisfied: idna<4,>=2.5 in /usr/local/lib/python3.10/dist-packages (from requests<3,>=2.21.0->tensorboard<2.16,>=2.15->tensorflow~=2.15.0->tf-agents[reverb]) (3.6)\n",
            "Requirement already satisfied: urllib3<3,>=1.21.1 in /usr/local/lib/python3.10/dist-packages (from requests<3,>=2.21.0->tensorboard<2.16,>=2.15->tensorflow~=2.15.0->tf-agents[reverb]) (2.0.7)\n",
            "Requirement already satisfied: certifi>=2017.4.17 in /usr/local/lib/python3.10/dist-packages (from requests<3,>=2.21.0->tensorboard<2.16,>=2.15->tensorflow~=2.15.0->tf-agents[reverb]) (2023.11.17)\n",
            "Requirement already satisfied: MarkupSafe>=2.1.1 in /usr/local/lib/python3.10/dist-packages (from werkzeug>=1.0.1->tensorboard<2.16,>=2.15->tensorflow~=2.15.0->tf-agents[reverb]) (2.1.3)\n",
            "Requirement already satisfied: pyasn1<0.6.0,>=0.4.6 in /usr/local/lib/python3.10/dist-packages (from pyasn1-modules>=0.2.1->google-auth<3,>=1.6.3->tensorboard<2.16,>=2.15->tensorflow~=2.15.0->tf-agents[reverb]) (0.5.1)\n",
            "Requirement already satisfied: oauthlib>=3.0.0 in /usr/local/lib/python3.10/dist-packages (from requests-oauthlib>=0.7.0->google-auth-oauthlib<2,>=0.5->tensorboard<2.16,>=2.15->tensorflow~=2.15.0->tf-agents[reverb]) (3.2.2)\n",
            "Requirement already satisfied: pyglet in /usr/local/lib/python3.10/dist-packages (2.0.10)\n",
            "Requirement already satisfied: gymnasium in /usr/local/lib/python3.10/dist-packages (0.29.1)\n",
            "Requirement already satisfied: numpy>=1.21.0 in /usr/local/lib/python3.10/dist-packages (from gymnasium) (1.23.5)\n",
            "Requirement already satisfied: cloudpickle>=1.2.0 in /usr/local/lib/python3.10/dist-packages (from gymnasium) (2.2.1)\n",
            "Requirement already satisfied: typing-extensions>=4.3.0 in /usr/local/lib/python3.10/dist-packages (from gymnasium) (4.5.0)\n",
            "Requirement already satisfied: farama-notifications>=0.0.1 in /usr/local/lib/python3.10/dist-packages (from gymnasium) (0.0.4)\n",
            "Requirement already satisfied: seaborn in /usr/local/lib/python3.10/dist-packages (0.12.2)\n",
            "Requirement already satisfied: numpy!=1.24.0,>=1.17 in /usr/local/lib/python3.10/dist-packages (from seaborn) (1.23.5)\n",
            "Requirement already satisfied: pandas>=0.25 in /usr/local/lib/python3.10/dist-packages (from seaborn) (1.5.3)\n",
            "Requirement already satisfied: matplotlib!=3.6.1,>=3.1 in /usr/local/lib/python3.10/dist-packages (from seaborn) (3.7.1)\n",
            "Requirement already satisfied: contourpy>=1.0.1 in /usr/local/lib/python3.10/dist-packages (from matplotlib!=3.6.1,>=3.1->seaborn) (1.2.0)\n",
            "Requirement already satisfied: cycler>=0.10 in /usr/local/lib/python3.10/dist-packages (from matplotlib!=3.6.1,>=3.1->seaborn) (0.12.1)\n",
            "Requirement already satisfied: fonttools>=4.22.0 in /usr/local/lib/python3.10/dist-packages (from matplotlib!=3.6.1,>=3.1->seaborn) (4.46.0)\n",
            "Requirement already satisfied: kiwisolver>=1.0.1 in /usr/local/lib/python3.10/dist-packages (from matplotlib!=3.6.1,>=3.1->seaborn) (1.4.5)\n",
            "Requirement already satisfied: packaging>=20.0 in /usr/local/lib/python3.10/dist-packages (from matplotlib!=3.6.1,>=3.1->seaborn) (23.2)\n",
            "Requirement already satisfied: pillow>=6.2.0 in /usr/local/lib/python3.10/dist-packages (from matplotlib!=3.6.1,>=3.1->seaborn) (9.4.0)\n",
            "Requirement already satisfied: pyparsing>=2.3.1 in /usr/local/lib/python3.10/dist-packages (from matplotlib!=3.6.1,>=3.1->seaborn) (3.1.1)\n",
            "Requirement already satisfied: python-dateutil>=2.7 in /usr/local/lib/python3.10/dist-packages (from matplotlib!=3.6.1,>=3.1->seaborn) (2.8.2)\n",
            "Requirement already satisfied: pytz>=2020.1 in /usr/local/lib/python3.10/dist-packages (from pandas>=0.25->seaborn) (2023.3.post1)\n",
            "Requirement already satisfied: six>=1.5 in /usr/local/lib/python3.10/dist-packages (from python-dateutil>=2.7->matplotlib!=3.6.1,>=3.1->seaborn) (1.16.0)\n"
          ]
        }
      ],
      "source": [
        "# Uncomment to install packages in collab or if necessary\n",
        "!sudo apt-get install -y xvfb ffmpeg freeglut3-dev\n",
        "!pip install 'imageio==2.4.0'\n",
        "!pip install pyvirtualdisplay\n",
        "!pip install tf-agents[reverb]\n",
        "!pip install pyglet\n",
        "!pip install gymnasium\n",
        "!pip install seaborn"
      ]
    },
    {
      "cell_type": "code",
      "execution_count": 2,
      "metadata": {
        "id": "IYdgNidKrkTk"
      },
      "outputs": [],
      "source": [
        "# Imports\n",
        "import matplotlib.pyplot as plt\n",
        "import numpy as np\n",
        "import pandas as pd\n",
        "import random\n",
        "import gymnasium as gym\n",
        "from gymnasium.envs.toy_text.frozen_lake import generate_random_map\n",
        "import seaborn as sns\n",
        "from tqdm import tqdm\n",
        "\n",
        "import pyvirtualdisplay\n",
        "import PIL\n",
        "\n",
        "#import reverb\n",
        "\n",
        "import base64\n",
        "import imageio\n",
        "import IPython\n",
        "\n",
        "\n",
        "import tensorflow as tf\n",
        "from tf_agents.agents.dqn import dqn_agent\n",
        "from tf_agents.drivers import py_driver\n",
        "from tf_agents.environments import suite_gym\n",
        "from tf_agents.environments import tf_py_environment\n",
        "from tf_agents.eval import metric_utils\n",
        "from tf_agents.metrics import tf_metrics\n",
        "from tf_agents.networks import sequential\n",
        "from tf_agents.policies import py_tf_eager_policy\n",
        "from tf_agents.policies import random_tf_policy\n",
        "from tf_agents.replay_buffers import reverb_replay_buffer\n",
        "from tf_agents.replay_buffers import reverb_utils\n",
        "from tf_agents.trajectories import trajectory\n",
        "from tf_agents.specs import tensor_spec\n",
        "from tf_agents.utils import common"
      ]
    },
    {
      "cell_type": "code",
      "execution_count": 3,
      "metadata": {
        "id": "MNfRlO_3rkTl"
      },
      "outputs": [],
      "source": [
        "sns.set(style='whitegrid', palette='muted', context='paper')"
      ]
    },
    {
      "cell_type": "markdown",
      "metadata": {
        "id": "T49RmuWOV6sc"
      },
      "source": [
        "## Table of Contents\n",
        "### 1. The environment\n",
        "### 2. Q-Learning\n",
        "### 3. Deep-Q Learning"
      ]
    },
    {
      "cell_type": "markdown",
      "metadata": {
        "id": "e835KmmtV6sd"
      },
      "source": [
        "## 1. The environment"
      ]
    },
    {
      "cell_type": "code",
      "execution_count": 4,
      "metadata": {
        "id": "7rlafl3UV6sd"
      },
      "outputs": [],
      "source": [
        "# Implementation based on TP10 notebook\n",
        "# Still needs checking"
      ]
    },
    {
      "cell_type": "code",
      "execution_count": 5,
      "metadata": {
        "id": "Gf-LyJLWV6se"
      },
      "outputs": [],
      "source": [
        "# Load environment\n",
        "env = gym.make(\"MountainCar-v0\",render_mode='rgb_array')"
      ]
    },
    {
      "cell_type": "code",
      "execution_count": 6,
      "metadata": {
        "colab": {
          "base_uri": "https://localhost:8080/",
          "height": 367
        },
        "id": "-RMvV3OhV6sf",
        "outputId": "bc00a6d6-8efe-4111-a693-15219ca1837c"
      },
      "outputs": [
        {
          "data": {
            "image/png": "[encoded data removed]",
            "text/plain": [
              "<Figure size 640x480 with 1 Axes>"
            ]
          },
          "metadata": {},
          "output_type": "display_data"
        }
      ],
      "source": [
        "env.reset()\n",
        "plt.imshow(env.render())\n",
        "plt.axis('off')\n",
        "plt.show()"
      ]
    },
    {
      "cell_type": "code",
      "execution_count": 7,
      "metadata": {
        "colab": {
          "base_uri": "https://localhost:8080/"
        },
        "id": "Iu8hmmBzV6sf",
        "outputId": "4ac346dd-60e9-4491-dc0a-8cf358d1d014"
      },
      "outputs": [
        {
          "name": "stdout",
          "output_type": "stream",
          "text": [
            "Box([-1.2  -0.07], [0.6  0.07], (2,), float32) Discrete(3)\n"
          ]
        }
      ],
      "source": [
        "# Confirm observation and action space dimensions\n",
        "# Link to documentation: https://gymnasium.farama.org/environments/classic_control/mountain_car/\n",
        "print(env.observation_space, env.action_space)"
      ]
    },
    {
      "cell_type": "markdown",
      "metadata": {
        "id": "1x-CxHfLV6sg"
      },
      "source": [
        "The current state is always defined by the two parameters position (p) and velocity (v).\n",
        "\n",
        "The action space is:\n",
        "- 0: Accelerate to the left\n",
        "- 1: Don’t accelerate\n",
        "- 2: Accelerate to the right"
      ]
    },
    {
      "cell_type": "markdown",
      "metadata": {
        "id": "UoUYWC4CV6sg"
      },
      "source": [
        "## 1. Q-Learning"
      ]
    },
    {
      "cell_type": "markdown",
      "metadata": {
        "id": "PVLiJXcHV6sh"
      },
      "source": [
        "First, we define all necessary functions for better readibility"
      ]
    },
    {
      "cell_type": "code",
      "execution_count": 8,
      "metadata": {
        "id": "NKZLk43xV6sh"
      },
      "outputs": [],
      "source": [
        "# Function for discretizing the observation space, either by number of batches or by batch size\n",
        "def discretize(interval, number_batches=-1, batch_percentage=0.1):\n",
        "\n",
        "    sum = abs(interval[0]) + abs(interval[1])\n",
        "\n",
        "    if number_batches != -1:\n",
        "        batch_size = sum / number_batches\n",
        "    else:\n",
        "        batch_size = batch_percentage * sum\n",
        "\n",
        "    return np.arange(interval[0], interval[1], batch_size)"
      ]
    },
    {
      "cell_type": "code",
      "execution_count": 9,
      "metadata": {
        "id": "D2w6CPNIV6si"
      },
      "outputs": [],
      "source": [
        "# Define functions for getting index of a batch (position and velocity)\n",
        "def get_index_position_batch(position, position_batches):\n",
        "\n",
        "    l = len(position_batches)\n",
        "\n",
        "    for low in range(l):\n",
        "\n",
        "        if position < position_batches[low]:\n",
        "            return low-1\n",
        "\n",
        "    return l-1\n",
        "\n",
        "def get_index_velocity_batch(velocity, velocity_batches):\n",
        "\n",
        "    l = len(velocity_batches)\n",
        "\n",
        "    for low in range(l):\n",
        "\n",
        "        if velocity < velocity_batches[low]:\n",
        "            return low-1\n",
        "\n",
        "    return l-1"
      ]
    },
    {
      "cell_type": "code",
      "execution_count": 10,
      "metadata": {
        "id": "Juoi62NRV6si"
      },
      "outputs": [],
      "source": [
        "# Define epsilon greedy function\n",
        "def epsilon_greedy(state, epsilon):\n",
        "    global q_table\n",
        "\n",
        "    if random.random() < epsilon:\n",
        "        return env.action_space.sample()\n",
        "    else:\n",
        "        # Assuming state is a tuple with (position, velocity)\n",
        "        return np.argmax(q_table[state[0], state[1], :])"
      ]
    },
    {
      "cell_type": "code",
      "execution_count": 11,
      "metadata": {},
      "outputs": [],
      "source": [
        "# Define function for q-learning\n",
        "def run_q_learning(env, alpha, gamma, epsilon, num_episodes, num_steps, position_batches, velocity_batches):\n",
        "    global q_table\n",
        "    q_table = np.zeros((len(position_batches), len(velocity_batches), env.action_space.n))\n",
        "    arr_total_rewards = []\n",
        "    arr_steps = []\n",
        "    arr_done = np.zeros(num_episodes)\n",
        "\n",
        "    for i in range(num_episodes):\n",
        "        s, _ = env.reset()\n",
        "        total_reward = 0\n",
        "        steps = 0\n",
        "\n",
        "        s = [get_index_position_batch(s[0], position_batches), get_index_velocity_batch(s[1], velocity_batches)]\n",
        "\n",
        "        for t in range(num_steps):\n",
        "            a = epsilon_greedy(s, epsilon)\n",
        "\n",
        "            s_, r, done, _, _ = env.step(a)\n",
        "            s_ = [get_index_position_batch(s_[0], position_batches), get_index_velocity_batch(s_[1], velocity_batches)]\n",
        "            a_ = np.argmax(q_table[s_[0], s_[1], :])\n",
        "\n",
        "            q_table[s[0], s[1], a] += alpha * (r + gamma * q_table[s_[0], s_[1], a_] - q_table[s[0], s[1], a])\n",
        "            s = s_\n",
        "            total_reward += r\n",
        "            steps += 1\n",
        "\n",
        "            if done:\n",
        "                arr_done[i] = 1\n",
        "                break\n",
        "\n",
        "        arr_total_rewards.append(total_reward)\n",
        "        arr_steps.append(steps)\n",
        "\n",
        "    return q_table, arr_total_rewards, arr_steps"
      ]
    },
    {
      "cell_type": "markdown",
      "metadata": {
        "id": "RtrDsTogV6sj"
      },
      "source": [
        "As we are working with Q-tables, we need to discretize the continuous space. We tried different batch sizes but realized that the main difference from more granular bins was that the number of episodes and maximum number of steps needed to converge to the \"flat line\" without improvements. 100 bins offered a good trade-off between training time and producing a converging algorithm.\n",
        "\n",
        "In the following, P denotes the number of discrete batches of the *position*, and V the number of discrete batches of *velocity*."
      ]
    },
    {
      "cell_type": "code",
      "execution_count": 65,
      "metadata": {
        "colab": {
          "base_uri": "https://localhost:8080/"
        },
        "id": "ok1xh355V6sj",
        "outputId": "70ed4994-a416-4865-f0c8-6431867afe8b"
      },
      "outputs": [
        {
          "name": "stdout",
          "output_type": "stream",
          "text": [
            "100 [-1.20000005 -1.18200005 -1.16400005 -1.14600005 -1.12800004 -1.11000004\n",
            " -1.09200004 -1.07400004 -1.05600004 -1.03800004 -1.02000004 -1.00200004\n",
            " -0.98400004 -0.96600004 -0.94800004 -0.93000004 -0.91200004 -0.89400004\n",
            " -0.87600003 -0.85800003 -0.84000003 -0.82200003 -0.80400003 -0.78600003\n",
            " -0.76800003 -0.75000003 -0.73200003 -0.71400003 -0.69600003 -0.67800003\n",
            " -0.66000003 -0.64200003 -0.62400002 -0.60600002 -0.58800002 -0.57000002\n",
            " -0.55200002 -0.53400002 -0.51600002 -0.49800002 -0.48000002 -0.46200002\n",
            " -0.44400002 -0.42600002 -0.40800002 -0.39000002 -0.37200001 -0.35400001\n",
            " -0.33600001 -0.31800001 -0.30000001 -0.28200001 -0.26400001 -0.24600001\n",
            " -0.22800001 -0.21000001 -0.19200001 -0.17400001 -0.15600001 -0.13800001\n",
            " -0.12       -0.102      -0.084      -0.066      -0.048      -0.03\n",
            " -0.012       0.006       0.024       0.042       0.06        0.078\n",
            "  0.096       0.114       0.13200001  0.15000001  0.16800001  0.18600001\n",
            "  0.20400001  0.22200001  0.24000001  0.25800001  0.27600001  0.29400001\n",
            "  0.31200001  0.33000001  0.34800001  0.36600001  0.38400002  0.40200002\n",
            "  0.42000002  0.43800002  0.45600002  0.47400002  0.49200002  0.51000002\n",
            "  0.52800002  0.54600002  0.56400002  0.58200002]\n",
            "100 [-7.00000003e-02 -6.86000003e-02 -6.72000003e-02 -6.58000003e-02\n",
            " -6.44000003e-02 -6.30000003e-02 -6.16000003e-02 -6.02000003e-02\n",
            " -5.88000003e-02 -5.74000002e-02 -5.60000002e-02 -5.46000002e-02\n",
            " -5.32000002e-02 -5.18000002e-02 -5.04000002e-02 -4.90000002e-02\n",
            " -4.76000002e-02 -4.62000002e-02 -4.48000002e-02 -4.34000002e-02\n",
            " -4.20000002e-02 -4.06000002e-02 -3.92000002e-02 -3.78000002e-02\n",
            " -3.64000002e-02 -3.50000001e-02 -3.36000001e-02 -3.22000001e-02\n",
            " -3.08000001e-02 -2.94000001e-02 -2.80000001e-02 -2.66000001e-02\n",
            " -2.52000001e-02 -2.38000001e-02 -2.24000001e-02 -2.10000001e-02\n",
            " -1.96000001e-02 -1.82000001e-02 -1.68000001e-02 -1.54000001e-02\n",
            " -1.40000001e-02 -1.26000001e-02 -1.12000000e-02 -9.80000004e-03\n",
            " -8.40000004e-03 -7.00000003e-03 -5.60000002e-03 -4.20000002e-03\n",
            " -2.80000001e-03 -1.40000001e-03  1.11022302e-16  1.40000001e-03\n",
            "  2.80000001e-03  4.20000002e-03  5.60000002e-03  7.00000003e-03\n",
            "  8.40000004e-03  9.80000004e-03  1.12000000e-02  1.26000001e-02\n",
            "  1.40000001e-02  1.54000001e-02  1.68000001e-02  1.82000001e-02\n",
            "  1.96000001e-02  2.10000001e-02  2.24000001e-02  2.38000001e-02\n",
            "  2.52000001e-02  2.66000001e-02  2.80000001e-02  2.94000001e-02\n",
            "  3.08000001e-02  3.22000001e-02  3.36000001e-02  3.50000001e-02\n",
            "  3.64000002e-02  3.78000002e-02  3.92000002e-02  4.06000002e-02\n",
            "  4.20000002e-02  4.34000002e-02  4.48000002e-02  4.62000002e-02\n",
            "  4.76000002e-02  4.90000002e-02  5.04000002e-02  5.18000002e-02\n",
            "  5.32000002e-02  5.46000002e-02  5.60000002e-02  5.74000002e-02\n",
            "  5.88000003e-02  6.02000003e-02  6.16000003e-02  6.30000003e-02\n",
            "  6.44000003e-02  6.58000003e-02  6.72000003e-02  6.86000003e-02]\n"
          ]
        }
      ],
      "source": [
        "BATCH_PERC = 0.01\n",
        "\n",
        "position_batches = discretize((env.observation_space.low[0], env.observation_space.high[0]), batch_percentage=BATCH_PERC)\n",
        "P = len(position_batches)\n",
        "\n",
        "velocity_batches = discretize((env.observation_space.low[1], env.observation_space.high[1]), batch_percentage=BATCH_PERC)\n",
        "V = len(velocity_batches)\n",
        "\n",
        "print(P, position_batches)\n",
        "print(V, velocity_batches)"
      ]
    },
    {
      "cell_type": "code",
      "execution_count": 66,
      "metadata": {
        "colab": {
          "base_uri": "https://localhost:8080/"
        },
        "id": "g4_XPmWHV6sj",
        "outputId": "67ffaf60-03ce-4842-bb70-3f4c32fd4705"
      },
      "outputs": [
        {
          "name": "stdout",
          "output_type": "stream",
          "text": [
            "(100, 100, 3)\n"
          ]
        }
      ],
      "source": [
        "q_table = np.zeros((P, V, env.action_space.n))\n",
        "print(q_table.shape)"
      ]
    },
    {
      "cell_type": "markdown",
      "metadata": {
        "id": "QAQGS16OV6sk"
      },
      "source": [
        "### Hyperparameters"
      ]
    },
    {
      "cell_type": "code",
      "execution_count": 67,
      "metadata": {
        "id": "s86GPEpAV6sk"
      },
      "outputs": [],
      "source": [
        "# Baseline hyperparameters\n",
        "alpha = 0.8 # Learning rate\n",
        "gamma = 0.95\n",
        "epsilon = 0.1\n",
        "num_episodes = 10001\n",
        "num_steps = 1000"
      ]
    },
    {
      "cell_type": "code",
      "execution_count": 68,
      "metadata": {},
      "outputs": [],
      "source": [
        "# Run first q-learning algorithm with baseline hyperparemeters\n",
        "q_table, arr_total_rewards, arr_steps = run_q_learning(env, alpha, gamma, epsilon, num_episodes, num_steps, position_batches, velocity_batches)"
      ]
    },
    {
      "cell_type": "code",
      "execution_count": 69,
      "metadata": {
        "colab": {
          "base_uri": "https://localhost:8080/",
          "height": 1000
        },
        "id": "xNJ7owafrkTy",
        "outputId": "bc93bdb2-1fea-4d3c-fe7c-b131092bfb7f"
      },
      "outputs": [
        {
          "name": "stdout",
          "output_type": "stream",
          "text": [
            "-115.0\n"
          ]
        },
        {
          "data": {
            "image/png": "[encoded data removed]",
            "text/plain": [
              "<Figure size 640x480 with 1 Axes>"
            ]
          },
          "metadata": {},
          "output_type": "display_data"
        },
        {
          "data": {
            "image/png": "[encoded data removed]",
            "text/plain": [
              "<Figure size 640x480 with 1 Axes>"
            ]
          },
          "metadata": {},
          "output_type": "display_data"
        }
      ],
      "source": [
        "print(max(arr_total_rewards))\n",
        "\n",
        "plt.ylabel(\"Total Reward\")\n",
        "plt.plot(range(0,num_episodes),arr_total_rewards)\n",
        "plt.show()\n",
        "\n",
        "plt.ylabel(\"Number Steps\")\n",
        "plt.plot(range(0,num_episodes),arr_steps)\n",
        "plt.show()"
      ]
    },
    {
      "cell_type": "markdown",
      "metadata": {
        "id": "vZx3v4jOtCBI"
      },
      "source": [
        "The algorithm clearly converges to a level, showing that the agent learns how to move in the environment."
      ]
    },
    {
      "cell_type": "code",
      "execution_count": 32,
      "metadata": {
        "colab": {
          "base_uri": "https://localhost:8080/"
        },
        "id": "C4UrtD_7syqp",
        "outputId": "77a65765-e913-4965-ef64-a89a62365cd0"
      },
      "outputs": [
        {
          "name": "stderr",
          "output_type": "stream",
          "text": [
            "Alpha:   0%|          | 0/2 [00:00<?, ?it/s]"
          ]
        },
        {
          "name": "stdout",
          "output_type": "stream",
          "text": [
            "Running Q-learning for alpha=0.6, gamma=0.85, epsilon=0\n",
            "The maximum reward in this model configuration is: -86.0\n",
            "Running Q-learning for alpha=0.6, gamma=0.85, epsilon=0.001\n"
          ]
        },
        {
          "name": "stderr",
          "output_type": "stream",
          "text": [
            "/var/folders/rl/4rywqmwj3q57mkcp4qfpgcg80000gn/T/ipykernel_25089/1163383563.py:16: FutureWarning: The behavior of DataFrame concatenation with empty or all-NA entries is deprecated. In a future version, this will no longer exclude empty or all-NA columns when determining the result dtypes. To retain the old behavior, exclude the relevant entries before the concat operation.\n",
            "  results_df = pd.concat([results_df, pd.DataFrame({\n"
          ]
        },
        {
          "name": "stdout",
          "output_type": "stream",
          "text": [
            "The maximum reward in this model configuration is: -87.0\n",
            "Running Q-learning for alpha=0.6, gamma=0.85, epsilon=0.025\n",
            "The maximum reward in this model configuration is: -85.0\n",
            "Running Q-learning for alpha=0.6, gamma=0.9, epsilon=0\n",
            "The maximum reward in this model configuration is: -92.0\n",
            "Running Q-learning for alpha=0.6, gamma=0.9, epsilon=0.001\n",
            "The maximum reward in this model configuration is: -88.0\n",
            "Running Q-learning for alpha=0.6, gamma=0.9, epsilon=0.025\n",
            "The maximum reward in this model configuration is: -87.0\n",
            "Running Q-learning for alpha=0.6, gamma=0.95, epsilon=0\n",
            "The maximum reward in this model configuration is: -107.0\n",
            "Running Q-learning for alpha=0.6, gamma=0.95, epsilon=0.001\n",
            "The maximum reward in this model configuration is: -86.0\n",
            "Running Q-learning for alpha=0.6, gamma=0.95, epsilon=0.025\n"
          ]
        },
        {
          "name": "stderr",
          "output_type": "stream",
          "text": [
            "Alpha:  50%|█████     | 1/2 [06:40<06:40, 400.20s/it]"
          ]
        },
        {
          "name": "stdout",
          "output_type": "stream",
          "text": [
            "The maximum reward in this model configuration is: -87.0\n",
            "Running Q-learning for alpha=0.7, gamma=0.85, epsilon=0\n",
            "The maximum reward in this model configuration is: -87.0\n",
            "Running Q-learning for alpha=0.7, gamma=0.85, epsilon=0.001\n",
            "The maximum reward in this model configuration is: -91.0\n",
            "Running Q-learning for alpha=0.7, gamma=0.85, epsilon=0.025\n",
            "The maximum reward in this model configuration is: -84.0\n",
            "Running Q-learning for alpha=0.7, gamma=0.9, epsilon=0\n",
            "The maximum reward in this model configuration is: -88.0\n",
            "Running Q-learning for alpha=0.7, gamma=0.9, epsilon=0.001\n",
            "The maximum reward in this model configuration is: -106.0\n",
            "Running Q-learning for alpha=0.7, gamma=0.9, epsilon=0.025\n",
            "The maximum reward in this model configuration is: -100.0\n",
            "Running Q-learning for alpha=0.7, gamma=0.95, epsilon=0\n",
            "The maximum reward in this model configuration is: -90.0\n",
            "Running Q-learning for alpha=0.7, gamma=0.95, epsilon=0.001\n",
            "The maximum reward in this model configuration is: -89.0\n",
            "Running Q-learning for alpha=0.7, gamma=0.95, epsilon=0.025\n"
          ]
        },
        {
          "name": "stderr",
          "output_type": "stream",
          "text": [
            "Alpha: 100%|██████████| 2/2 [13:05<00:00, 392.89s/it]"
          ]
        },
        {
          "name": "stdout",
          "output_type": "stream",
          "text": [
            "The maximum reward in this model configuration is: -90.0\n"
          ]
        },
        {
          "name": "stderr",
          "output_type": "stream",
          "text": [
            "\n"
          ]
        },
        {
          "data": {
            "text/html": [
              "<div>\n",
              "<style scoped>\n",
              "    .dataframe tbody tr th:only-of-type {\n",
              "        vertical-align: middle;\n",
              "    }\n",
              "\n",
              "    .dataframe tbody tr th {\n",
              "        vertical-align: top;\n",
              "    }\n",
              "\n",
              "    .dataframe thead th {\n",
              "        text-align: right;\n",
              "    }\n",
              "</style>\n",
              "<table border=\"1\" class=\"dataframe\">\n",
              "  <thead>\n",
              "    <tr style=\"text-align: right;\">\n",
              "      <th></th>\n",
              "      <th>alpha</th>\n",
              "      <th>gamma</th>\n",
              "      <th>epsilon</th>\n",
              "      <th>max_reward</th>\n",
              "      <th>sd_reward</th>\n",
              "    </tr>\n",
              "  </thead>\n",
              "  <tbody>\n",
              "    <tr>\n",
              "      <th>11</th>\n",
              "      <td>0.7</td>\n",
              "      <td>0.85</td>\n",
              "      <td>0.025</td>\n",
              "      <td>-84.0</td>\n",
              "      <td>146.110014</td>\n",
              "    </tr>\n",
              "    <tr>\n",
              "      <th>2</th>\n",
              "      <td>0.6</td>\n",
              "      <td>0.85</td>\n",
              "      <td>0.025</td>\n",
              "      <td>-85.0</td>\n",
              "      <td>153.953272</td>\n",
              "    </tr>\n",
              "    <tr>\n",
              "      <th>0</th>\n",
              "      <td>0.6</td>\n",
              "      <td>0.85</td>\n",
              "      <td>0</td>\n",
              "      <td>-86.0</td>\n",
              "      <td>155.126836</td>\n",
              "    </tr>\n",
              "    <tr>\n",
              "      <th>7</th>\n",
              "      <td>0.6</td>\n",
              "      <td>0.95</td>\n",
              "      <td>0.001</td>\n",
              "      <td>-86.0</td>\n",
              "      <td>151.700551</td>\n",
              "    </tr>\n",
              "    <tr>\n",
              "      <th>1</th>\n",
              "      <td>0.6</td>\n",
              "      <td>0.85</td>\n",
              "      <td>0.001</td>\n",
              "      <td>-87.0</td>\n",
              "      <td>153.447406</td>\n",
              "    </tr>\n",
              "    <tr>\n",
              "      <th>8</th>\n",
              "      <td>0.6</td>\n",
              "      <td>0.95</td>\n",
              "      <td>0.025</td>\n",
              "      <td>-87.0</td>\n",
              "      <td>152.900295</td>\n",
              "    </tr>\n",
              "    <tr>\n",
              "      <th>9</th>\n",
              "      <td>0.7</td>\n",
              "      <td>0.85</td>\n",
              "      <td>0</td>\n",
              "      <td>-87.0</td>\n",
              "      <td>146.712195</td>\n",
              "    </tr>\n",
              "    <tr>\n",
              "      <th>5</th>\n",
              "      <td>0.6</td>\n",
              "      <td>0.90</td>\n",
              "      <td>0.025</td>\n",
              "      <td>-87.0</td>\n",
              "      <td>153.495166</td>\n",
              "    </tr>\n",
              "    <tr>\n",
              "      <th>4</th>\n",
              "      <td>0.6</td>\n",
              "      <td>0.90</td>\n",
              "      <td>0.001</td>\n",
              "      <td>-88.0</td>\n",
              "      <td>154.025175</td>\n",
              "    </tr>\n",
              "    <tr>\n",
              "      <th>12</th>\n",
              "      <td>0.7</td>\n",
              "      <td>0.90</td>\n",
              "      <td>0</td>\n",
              "      <td>-88.0</td>\n",
              "      <td>146.620937</td>\n",
              "    </tr>\n",
              "    <tr>\n",
              "      <th>16</th>\n",
              "      <td>0.7</td>\n",
              "      <td>0.95</td>\n",
              "      <td>0.001</td>\n",
              "      <td>-89.0</td>\n",
              "      <td>144.531742</td>\n",
              "    </tr>\n",
              "    <tr>\n",
              "      <th>15</th>\n",
              "      <td>0.7</td>\n",
              "      <td>0.95</td>\n",
              "      <td>0</td>\n",
              "      <td>-90.0</td>\n",
              "      <td>145.236074</td>\n",
              "    </tr>\n",
              "    <tr>\n",
              "      <th>17</th>\n",
              "      <td>0.7</td>\n",
              "      <td>0.95</td>\n",
              "      <td>0.025</td>\n",
              "      <td>-90.0</td>\n",
              "      <td>145.543674</td>\n",
              "    </tr>\n",
              "    <tr>\n",
              "      <th>10</th>\n",
              "      <td>0.7</td>\n",
              "      <td>0.85</td>\n",
              "      <td>0.001</td>\n",
              "      <td>-91.0</td>\n",
              "      <td>145.614962</td>\n",
              "    </tr>\n",
              "    <tr>\n",
              "      <th>3</th>\n",
              "      <td>0.6</td>\n",
              "      <td>0.90</td>\n",
              "      <td>0</td>\n",
              "      <td>-92.0</td>\n",
              "      <td>153.232101</td>\n",
              "    </tr>\n",
              "    <tr>\n",
              "      <th>14</th>\n",
              "      <td>0.7</td>\n",
              "      <td>0.90</td>\n",
              "      <td>0.025</td>\n",
              "      <td>-100.0</td>\n",
              "      <td>145.809549</td>\n",
              "    </tr>\n",
              "    <tr>\n",
              "      <th>13</th>\n",
              "      <td>0.7</td>\n",
              "      <td>0.90</td>\n",
              "      <td>0.001</td>\n",
              "      <td>-106.0</td>\n",
              "      <td>146.460714</td>\n",
              "    </tr>\n",
              "    <tr>\n",
              "      <th>6</th>\n",
              "      <td>0.6</td>\n",
              "      <td>0.95</td>\n",
              "      <td>0</td>\n",
              "      <td>-107.0</td>\n",
              "      <td>151.653334</td>\n",
              "    </tr>\n",
              "  </tbody>\n",
              "</table>\n",
              "</div>"
            ],
            "text/plain": [
              "    alpha  gamma epsilon  max_reward   sd_reward\n",
              "11    0.7   0.85   0.025       -84.0  146.110014\n",
              "2     0.6   0.85   0.025       -85.0  153.953272\n",
              "0     0.6   0.85       0       -86.0  155.126836\n",
              "7     0.6   0.95   0.001       -86.0  151.700551\n",
              "1     0.6   0.85   0.001       -87.0  153.447406\n",
              "8     0.6   0.95   0.025       -87.0  152.900295\n",
              "9     0.7   0.85       0       -87.0  146.712195\n",
              "5     0.6   0.90   0.025       -87.0  153.495166\n",
              "4     0.6   0.90   0.001       -88.0  154.025175\n",
              "12    0.7   0.90       0       -88.0  146.620937\n",
              "16    0.7   0.95   0.001       -89.0  144.531742\n",
              "15    0.7   0.95       0       -90.0  145.236074\n",
              "17    0.7   0.95   0.025       -90.0  145.543674\n",
              "10    0.7   0.85   0.001       -91.0  145.614962\n",
              "3     0.6   0.90       0       -92.0  153.232101\n",
              "14    0.7   0.90   0.025      -100.0  145.809549\n",
              "13    0.7   0.90   0.001      -106.0  146.460714\n",
              "6     0.6   0.95       0      -107.0  151.653334"
            ]
          },
          "metadata": {},
          "output_type": "display_data"
        }
      ],
      "source": [
        "# Uncomment to run grid-search (takes super long)\n",
        "\n",
        "# # Initialize dataframe for results\n",
        "# results_df = pd.DataFrame(columns=[\"alpha\", \"gamma\", \"epsilon\", \"max_reward\", \"sd_reward\"])\n",
        "\n",
        "# # Hyperparameter loops\n",
        "# for alpha in tqdm([0.6, 0.7], desc='Alpha'):\n",
        "#     for gamma in [0.85, 0.9, 0.95]:\n",
        "#         for epsilon in [0, 0.001, 0.025]:\n",
        "#             print(f\"Running Q-learning for alpha={alpha}, gamma={gamma}, epsilon={epsilon}\")\n",
        "#             q_table, total_rewards, steps = run_q_learning(env, alpha, gamma, epsilon, num_episodes, num_steps, position_batches, velocity_batches)\n",
        "#             max_reward = max(total_rewards)\n",
        "#             print(f\"The maximum reward in this model configuration is: {max_reward}\")\n",
        "\n",
        "#             # Append results\n",
        "#             results_df = pd.concat([results_df, pd.DataFrame({\n",
        "#                 \"alpha\": [alpha],\n",
        "#                 \"gamma\": [gamma],\n",
        "#                 \"epsilon\": [epsilon],\n",
        "#                 \"max_reward\": [max_reward],\n",
        "#                 \"sd_reward\": [np.std(total_rewards)]\n",
        "#             })], ignore_index=True)\n",
        "\n",
        "# # Sort by max_reward\n",
        "# results_df = results_df.sort_values(by=['max_reward'], ascending=False)\n",
        "\n",
        "# display(results_df)"
      ]
    },
    {
      "cell_type": "markdown",
      "metadata": {},
      "source": [
        "![Grid search results 1](../img1_grid-search.png)"
      ]
    },
    {
      "cell_type": "markdown",
      "metadata": {},
      "source": [
        "![Grid search results 2](../img2_grid-search.png)"
      ]
    },
    {
      "cell_type": "markdown",
      "metadata": {},
      "source": [
        "![Grid search results 3](../img3_grid-search.png)"
      ]
    },
    {
      "cell_type": "markdown",
      "metadata": {},
      "source": [
        "![Grid search results 4](../img4_grid-search.png)"
      ]
    },
    {
      "cell_type": "markdown",
      "metadata": {},
      "source": [
        "The best hyperparameter combination is (alpha=0.7, gamma=0.85, epsilon=0.025)."
      ]
    },
    {
      "cell_type": "markdown",
      "metadata": {},
      "source": [
        "To be sure that we choose the best possible parameters, we run each of the top 5 models 10 times and record the mean and sd. This was we can make sure to choose the best model on average."
      ]
    },
    {
      "cell_type": "code",
      "execution_count": 41,
      "metadata": {},
      "outputs": [
        {
          "name": "stdout",
          "output_type": "stream",
          "text": [
            "Running Q-learning for alpha=0.7, gamma=0.85, epsilon=0.025\n"
          ]
        },
        {
          "name": "stderr",
          "output_type": "stream",
          "text": [
            "Runs: 100%|██████████| 10/10 [07:11<00:00, 43.17s/it]\n",
            "/var/folders/rl/4rywqmwj3q57mkcp4qfpgcg80000gn/T/ipykernel_25089/2619152430.py:31: FutureWarning: The behavior of DataFrame concatenation with empty or all-NA entries is deprecated. In a future version, this will no longer exclude empty or all-NA columns when determining the result dtypes. To retain the old behavior, exclude the relevant entries before the concat operation.\n",
            "  results_df = pd.concat([results_df, pd.DataFrame({\n"
          ]
        },
        {
          "name": "stdout",
          "output_type": "stream",
          "text": [
            "Running Q-learning for alpha=0.6, gamma=0.85, epsilon=0.025\n"
          ]
        },
        {
          "name": "stderr",
          "output_type": "stream",
          "text": [
            "Runs: 100%|██████████| 10/10 [07:28<00:00, 44.81s/it]\n"
          ]
        },
        {
          "name": "stdout",
          "output_type": "stream",
          "text": [
            "Running Q-learning for alpha=0.6, gamma=0.85, epsilon=0\n"
          ]
        },
        {
          "name": "stderr",
          "output_type": "stream",
          "text": [
            "Runs: 100%|██████████| 10/10 [07:22<00:00, 44.25s/it]\n"
          ]
        },
        {
          "name": "stdout",
          "output_type": "stream",
          "text": [
            "Running Q-learning for alpha=0.6, gamma=0.95, epsilon=0.001\n"
          ]
        },
        {
          "name": "stderr",
          "output_type": "stream",
          "text": [
            "Runs: 100%|██████████| 10/10 [07:22<00:00, 44.27s/it]\n"
          ]
        },
        {
          "name": "stdout",
          "output_type": "stream",
          "text": [
            "Running Q-learning for alpha=0.6, gamma=0.85, epsilon=0.001\n"
          ]
        },
        {
          "name": "stderr",
          "output_type": "stream",
          "text": [
            "Runs: 100%|██████████| 10/10 [07:22<00:00, 44.23s/it]\n"
          ]
        },
        {
          "data": {
            "text/html": [
              "<div>\n",
              "<style scoped>\n",
              "    .dataframe tbody tr th:only-of-type {\n",
              "        vertical-align: middle;\n",
              "    }\n",
              "\n",
              "    .dataframe tbody tr th {\n",
              "        vertical-align: top;\n",
              "    }\n",
              "\n",
              "    .dataframe thead th {\n",
              "        text-align: right;\n",
              "    }\n",
              "</style>\n",
              "<table border=\"1\" class=\"dataframe\">\n",
              "  <thead>\n",
              "    <tr style=\"text-align: right;\">\n",
              "      <th></th>\n",
              "      <th>alpha</th>\n",
              "      <th>gamma</th>\n",
              "      <th>epsilon</th>\n",
              "      <th>avg_max_reward</th>\n",
              "      <th>avg_sd_reward</th>\n",
              "    </tr>\n",
              "  </thead>\n",
              "  <tbody>\n",
              "    <tr>\n",
              "      <th>0</th>\n",
              "      <td>0.7</td>\n",
              "      <td>0.85</td>\n",
              "      <td>0.025</td>\n",
              "      <td>-90.2</td>\n",
              "      <td>6.193545</td>\n",
              "    </tr>\n",
              "    <tr>\n",
              "      <th>1</th>\n",
              "      <td>0.6</td>\n",
              "      <td>0.85</td>\n",
              "      <td>0.025</td>\n",
              "      <td>-87.6</td>\n",
              "      <td>2.497999</td>\n",
              "    </tr>\n",
              "    <tr>\n",
              "      <th>2</th>\n",
              "      <td>0.6</td>\n",
              "      <td>0.85</td>\n",
              "      <td>0.000</td>\n",
              "      <td>-87.7</td>\n",
              "      <td>2.570992</td>\n",
              "    </tr>\n",
              "    <tr>\n",
              "      <th>3</th>\n",
              "      <td>0.6</td>\n",
              "      <td>0.95</td>\n",
              "      <td>0.001</td>\n",
              "      <td>-92.0</td>\n",
              "      <td>7.835815</td>\n",
              "    </tr>\n",
              "    <tr>\n",
              "      <th>4</th>\n",
              "      <td>0.6</td>\n",
              "      <td>0.85</td>\n",
              "      <td>0.001</td>\n",
              "      <td>-86.5</td>\n",
              "      <td>2.729469</td>\n",
              "    </tr>\n",
              "  </tbody>\n",
              "</table>\n",
              "</div>"
            ],
            "text/plain": [
              "   alpha  gamma  epsilon  avg_max_reward  avg_sd_reward\n",
              "0    0.7   0.85    0.025           -90.2       6.193545\n",
              "1    0.6   0.85    0.025           -87.6       2.497999\n",
              "2    0.6   0.85    0.000           -87.7       2.570992\n",
              "3    0.6   0.95    0.001           -92.0       7.835815\n",
              "4    0.6   0.85    0.001           -86.5       2.729469"
            ]
          },
          "metadata": {},
          "output_type": "display_data"
        }
      ],
      "source": [
        "# Run top 5 models, 10 times each and record mean and sd of max reward\n",
        "\n",
        "# Initialize dataframe for results\n",
        "results_df = pd.DataFrame(columns=[\"alpha\", \"gamma\", \"epsilon\", \"avg_max_reward\", \"avg_sd_reward\"])\n",
        "\n",
        "# Model params\n",
        "model1 = [0.7, 0.85, 0.025]\n",
        "model2 = [0.6, 0.85, 0.025]\n",
        "model3 = [0.6, 0.85, 0]\n",
        "model4 = [0.6, 0.95, 0.001]\n",
        "model5 = [0.6, 0.85, 0.001]\n",
        "\n",
        "models = [model1, model2, model3, model4, model5]\n",
        "\n",
        "# Loop through models\n",
        "for m in models:\n",
        "    alpha = m[0]\n",
        "    gamma = m[1]\n",
        "    epsilon = m[2]\n",
        "\n",
        "    print(f\"Running Q-learning for alpha={alpha}, gamma={gamma}, epsilon={epsilon}\")\n",
        "\n",
        "    # Run model 10 times\n",
        "    max_rewards = []\n",
        "\n",
        "    for i in tqdm(range(10), desc='Runs'):\n",
        "        q_table, total_rewards, steps = run_q_learning(env, alpha, gamma, epsilon, num_episodes, num_steps, position_batches, velocity_batches)\n",
        "        max_rewards.append(max(total_rewards))\n",
        "\n",
        "    # Append results\n",
        "    results_df = pd.concat([results_df, pd.DataFrame({\n",
        "        \"alpha\": [alpha],\n",
        "        \"gamma\": [gamma],\n",
        "        \"epsilon\": [epsilon],\n",
        "        \"avg_max_reward\": [np.mean(max_rewards)],\n",
        "        \"avg_sd_reward\": [np.std(max_rewards)]\n",
        "    })], ignore_index=True)\n",
        "\n",
        "display(results_df)"
      ]
    },
    {
      "cell_type": "code",
      "execution_count": 42,
      "metadata": {
        "id": "T7-I09p5MY9H"
      },
      "outputs": [
        {
          "name": "stdout",
          "output_type": "stream",
          "text": [
            "The maximum reward in this model configuration in this run is: -85.0\n"
          ]
        }
      ],
      "source": [
        "# Implement q-learning with the best hyperparameters\n",
        "best_alpha = 0.6\n",
        "best_gamma = 0.85\n",
        "best_epsilon = 0.001\n",
        "\n",
        "q_table, total_rewards, steps = run_q_learning(env, best_alpha, best_gamma, best_epsilon, num_episodes, num_steps, position_batches, velocity_batches)\n",
        "\n",
        "print(f\"The maximum reward in this model configuration in this run is: {max(total_rewards)}\")"
      ]
    },
    {
      "cell_type": "code",
      "execution_count": 43,
      "metadata": {},
      "outputs": [
        {
          "name": "stdout",
          "output_type": "stream",
          "text": [
            "-111.0\n"
          ]
        },
        {
          "data": {
            "image/png": "[encoded data removed]",
            "text/plain": [
              "<Figure size 640x480 with 1 Axes>"
            ]
          },
          "metadata": {},
          "output_type": "display_data"
        }
      ],
      "source": [
        "# Plot results\n",
        "print(max(arr_total_rewards))\n",
        "\n",
        "plt.ylabel(\"Total Reward (inverse of steps)\")\n",
        "plt.plot(range(0,num_episodes),arr_total_rewards)\n",
        "plt.show()"
      ]
    },
    {
      "cell_type": "markdown",
      "metadata": {},
      "source": [
        "It seems that the results from the different hyperparameters behave somewhat erratic. The same configuration does not systematically produce the same results.\n",
        "But multiple tests among the best configurations showed that the above configuration produces the best rewards. It also has a relatively low SD, in comparison to the others, meaning that it converges relatively fast. It generally seems like the hyperparameter tuning mostly matters for big changes in hyperparameters. Fine-tuning them is probably not very necessary.\n",
        "\n",
        "We tried different grids to select the best parameters (see above). The final choice is the one in the code cell above."
      ]
    },
    {
      "cell_type": "code",
      "execution_count": 44,
      "metadata": {},
      "outputs": [
        {
          "name": "stdout",
          "output_type": "stream",
          "text": [
            "(100, 100)\n",
            "[[0. 0. 0. ... 0. 0. 0.]\n",
            " [0. 0. 0. ... 0. 0. 0.]\n",
            " [0. 0. 0. ... 0. 0. 0.]\n",
            " ...\n",
            " [0. 0. 0. ... 0. 0. 0.]\n",
            " [0. 0. 0. ... 0. 0. 0.]\n",
            " [0. 0. 0. ... 0. 0. 0.]]\n"
          ]
        }
      ],
      "source": [
        "# Get the optimal policy\n",
        "# print(q_table)\n",
        "optimal_policy = np.zeros((P,V))\n",
        "for pos in range(P):\n",
        "    for vel in range(V):\n",
        "        optimal_policy[pos,vel] = np.argmax(q_table[pos, vel, :])\n",
        "\n",
        "print(optimal_policy.shape)\n",
        "print(optimal_policy)"
      ]
    },
    {
      "cell_type": "markdown",
      "metadata": {},
      "source": [
        "Although this heatmap is not very intuitive to read, we keep it here because it looks kinda beautiful. Could be considered RL art - \"The Lemon in the Mountain Car Problem\"."
      ]
    },
    {
      "cell_type": "code",
      "execution_count": 45,
      "metadata": {},
      "outputs": [
        {
          "data": {
            "image/png": "[encoded data removed]",
            "text/plain": [
              "<Figure size 1000x1000 with 2 Axes>"
            ]
          },
          "metadata": {},
          "output_type": "display_data"
        }
      ],
      "source": [
        "# Create the heatmap\n",
        "plt.figure(figsize=(10, 10))  # Adjust the size as needed\n",
        "ax = sns.heatmap(optimal_policy, cmap=\"viridis\")\n",
        "\n",
        "# Add titles and labels as needed\n",
        "plt.title(\"Optimal Policy Heatmap\")\n",
        "plt.xlabel(\"Velocity Bins\")\n",
        "plt.ylabel(\"Position Bins\")\n",
        "\n",
        "# Flip the y-axis\n",
        "ax.invert_yaxis()\n",
        "\n",
        "# Show the plot\n",
        "plt.show()"
      ]
    },
    {
      "cell_type": "markdown",
      "metadata": {
        "id": "gJBf8S_DrkTz"
      },
      "source": [
        "## 2. Deep-Q Learning\n",
        "\n",
        "- Following [the tutorial](https://www.tensorflow.org/agents/tutorials/1_dqn_tutorial?hl=en#introduction) and comparing with TP8 notebook, to understand what I'm doing"
      ]
    },
    {
      "cell_type": "markdown",
      "metadata": {
        "id": "NvdyMwjOl_cH"
      },
      "source": [
        "### Experiments Markdown\n",
        "- Dedicated cell for saving experiments done, meaning the parameters used and results that we got\n",
        "\n",
        "---\n",
        "Exp1 -> DQN Agent\n",
        "- layers: (100,50)\n",
        "- iterations: 20k\n",
        "- learning rate: 0.001\n",
        "\n",
        "Results:\n",
        "- best avg return: -124.9\n",
        "\n",
        "---\n",
        "Exp2 -> DQN Agent\n",
        "- layers (50, 25)\n",
        "- iterations: 30k\n",
        "- learning rate: 0.001\n",
        "\n",
        "Results:\n",
        "- best avg return: -176\n",
        "- best avg steps: 200\n",
        "\n",
        "---\n",
        "Exp3 -> DQN Agent\n",
        "- layers (100, 50, 25)\n",
        "- iterations: 30k\n",
        "- learning rate: 0.001\n",
        "\n",
        "Results:\n",
        "- best avg return: -180\n",
        "- best avg steps: 200\n",
        "\n",
        "---\n",
        "Exp4 -> DQN Agent\n",
        "- layers (100, 50, 5)\n",
        "- iterations: 30k\n",
        "- learning rate: 0.001\n",
        "\n",
        "Results:\n",
        "- best avg return: -132\n",
        "- best avg steps: 200\n",
        "\n",
        "---\n",
        "Exp5 -> DQN Agent\n",
        "- layers (100, 50)\n",
        "- iterations: 150k\n",
        "- learning rate: 0.001\n",
        "\n",
        "Results:\n",
        "- best avg return: -94.0\n",
        "- best avg steps: 94\n",
        "\n",
        "---\n",
        "Exp6 -> DQN Agent\n",
        "- layers (150, 100)\n",
        "- iterations: 50k\n",
        "- learning rate: 0.001\n",
        "\n",
        "Results:\n",
        "- best avg return: -111\n",
        "- best avg steps: 111\n",
        "\n",
        "---\n",
        "Exp7 -> DQN Agent\n",
        "- layers (200, 125, 50)\n",
        "- iterations: 50k\n",
        "- learning rate: 0.001\n",
        "\n",
        "Results:\n",
        "- best avg return: -103\n",
        "- best avg steps: 103\n",
        "\n",
        "---\n",
        "Exp8 -> DQN Agent\n",
        "- layers (200, 125, 50)\n",
        "- iterations: 50k\n",
        "- learning rate: 0.005\n",
        "\n",
        "Results:\n",
        "- best avg return: -189\n",
        "- best avg steps: 189\n",
        "\n",
        "---\n",
        "Exp9 -> DQN Agent\n",
        "- layers (200, 125, 50)\n",
        "- iterations: 150k\n",
        "- learning rate: 0.002\n",
        "\n",
        "Results:\n",
        "- best avg return: -121\n",
        "- best avg steps: 121\n",
        "\n",
        "---\n",
        "Exp10 -> DQN Agent\n",
        "- layers (50, 100, 100, 50)\n",
        "- iterations: 150k\n",
        "- learning rate: 0.001\n",
        "\n",
        "Results:\n",
        "- best avg return: -146\n",
        "- best avg steps: 146\n",
        "\n",
        "---\n",
        "Exp11 -> DQN Agent\n",
        "- layers (300, 175, 100)\n",
        "- iterations: 150k\n",
        "- learning rate: 0.001\n",
        "\n",
        "Results:\n",
        "- best avg return: -199.0\n",
        "- best avg steps: 199\n",
        "\n",
        "---\n",
        "Exp12 -> DQN Agent\n",
        "- layers (100, 50)\n",
        "- iterations: 150k\n",
        "- learning rate: 0.001\n",
        "\n",
        "Results:\n",
        "- best avg return: -96\n",
        "- best avg steps: 96"
      ]
    },
    {
      "cell_type": "code",
      "execution_count": null,
      "metadata": {
        "id": "6_CTbMwmrkT0"
      },
      "outputs": [],
      "source": [
        "#\n",
        "display = pyvirtualdisplay.Display(visible=0, size=(1400, 900)).start()\n"
      ]
    },
    {
      "cell_type": "markdown",
      "metadata": {
        "id": "O7YNXYUyrkT0"
      },
      "source": [
        "### Hyperparameters"
      ]
    },
    {
      "cell_type": "code",
      "execution_count": null,
      "metadata": {
        "id": "x3DfYG9GrkT1"
      },
      "outputs": [],
      "source": [
        "dqn_layer_params = (100, 50) #\n",
        "\n",
        "num_iterations = 150000\n",
        "\n",
        "initial_collect_steps = 100\n",
        "collect_steps_per_iteration = 1\n",
        "replay_buffer_max_length = 100000\n",
        "\n",
        "batch_size = 64\n",
        "learning_rate = 1e-3\n",
        "log_interval = 250\n",
        "\n",
        "num_episodes = 10\n",
        "eval_interval = 750"
      ]
    },
    {
      "cell_type": "markdown",
      "metadata": {
        "id": "eJZC9dFQrkT2"
      },
      "source": [
        "### Env"
      ]
    },
    {
      "cell_type": "code",
      "execution_count": null,
      "metadata": {
        "id": "TYHU6mAvrkT2"
      },
      "outputs": [],
      "source": [
        "env_name = \"MountainCar-v0\"\n",
        "env_dqn = suite_gym.load(env_name)\n",
        "env_dqn.reset()"
      ]
    },
    {
      "cell_type": "code",
      "execution_count": null,
      "metadata": {
        "id": "ftJznA_YrkT2"
      },
      "outputs": [],
      "source": [
        "PIL.Image.fromarray(env_dqn.render())"
      ]
    },
    {
      "cell_type": "code",
      "execution_count": null,
      "metadata": {
        "id": "POHGfr7brkT3"
      },
      "outputs": [],
      "source": [
        "print('Observation Space:')\n",
        "print(env_dqn.time_step_spec().observation)\n",
        "\n",
        "print('Action Space:')\n",
        "print(env_dqn.action_spec())\n"
      ]
    },
    {
      "cell_type": "markdown",
      "metadata": {
        "id": "k0yl-VVNrkT4"
      },
      "source": [
        "### Environments\n",
        "- written in python, need to be converted to tensorflow environments"
      ]
    },
    {
      "cell_type": "code",
      "execution_count": null,
      "metadata": {
        "id": "-I-WqlY6rkT4"
      },
      "outputs": [],
      "source": [
        "train_py_env = suite_gym.load(env_name)\n",
        "eval_py_env = suite_gym.load(env_name)"
      ]
    },
    {
      "cell_type": "code",
      "execution_count": null,
      "metadata": {
        "id": "Zec67DETrkT4"
      },
      "outputs": [],
      "source": [
        "train_env = tf_py_environment.TFPyEnvironment(train_py_env)\n",
        "eval_env = tf_py_environment.TFPyEnvironment(eval_py_env)"
      ]
    },
    {
      "cell_type": "markdown",
      "metadata": {
        "id": "zH0Xgoj_rkT5"
      },
      "source": [
        "### Agents"
      ]
    },
    {
      "cell_type": "markdown",
      "metadata": {
        "id": "Hy2vca1QrkT5"
      },
      "source": [
        "#### Layer Funcs"
      ]
    },
    {
      "cell_type": "code",
      "execution_count": null,
      "metadata": {
        "id": "heUXGKRorkT5"
      },
      "outputs": [],
      "source": [
        "def dense_layer(num_units, name= \"\"):\n",
        "    return tf.keras.layers.Dense(\n",
        "      num_units,\n",
        "      activation=tf.keras.activations.relu,\n",
        "      name=name\n",
        "      ,kernel_initializer=tf.keras.initializers.VarianceScaling(\n",
        "          scale=2.0, mode='fan_in', distribution='truncated_normal')\n",
        "      )"
      ]
    },
    {
      "cell_type": "code",
      "execution_count": null,
      "metadata": {
        "id": "VQPi7apvrkT6"
      },
      "outputs": [],
      "source": [
        "action_tensor_spec = tensor_spec.from_spec(env_dqn.action_spec())\n",
        "num_actions = action_tensor_spec.maximum - action_tensor_spec.minimum + 1\n",
        "\n",
        "# hidden layers\n",
        "dense_layers = [dense_layer(num_unit, f\"Layer_{i}\") for num_unit,i in zip(dqn_layer_params, range(len(dqn_layer_params)))]\n",
        "\n",
        "# last layer, with results\n",
        "q_value_layer = tf.keras.layers.Dense(\n",
        "    num_actions,\n",
        "    activation=None,\n",
        "    name = \"q_layer\"\n",
        "    ,kernel_initializer=tf.keras.initializers.RandomUniform(\n",
        "        minval=-0.03, maxval=0.03),\n",
        "    bias_initializer=tf.keras.initializers.Constant(-0.2)\n",
        "    )\n",
        "\n",
        "q_net = sequential.Sequential(dense_layers + [q_value_layer])"
      ]
    },
    {
      "cell_type": "markdown",
      "metadata": {
        "id": "-BOFh-1trkT6"
      },
      "source": [
        "### Creating an Agent"
      ]
    },
    {
      "cell_type": "code",
      "execution_count": null,
      "metadata": {
        "id": "EZUGstQsrkT6"
      },
      "outputs": [],
      "source": [
        "# choosing an optimizer, inputing the learning rate\n",
        "optimizer = tf.keras.optimizers.Adam(learning_rate=learning_rate)\n",
        "\n",
        "# step counter\n",
        "train_step_counter = tf.Variable(0)\n",
        "\n",
        "# create the agent object, feeding it with\n",
        "# observation and action space,\n",
        "# the network architecture,\n",
        "# the choosen optimizer and a loss function (TODO we might test multiple?)\n",
        "agent = dqn_agent.DqnAgent(\n",
        "    train_env.time_step_spec(),\n",
        "    train_env.action_spec(),\n",
        "    q_network=q_net,\n",
        "    optimizer=optimizer,\n",
        "    td_errors_loss_fn=common.element_wise_squared_loss,\n",
        "    train_step_counter=train_step_counter)\n",
        "\n",
        "agent.initialize()\n"
      ]
    },
    {
      "cell_type": "markdown",
      "metadata": {
        "id": "XJuNlkCGrkT6"
      },
      "source": [
        "### Policies"
      ]
    },
    {
      "cell_type": "code",
      "execution_count": null,
      "metadata": {
        "id": "bRaNUu3mrkT7"
      },
      "outputs": [],
      "source": [
        "eval_policy = agent.policy\n",
        "collect_policy = agent.collect_policy"
      ]
    },
    {
      "cell_type": "code",
      "execution_count": null,
      "metadata": {
        "id": "KUj1F36UrkT8"
      },
      "outputs": [],
      "source": [
        "random_policy = random_tf_policy.RandomTFPolicy(train_env.time_step_spec(),\n",
        "                                                train_env.action_spec())\n"
      ]
    },
    {
      "cell_type": "markdown",
      "metadata": {
        "id": "wcthozLbrkT8"
      },
      "source": [
        "### Buffer"
      ]
    },
    {
      "cell_type": "code",
      "execution_count": null,
      "metadata": {
        "id": "APgyGxZtrkT9"
      },
      "outputs": [],
      "source": [
        "table_name = 'uniform_table'\n",
        "replay_buffer_signature = tensor_spec.from_spec(\n",
        "      agent.collect_data_spec)\n",
        "replay_buffer_signature = tensor_spec.add_outer_dim(\n",
        "    replay_buffer_signature)\n",
        "\n",
        "table = reverb.Table(\n",
        "    table_name,\n",
        "    max_size=replay_buffer_max_length,\n",
        "    sampler=reverb.selectors.Uniform(),\n",
        "    remover=reverb.selectors.Fifo(),\n",
        "    rate_limiter=reverb.rate_limiters.MinSize(1),\n",
        "    signature=replay_buffer_signature)\n",
        "\n",
        "reverb_server = reverb.Server([table])\n",
        "\n",
        "replay_buffer = reverb_replay_buffer.ReverbReplayBuffer(\n",
        "    agent.collect_data_spec,\n",
        "    table_name=table_name,\n",
        "    sequence_length=2,\n",
        "    local_server=reverb_server)\n",
        "\n",
        "rb_observer = reverb_utils.ReverbAddTrajectoryObserver(\n",
        "  replay_buffer.py_client,\n",
        "  table_name,\n",
        "  sequence_length=2)\n"
      ]
    },
    {
      "cell_type": "markdown",
      "metadata": {
        "id": "WJ_zf9U_rkT9"
      },
      "source": [
        "### Training the agent"
      ]
    },
    {
      "cell_type": "code",
      "execution_count": null,
      "metadata": {
        "id": "Fg42qypOrkT-"
      },
      "outputs": [],
      "source": [
        "def compute_avg_return(environment, policy, num_episodes=10):\n",
        "\n",
        "  total_return = 0.0\n",
        "  total_steps = 0\n",
        "\n",
        "  for _ in range(num_episodes):\n",
        "\n",
        "    time_step = environment.reset()\n",
        "    episode_return = 0.0\n",
        "    episode_steps = 0\n",
        "\n",
        "    while not time_step.is_last():\n",
        "      episode_steps += 1\n",
        "\n",
        "      action_step = policy.action(time_step)\n",
        "      time_step = environment.step(action_step.action)\n",
        "      episode_return += time_step.reward\n",
        "\n",
        "    total_return += episode_return\n",
        "    total_steps += episode_steps\n",
        "    # print(f\"ep steps {episode_steps}\")\n",
        "\n",
        "  avg_return = total_return / num_episodes\n",
        "  avg_steps = total_steps / num_episodes\n",
        "\n",
        "\n",
        "  return avg_return.numpy()[0], avg_steps\n"
      ]
    },
    {
      "cell_type": "markdown",
      "metadata": {
        "id": "cZd3qzXzrkT-"
      },
      "source": [
        "- Totally need do review this code below, i still don't understand the buffer\n",
        "- Just copied it to see if it runs on colab!!"
      ]
    },
    {
      "cell_type": "code",
      "execution_count": null,
      "metadata": {
        "id": "FTauPMyQACdf"
      },
      "outputs": [],
      "source": [
        "py_driver.PyDriver(\n",
        "    env_dqn,\n",
        "    py_tf_eager_policy.PyTFEagerPolicy(\n",
        "      random_policy, use_tf_function=True),\n",
        "    [rb_observer],\n",
        "    max_steps=initial_collect_steps).run(train_py_env.reset())\n"
      ]
    },
    {
      "cell_type": "code",
      "execution_count": null,
      "metadata": {
        "id": "zsOxa4darkT-"
      },
      "outputs": [],
      "source": [
        "dataset = replay_buffer.as_dataset(\n",
        "    num_parallel_calls=3,\n",
        "    sample_batch_size=batch_size,\n",
        "    num_steps=2).prefetch(3)\n"
      ]
    },
    {
      "cell_type": "code",
      "execution_count": null,
      "metadata": {
        "id": "Fj-VqOpkrkT_"
      },
      "outputs": [],
      "source": [
        "# print(replay_buffer)\n",
        "# print(dataset)\n",
        "iterator = iter(dataset)"
      ]
    },
    {
      "cell_type": "code",
      "execution_count": null,
      "metadata": {
        "id": "9heZwdYIgcwN"
      },
      "outputs": [],
      "source": [
        "# Baseline Performance with a random policy for a DQN-Agent\n",
        "compute_avg_return(eval_env, random_policy, num_episodes)"
      ]
    },
    {
      "cell_type": "code",
      "execution_count": null,
      "metadata": {
        "id": "kjDOok83rkT_"
      },
      "outputs": [],
      "source": [
        "# Optimize by wrapping some of the code in a graph using TF function.\n",
        "agent.train = common.function(agent.train)\n",
        "\n",
        "# Reset the train step.\n",
        "agent.train_step_counter.assign(0)\n",
        "\n",
        "# Evaluate the agent's policy once before training.\n",
        "avg_return , avg_steps= compute_avg_return(eval_env, agent.policy, num_episodes)\n",
        "returns = [avg_return]\n",
        "steps = [avg_steps]\n",
        "losses = []\n",
        "\n",
        "# Reset the environment.\n",
        "time_step = train_py_env.reset()\n",
        "\n",
        "# Create a driver to collect experience.\n",
        "collect_driver = py_driver.PyDriver(\n",
        "    env_dqn,\n",
        "    py_tf_eager_policy.PyTFEagerPolicy(\n",
        "      agent.collect_policy, use_tf_function=True),\n",
        "    [rb_observer],\n",
        "    max_steps=collect_steps_per_iteration)\n",
        "\n",
        "for _ in range(num_iterations):\n",
        "\n",
        "  # Collect a few steps and save to the replay buffer.\n",
        "  time_step, _ = collect_driver.run(time_step)\n",
        "\n",
        "  # Sample a batch of data from the buffer and update the agent's network.\n",
        "  experience, unused_info = next(iterator)\n",
        "  train_loss = agent.train(experience).loss\n",
        "\n",
        "  step = agent.train_step_counter.numpy()\n",
        "\n",
        "  losses.append(train_loss)\n",
        "  if step % log_interval == 0:\n",
        "    print('step = {0}: loss = {1}'.format(step, train_loss))\n",
        "\n",
        "  if step % eval_interval == 0:\n",
        "    avg_return, avg_steps = compute_avg_return(eval_env, agent.policy, num_episodes)\n",
        "    print('step = {0}: Average Return = {1}, Average Steps {2}'.format(step, avg_return, avg_steps))\n",
        "    returns.append(avg_return)\n",
        "    steps.append(avg_steps)\n"
      ]
    },
    {
      "cell_type": "markdown",
      "metadata": {
        "id": "-J56t0m7BozX"
      },
      "source": [
        "### Plots"
      ]
    },
    {
      "cell_type": "code",
      "execution_count": null,
      "metadata": {
        "id": "KwCI-hVvBoBS"
      },
      "outputs": [],
      "source": [
        "iterations = range(0, num_iterations + 1, eval_interval)\n",
        "\n",
        "print(f\"Best Avg Return: {max(returns)}\")\n",
        "print(f\"Best Avg Steps: {min(steps)}\")\n",
        "plt.plot(iterations, returns)\n",
        "plt.ylabel('Average Return')\n",
        "plt.xlabel('Iterations')\n",
        "plt.ylim(top=25)\n",
        "plt.show()\n",
        "\n",
        "iterations_log = range(0, num_iterations)\n",
        "plt.scatter(iterations_log, losses)\n",
        "plt.ylabel('Losses')\n",
        "plt.xlabel('Iterations')\n",
        "# plt.ylim(top=250)"
      ]
    },
    {
      "cell_type": "markdown",
      "metadata": {
        "id": "UvWLHCgAQGFp"
      },
      "source": [
        "### Videos"
      ]
    },
    {
      "cell_type": "code",
      "execution_count": null,
      "metadata": {
        "id": "_4X1_r1tQHv6"
      },
      "outputs": [],
      "source": [
        "def embed_mp4(filename):\n",
        "  \"\"\"Embeds an mp4 file in the notebook.\"\"\"\n",
        "  video = open(filename,'rb').read()\n",
        "  b64 = base64.b64encode(video)\n",
        "  tag = '''\n",
        "  <video width=\"640\" height=\"480\" controls>\n",
        "    <source src=\"data:video/mp4;base64,{0}\" type=\"video/mp4\">\n",
        "  Your browser does not support the video tag.\n",
        "  </video>'''.format(b64.decode())\n",
        "\n",
        "  return IPython.display.HTML(tag)\n"
      ]
    },
    {
      "cell_type": "code",
      "execution_count": null,
      "metadata": {
        "id": "4m2eHZR6YPyh"
      },
      "outputs": [],
      "source": [
        "def create_policy_eval_video_qlearn(filename, num_episodes=5, fps=30):\n",
        "  filename = filename + \".mp4\"\n",
        "  with imageio.get_writer(filename, fps=fps) as video:\n",
        "    for _ in range(num_episodes):\n",
        "\n",
        "      video.append_data(env.render())\n",
        "\n",
        "      #initialize the state by resetting the environment\n",
        "      s,_ = env.reset()\n",
        "      total_reward = 0\n",
        "      steps = 0\n",
        "\n",
        "      # discretize\n",
        "      s = [get_index_position_batch(s[0], position_batches), get_index_velocity_batch(s[1], velocity_batches)]\n",
        "\n",
        "      #for each step in the episode\n",
        "      for t in range(num_steps):\n",
        "\n",
        "          #select the action using optimal policy table\n",
        "          a = int(optimal_policy[s[0], s[1]])\n",
        "\n",
        "          #perform the selected action and store the next state information\n",
        "          s_, _ , done, _, _ = env.step(a)\n",
        "\n",
        "          # discretize\n",
        "          s_ = [get_index_position_batch(s_[0], position_batches), get_index_velocity_batch(s_[1], velocity_batches)]\n",
        "\n",
        "          #update current state to next state\n",
        "          s = s_\n",
        "\n",
        "          video.append_data(env.render())\n",
        "\n",
        "          #if the current state is the terminal state then break\n",
        "          if done:\n",
        "              break\n",
        "\n",
        "\n",
        "  return embed_mp4(filename)"
      ]
    },
    {
      "cell_type": "code",
      "execution_count": null,
      "metadata": {
        "id": "G2c9VzGHQTPk"
      },
      "outputs": [],
      "source": [
        "def create_policy_eval_video(policy, filename, num_episodes=5, fps=30):\n",
        "  filename = filename + \".mp4\"\n",
        "  with imageio.get_writer(filename, fps=fps) as video:\n",
        "    for _ in range(num_episodes):\n",
        "      time_step = eval_env.reset()\n",
        "      video.append_data(eval_py_env.render())\n",
        "      while not time_step.is_last():\n",
        "        action_step = policy.action(time_step)\n",
        "        time_step = eval_env.step(action_step.action)\n",
        "        video.append_data(eval_py_env.render())\n",
        "  return embed_mp4(filename)"
      ]
    },
    {
      "cell_type": "code",
      "execution_count": null,
      "metadata": {
        "id": "p0p53BCHB8_h"
      },
      "outputs": [],
      "source": [
        "create_policy_eval_video(agent.policy, \"trained-dqn-agent\")"
      ]
    },
    {
      "cell_type": "code",
      "execution_count": null,
      "metadata": {
        "id": "wRpu7DKAjZhc"
      },
      "outputs": [],
      "source": [
        "create_policy_eval_video_qlearn(\"trained-qlearn-agent\")"
      ]
    },
    {
      "cell_type": "code",
      "execution_count": null,
      "metadata": {
        "id": "EhEJTfktQxZ4"
      },
      "outputs": [],
      "source": [
        "create_policy_eval_video(random_policy, \"random-dqn-agent\")\n"
      ]
    }
  ],
  "metadata": {
    "colab": {
      "provenance": []
    },
    "kernelspec": {
      "display_name": "Python 3",
      "name": "python3"
    },
    "language_info": {
      "codemirror_mode": {
        "name": "ipython",
        "version": 3
      },
      "file_extension": ".py",
      "mimetype": "text/x-python",
      "name": "python",
      "nbconvert_exporter": "python",
      "pygments_lexer": "ipython3",
      "version": "3.11.6"
    },
    "vscode": {
      "interpreter": {
        "hash": "e7370f93d1d0cde622a1f8e1c04877d8463912d04d973331ad4851f04de6915a"
      }
    }
  },
  "nbformat": 4,
  "nbformat_minor": 0
}

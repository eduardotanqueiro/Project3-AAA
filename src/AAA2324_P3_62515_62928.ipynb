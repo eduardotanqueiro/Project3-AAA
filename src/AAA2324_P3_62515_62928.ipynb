{
 "cells": [
  {
   "cell_type": "markdown",
   "metadata": {},
   "source": [
    "# Advanced Machine Learning - Project 2\n",
    "## Mountain Car Problem with Reinforcement Learning\n",
    "\n",
    "- Eduardo Carneiro - 62515\n",
    "- Til Dietrich - 62928"
   ]
  },
  {
   "cell_type": "markdown",
   "metadata": {},
   "source": [
    "# TODO\n",
    "- review Q-Learning approach and see if it is working properly\n",
    "- hyper-parameter tuning for Q-Learning (e.g. grid search)\n",
    "- understand if results from Q-Learn make any sense\n",
    "\n",
    "- Deep-Q Learning"
   ]
  },
  {
   "cell_type": "code",
   "execution_count": 44,
   "metadata": {},
   "outputs": [],
   "source": [
    "# imports\n",
    "import matplotlib.pyplot as plt\n",
    "import numpy as np\n",
    "import pandas as pd\n",
    "import random\n",
    "import gymnasium as gym\n",
    "from gymnasium.envs.toy_text.frozen_lake import generate_random_map\n",
    "import seaborn as sns\n",
    "\n",
    "import pyvirtualdisplay\n",
    "import PIL\n",
    "\n",
    "import tensorflow as tf\n",
    "from tf_agents.agents.dqn import dqn_agent\n",
    "from tf_agents.drivers import py_driver\n",
    "from tf_agents.environments import suite_gym\n",
    "from tf_agents.environments import tf_py_environment\n",
    "from tf_agents.eval import metric_utils\n",
    "from tf_agents.metrics import tf_metrics\n",
    "from tf_agents.networks import sequential\n",
    "from tf_agents.policies import py_tf_eager_policy\n",
    "from tf_agents.policies import random_tf_policy\n",
    "from tf_agents.replay_buffers import reverb_replay_buffer\n",
    "from tf_agents.replay_buffers import reverb_utils\n",
    "from tf_agents.trajectories import trajectory\n",
    "from tf_agents.specs import tensor_spec\n",
    "from tf_agents.utils import common"
   ]
  },
  {
   "cell_type": "code",
   "execution_count": 2,
   "metadata": {},
   "outputs": [],
   "source": [
    "sns.set(style='whitegrid', palette='muted', context='paper')"
   ]
  },
  {
   "cell_type": "markdown",
   "metadata": {},
   "source": [
    "## Table of Contents\n",
    "### 1. Q-Learning\n",
    "### 2. Deep-Q Learning"
   ]
  },
  {
   "cell_type": "markdown",
   "metadata": {},
   "source": [
    "## 1. Q-Learning"
   ]
  },
  {
   "cell_type": "code",
   "execution_count": 3,
   "metadata": {},
   "outputs": [],
   "source": [
    "# Implementation based on TP10 notebook\n",
    "# Still needs checking"
   ]
  },
  {
   "cell_type": "code",
   "execution_count": 4,
   "metadata": {},
   "outputs": [],
   "source": [
    "env = gym.make(\"MountainCar-v0\",render_mode='rgb_array')"
   ]
  },
  {
   "cell_type": "code",
   "execution_count": 5,
   "metadata": {},
   "outputs": [
    {
     "data": {
      "image/png": "[encoded data removed]",
      "text/plain": [
       "<Figure size 640x480 with 1 Axes>"
      ]
     },
     "metadata": {},
     "output_type": "display_data"
    }
   ],
   "source": [
    "env.reset()\n",
    "plt.imshow(env.render())\n",
    "plt.axis('off')\n",
    "plt.show()"
   ]
  },
  {
   "cell_type": "code",
   "execution_count": 6,
   "metadata": {},
   "outputs": [
    {
     "name": "stdout",
     "output_type": "stream",
     "text": [
      "Box([-1.2  -0.07], [0.6  0.07], (2,), float32) Discrete(3)\n"
     ]
    }
   ],
   "source": [
    "print(env.observation_space, env.action_space)"
   ]
  },
  {
   "cell_type": "code",
   "execution_count": 7,
   "metadata": {},
   "outputs": [],
   "source": [
    "def discretize(interval, number_batches = -1, batch_percentage = 0.1):\n",
    "\n",
    "    sum = abs(interval[0]) + abs(interval[1])\n",
    "\n",
    "    if number_batches != -1:\n",
    "        batch_size = sum/number_batches\n",
    "    else:\n",
    "        batch_size = batch_percentage*sum\n",
    "\n",
    "    return np.arange(interval[0], interval[1], batch_size)"
   ]
  },
  {
   "cell_type": "markdown",
   "metadata": {},
   "source": [
    "- P -> Number of discrete positions\n",
    "- V -> Number of discrete velocities"
   ]
  },
  {
   "cell_type": "code",
   "execution_count": 8,
   "metadata": {},
   "outputs": [],
   "source": [
    "# TODO in the end, put all \"global\" parameters in one cell for easier manipulation ???"
   ]
  },
  {
   "cell_type": "code",
   "execution_count": 9,
   "metadata": {},
   "outputs": [
    {
     "name": "stdout",
     "output_type": "stream",
     "text": [
      "100 [-1.20000005 -1.18200005 -1.16400005 -1.14600005 -1.12800004 -1.11000004\n",
      " -1.09200004 -1.07400004 -1.05600004 -1.03800004 -1.02000004 -1.00200004\n",
      " -0.98400004 -0.96600004 -0.94800004 -0.93000004 -0.91200004 -0.89400004\n",
      " -0.87600003 -0.85800003 -0.84000003 -0.82200003 -0.80400003 -0.78600003\n",
      " -0.76800003 -0.75000003 -0.73200003 -0.71400003 -0.69600003 -0.67800003\n",
      " -0.66000003 -0.64200003 -0.62400002 -0.60600002 -0.58800002 -0.57000002\n",
      " -0.55200002 -0.53400002 -0.51600002 -0.49800002 -0.48000002 -0.46200002\n",
      " -0.44400002 -0.42600002 -0.40800002 -0.39000002 -0.37200001 -0.35400001\n",
      " -0.33600001 -0.31800001 -0.30000001 -0.28200001 -0.26400001 -0.24600001\n",
      " -0.22800001 -0.21000001 -0.19200001 -0.17400001 -0.15600001 -0.13800001\n",
      " -0.12       -0.102      -0.084      -0.066      -0.048      -0.03\n",
      " -0.012       0.006       0.024       0.042       0.06        0.078\n",
      "  0.096       0.114       0.13200001  0.15000001  0.16800001  0.18600001\n",
      "  0.20400001  0.22200001  0.24000001  0.25800001  0.27600001  0.29400001\n",
      "  0.31200001  0.33000001  0.34800001  0.36600001  0.38400002  0.40200002\n",
      "  0.42000002  0.43800002  0.45600002  0.47400002  0.49200002  0.51000002\n",
      "  0.52800002  0.54600002  0.56400002  0.58200002]\n",
      "100 [-7.00000003e-02 -6.86000003e-02 -6.72000003e-02 -6.58000003e-02\n",
      " -6.44000003e-02 -6.30000003e-02 -6.16000003e-02 -6.02000003e-02\n",
      " -5.88000003e-02 -5.74000002e-02 -5.60000002e-02 -5.46000002e-02\n",
      " -5.32000002e-02 -5.18000002e-02 -5.04000002e-02 -4.90000002e-02\n",
      " -4.76000002e-02 -4.62000002e-02 -4.48000002e-02 -4.34000002e-02\n",
      " -4.20000002e-02 -4.06000002e-02 -3.92000002e-02 -3.78000002e-02\n",
      " -3.64000002e-02 -3.50000001e-02 -3.36000001e-02 -3.22000001e-02\n",
      " -3.08000001e-02 -2.94000001e-02 -2.80000001e-02 -2.66000001e-02\n",
      " -2.52000001e-02 -2.38000001e-02 -2.24000001e-02 -2.10000001e-02\n",
      " -1.96000001e-02 -1.82000001e-02 -1.68000001e-02 -1.54000001e-02\n",
      " -1.40000001e-02 -1.26000001e-02 -1.12000000e-02 -9.80000004e-03\n",
      " -8.40000004e-03 -7.00000003e-03 -5.60000002e-03 -4.20000002e-03\n",
      " -2.80000001e-03 -1.40000001e-03  1.11022302e-16  1.40000001e-03\n",
      "  2.80000001e-03  4.20000002e-03  5.60000002e-03  7.00000003e-03\n",
      "  8.40000004e-03  9.80000004e-03  1.12000000e-02  1.26000001e-02\n",
      "  1.40000001e-02  1.54000001e-02  1.68000001e-02  1.82000001e-02\n",
      "  1.96000001e-02  2.10000001e-02  2.24000001e-02  2.38000001e-02\n",
      "  2.52000001e-02  2.66000001e-02  2.80000001e-02  2.94000001e-02\n",
      "  3.08000001e-02  3.22000001e-02  3.36000001e-02  3.50000001e-02\n",
      "  3.64000002e-02  3.78000002e-02  3.92000002e-02  4.06000002e-02\n",
      "  4.20000002e-02  4.34000002e-02  4.48000002e-02  4.62000002e-02\n",
      "  4.76000002e-02  4.90000002e-02  5.04000002e-02  5.18000002e-02\n",
      "  5.32000002e-02  5.46000002e-02  5.60000002e-02  5.74000002e-02\n",
      "  5.88000003e-02  6.02000003e-02  6.16000003e-02  6.30000003e-02\n",
      "  6.44000003e-02  6.58000003e-02  6.72000003e-02  6.86000003e-02]\n"
     ]
    }
   ],
   "source": [
    "BATCH_PERC = 0.01\n",
    "\n",
    "position_batches = discretize((env.observation_space.low[0],env.observation_space.high[0]), batch_percentage=BATCH_PERC)\n",
    "P = len(position_batches)\n",
    "\n",
    "velocity_batches = discretize((env.observation_space.low[1],env.observation_space.high[1]), batch_percentage=BATCH_PERC)\n",
    "V = len(velocity_batches)\n",
    "\n",
    "print(P, position_batches)\n",
    "print(V, velocity_batches)"
   ]
  },
  {
   "cell_type": "code",
   "execution_count": 10,
   "metadata": {},
   "outputs": [],
   "source": [
    "def get_index_position_batch(position):\n",
    "\n",
    "    l = len(position_batches)\n",
    "\n",
    "    for low in range(l):\n",
    "        \n",
    "        if position < position_batches[low]:\n",
    "            return low-1\n",
    "\n",
    "    return l-1\n",
    "\n",
    "def get_index_velocity_batch(velocity):\n",
    "\n",
    "    l = len(position_batches)\n",
    "    \n",
    "    for low in range(l):\n",
    "        \n",
    "        if velocity < position_batches[low]:\n",
    "            return low-1\n",
    "\n",
    "    return l-1"
   ]
  },
  {
   "cell_type": "code",
   "execution_count": 11,
   "metadata": {},
   "outputs": [
    {
     "name": "stdout",
     "output_type": "stream",
     "text": [
      "(100, 100, 3)\n"
     ]
    }
   ],
   "source": [
    "q_table = np.zeros((P, V, env.action_space.n))\n",
    "print(q_table.shape)"
   ]
  },
  {
   "cell_type": "code",
   "execution_count": 12,
   "metadata": {},
   "outputs": [],
   "source": [
    "def epsilon_greedy(state, epsilon):\n",
    "    global q_table\n",
    "    \n",
    "    if random.random() < epsilon:\n",
    "        return env.action_space.sample()\n",
    "    else:\n",
    "        # assuming state is a tuple with (position, velocity)\n",
    "        return np.argmax(q_table[state[0], state[1], :])"
   ]
  },
  {
   "cell_type": "code",
   "execution_count": 15,
   "metadata": {},
   "outputs": [],
   "source": [
    "#hyper-parameters\n",
    "alpha = 0.8 #learning rate\n",
    "gamma = 0.95\n",
    "epsilon = 0.1\n",
    "num_episodes = 10001\n",
    "num_steps = 1000"
   ]
  },
  {
   "cell_type": "code",
   "execution_count": null,
   "metadata": {},
   "outputs": [],
   "source": [
    "\n",
    "# grid search\n",
    "# for alpha in [0.7, 0.8, 0.9]:\n",
    "#     for gamma in [0.85, 0.9, 0.95]:\n",
    "#         for epsilon in [0.05, 0.1, 0.15]:\n",
    "\n",
    "arr_total_rewards = []\n",
    "arr_steps = []\n",
    "arr_done = np.zeros(num_episodes)\n",
    "\n",
    "# Q-Learning Algorithm\n",
    "# for each episode:\n",
    "for i in range(num_episodes):\n",
    "\n",
    "    #initialize the state by resetting the environment\n",
    "    s,_ = env.reset()\n",
    "    total_reward = 0\n",
    "    steps = 0\n",
    "\n",
    "    # discretize\n",
    "    s = [get_index_position_batch(s[0]), get_index_velocity_batch(s[1])]\n",
    "\n",
    "    #for each step in the episode\n",
    "    for t in range(num_steps):\n",
    "\n",
    "        #select the action using the epsilon-greedy policy\n",
    "        a = epsilon_greedy(s,epsilon)\n",
    "\n",
    "        #perform the selected action and store the next state information\n",
    "        s_, r, done, _, _ = env.step(a)\n",
    "\n",
    "        # discretize\n",
    "        s_ = [get_index_position_batch(s_[0]), get_index_velocity_batch(s_[1])]\n",
    "\n",
    "        #first, select the action a dash which has a maximum Q value in the next state\n",
    "        v_opt = np.argmax(q_table[s_[0], s_[1], :])\n",
    "        \n",
    "        # we calculate the Q value of previous state using our update rule\n",
    "        q_table[s[0], s[1], a] = q_table[s[0], s[1], a] + alpha * (r + gamma * (v_opt) - q_table[s[0], s[1], a])\n",
    "        \n",
    "        #update current state to next state\n",
    "        s = s_\n",
    "\n",
    "        #info\n",
    "        total_reward += r\n",
    "        steps += 1\n",
    "\n",
    "        #if the current state is the terminal state then break\n",
    "        if done:\n",
    "            steps = t\n",
    "            arr_done[i] = 1\n",
    "            break\n",
    "\n",
    "    arr_total_rewards.append(total_reward)\n",
    "    arr_steps.append(steps)\n",
    "\n",
    "    if(i%1000 == 0):\n",
    "        print(f\"Episode {i} | Total Reward {total_reward} | Steps {steps}\")"
   ]
  },
  {
   "cell_type": "code",
   "execution_count": 19,
   "metadata": {},
   "outputs": [
    {
     "name": "stdout",
     "output_type": "stream",
     "text": [
      "-440.0\n"
     ]
    },
    {
     "data": {
      "image/png": "[encoded data removed]",
      "text/plain": [
       "<Figure size 640x480 with 1 Axes>"
      ]
     },
     "metadata": {},
     "output_type": "display_data"
    },
    {
     "data": {
      "image/png": "[encoded data removed]",
      "text/plain": [
       "<Figure size 640x480 with 1 Axes>"
      ]
     },
     "metadata": {},
     "output_type": "display_data"
    },
    {
     "data": {
      "image/png": "[encoded data removed]",
      "text/plain": [
       "<Figure size 640x480 with 1 Axes>"
      ]
     },
     "metadata": {},
     "output_type": "display_data"
    }
   ],
   "source": [
    "print(max(arr_total_rewards))\n",
    "\n",
    "plt.ylabel(\"Total Reward\")\n",
    "plt.plot(range(0,num_episodes),arr_total_rewards)\n",
    "plt.show()\n",
    "\n",
    "plt.ylabel(\"Number Steps\")\n",
    "plt.plot(range(0,num_episodes),arr_steps)\n",
    "plt.show()\n",
    "\n",
    "plt.ylabel(\"Done?\")\n",
    "plt.plot(range(0,num_episodes),arr_done)\n",
    "plt.show()"
   ]
  },
  {
   "cell_type": "code",
   "execution_count": null,
   "metadata": {},
   "outputs": [
    {
     "name": "stdout",
     "output_type": "stream",
     "text": [
      "[[0. 0. 0. ... 0. 0. 0.]\n",
      " [0. 0. 0. ... 0. 0. 0.]\n",
      " [0. 0. 0. ... 0. 0. 0.]\n",
      " ...\n",
      " [0. 0. 0. ... 0. 0. 0.]\n",
      " [0. 0. 0. ... 0. 0. 0.]\n",
      " [0. 0. 0. ... 0. 0. 0.]]\n"
     ]
    }
   ],
   "source": [
    "# Get the optimal policy\n",
    "# print(q_table)\n",
    "optimal_policy = np.zeros((P,V))\n",
    "for pos in range(P):\n",
    "    for vel in range(V):\n",
    "        optimal_policy[pos,vel] = np.argmax(q_table[pos, vel, :])\n",
    "\n",
    "print(optimal_policy)"
   ]
  },
  {
   "cell_type": "markdown",
   "metadata": {},
   "source": [
    "## 2. Deep-Q Learning\n",
    "\n",
    "- Following [the tutorial](https://www.tensorflow.org/agents/tutorials/1_dqn_tutorial?hl=en#introduction) and comparing with TP8 notebook, to understand what I'm doing"
   ]
  },
  {
   "cell_type": "code",
   "execution_count": null,
   "metadata": {},
   "outputs": [],
   "source": [
    "display = pyvirtualdisplay.Display(visible=0, size=(1400, 900)).start()\n"
   ]
  },
  {
   "cell_type": "markdown",
   "metadata": {},
   "source": [
    "### Hyperparameters"
   ]
  },
  {
   "cell_type": "code",
   "execution_count": 51,
   "metadata": {},
   "outputs": [],
   "source": [
    "dqn_layer_params = (4,5) # Layer_1: 4 units | Layer_2: 5 units\n",
    "learning_rate = 0.8 # alpha"
   ]
  },
  {
   "cell_type": "markdown",
   "metadata": {},
   "source": [
    "### Env"
   ]
  },
  {
   "cell_type": "code",
   "execution_count": 41,
   "metadata": {},
   "outputs": [],
   "source": [
    "env_name = \"MountainCar-v0\"\n",
    "env_dqn = suite_gym.load(env_name)"
   ]
  },
  {
   "cell_type": "code",
   "execution_count": 31,
   "metadata": {},
   "outputs": [
    {
     "data": {
      "image/jpeg": "[encoded data removed]",
      "image/png": "[encoded data removed]",
      "text/plain": [
       "<PIL.Image.Image image mode=RGB size=600x400>"
      ]
     },
     "execution_count": 31,
     "metadata": {},
     "output_type": "execute_result"
    }
   ],
   "source": [
    "env.reset()\n",
    "PIL.Image.fromarray(env.render())"
   ]
  },
  {
   "cell_type": "code",
   "execution_count": 34,
   "metadata": {},
   "outputs": [
    {
     "name": "stdout",
     "output_type": "stream",
     "text": [
      "Observation Space:\n",
      "BoundedArraySpec(shape=(2,), dtype=dtype('float32'), name='observation', minimum=[-1.2  -0.07], maximum=[0.6  0.07])\n",
      "Action Space:\n",
      "BoundedArraySpec(shape=(), dtype=dtype('int64'), name='action', minimum=0, maximum=2)\n"
     ]
    }
   ],
   "source": [
    "print('Observation Space:')\n",
    "print(env_dqn.time_step_spec().observation)\n",
    "\n",
    "\n",
    "print('Action Space:')\n",
    "print(env_dqn.action_spec())\n"
   ]
  },
  {
   "cell_type": "markdown",
   "metadata": {},
   "source": [
    "### Environments\n",
    "- written in python, need to be converted to tensorflow environments"
   ]
  },
  {
   "cell_type": "code",
   "execution_count": 42,
   "metadata": {},
   "outputs": [],
   "source": [
    "train_py_env = suite_gym.load(env_name)\n",
    "eval_py_env = suite_gym.load(env_name)"
   ]
  },
  {
   "cell_type": "code",
   "execution_count": 43,
   "metadata": {},
   "outputs": [],
   "source": [
    "train_env = tf_py_environment.TFPyEnvironment(train_py_env)\n",
    "eval_env = tf_py_environment.TFPyEnvironment(eval_py_env)"
   ]
  },
  {
   "cell_type": "markdown",
   "metadata": {},
   "source": [
    "### Agents"
   ]
  },
  {
   "cell_type": "markdown",
   "metadata": {},
   "source": [
    "#### Layer Funcs"
   ]
  },
  {
   "cell_type": "code",
   "execution_count": 46,
   "metadata": {},
   "outputs": [],
   "source": [
    "def dense_layer(num_units, name= \"\"):\n",
    "    return tf.keras.layers.Dense(\n",
    "      num_units,\n",
    "      activation=tf.keras.activations.relu,\n",
    "      name= name)"
   ]
  },
  {
   "cell_type": "code",
   "execution_count": 50,
   "metadata": {},
   "outputs": [],
   "source": [
    "action_tensor_spec = tensor_spec.from_spec(env_dqn.action_spec())\n",
    "num_actions = action_tensor_spec.maximum - action_tensor_spec.minimum + 1\n",
    "\n",
    "# hidden layers\n",
    "dense_layers = [dense_layer(num_unit, f\"Layer_{i}\") for num_unit,i in zip(dqn_layer_params, range(len(dqn_layer_params)))]\n",
    "\n",
    "# last layer, with results\n",
    "q_value_layer = tf.keras.layers.Dense(\n",
    "    num_actions,\n",
    "    activation=None,\n",
    "    name = \"q_layer\")\n",
    "\n",
    "q_net = sequential.Sequential(dense_layers + [q_value_layer])"
   ]
  },
  {
   "cell_type": "markdown",
   "metadata": {},
   "source": [
    "### Creating an Agent"
   ]
  },
  {
   "cell_type": "code",
   "execution_count": 52,
   "metadata": {},
   "outputs": [],
   "source": [
    "# choosing an optimizer, inputing the learning rate\n",
    "optimizer = tf.keras.optimizers.Adam(learning_rate=learning_rate)\n",
    "\n",
    "# step counter\n",
    "train_step_counter = tf.Variable(0)\n",
    "\n",
    "# create the agent object, feeding it with\n",
    "# observation and action space,\n",
    "# the network architecture,\n",
    "# the choosen optimizer and a loss function (TODO we might test multiple?)\n",
    "agent = dqn_agent.DqnAgent(\n",
    "    train_env.time_step_spec(),\n",
    "    train_env.action_spec(),\n",
    "    q_network=q_net,\n",
    "    optimizer=optimizer,\n",
    "    td_errors_loss_fn=common.element_wise_squared_loss,\n",
    "    train_step_counter=train_step_counter)\n",
    "\n",
    "agent.initialize()\n"
   ]
  },
  {
   "cell_type": "markdown",
   "metadata": {},
   "source": [
    "### Policies"
   ]
  },
  {
   "cell_type": "code",
   "execution_count": 53,
   "metadata": {},
   "outputs": [],
   "source": [
    "# ?!?!??!\n",
    "eval_policy = agent.policy\n",
    "collect_policy = agent.collect_policy"
   ]
  },
  {
   "cell_type": "code",
   "execution_count": 54,
   "metadata": {},
   "outputs": [
    {
     "name": "stdout",
     "output_type": "stream",
     "text": [
      "<tf_agents.policies.greedy_policy.GreedyPolicy object at 0x000001FAE40BDA90>\n",
      "<tf_agents.policies.epsilon_greedy_policy.EpsilonGreedyPolicy object at 0x000001FAE455D410>\n"
     ]
    }
   ],
   "source": [
    "print(eval_policy)\n",
    "print(collect_policy)"
   ]
  }
 ],
 "metadata": {
  "kernelspec": {
   "display_name": "Python 3.11.3 ('venv_AML': venv)",
   "language": "python",
   "name": "python3"
  },
  "language_info": {
   "codemirror_mode": {
    "name": "ipython",
    "version": 3
   },
   "file_extension": ".py",
   "mimetype": "text/x-python",
   "name": "python",
   "nbconvert_exporter": "python",
   "pygments_lexer": "ipython3",
   "version": "3.11.3"
  },
  "orig_nbformat": 4,
  "vscode": {
   "interpreter": {
    "hash": "4eafdcabcab5e2c8e72e52303a36ecfec0b86d7d5715287c3a25602a4657e616"
   }
  }
 },
 "nbformat": 4,
 "nbformat_minor": 2
}

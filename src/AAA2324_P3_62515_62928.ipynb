{
  "cells": [
    {
      "cell_type": "markdown",
      "metadata": {
        "id": "njYfCiv3rkTc"
      },
      "source": [
        "# Advanced Machine Learning - Project 2\n",
        "## Mountain Car Problem with Reinforcement Learning\n",
        "\n",
        "- Eduardo Carneiro - 62515\n",
        "- Til Dietrich - 62928"
      ]
    },
    {
      "cell_type": "markdown",
      "metadata": {
        "id": "beHiK3nDrWeU"
      },
      "source": [
        "## Possibly useful resources:\n",
        "- Hyperparameter tuning in RL: https://arxiv.org/pdf/2306.01324.pdf"
      ]
    },
    {
      "cell_type": "markdown",
      "metadata": {
        "id": "opLYtqQmrkTg"
      },
      "source": [
        "# TODO\n",
        "- hyper-parameter tuning for Q-Learning (e.g. grid search)\n",
        "- understand if results from Q-Learn make any sense\n",
        "\n",
        "- Deep-Q Learning\n",
        "\n",
        "- use same initial state to better compare the two agents"
      ]
    },
    {
      "cell_type": "markdown",
      "metadata": {
        "id": "Q3yhgHVGrkTh"
      },
      "source": [
        "- Reverb Package does not work on Windows. Thus, im running this notebook in VSCode through a WSL Window\n",
        "- The next commands create an environment in the WSL with all the necessary packages"
      ]
    },
    {
      "cell_type": "code",
      "execution_count": null,
      "metadata": {
        "colab": {
          "base_uri": "https://localhost:8080/"
        },
        "id": "zFmcVFFPrkTi",
        "outputId": "3fe56e10-328c-4360-850a-930914a5afde"
      },
      "outputs": [
        {
          "name": "stdout",
          "output_type": "stream",
          "text": [
            "Reading package lists... Done\n",
            "Building dependency tree... Done\n",
            "Reading state information... Done\n",
            "python3.10-venv is already the newest version (3.10.12-1~22.04.3).\n",
            "0 upgraded, 0 newly installed, 0 to remove and 24 not upgraded.\n"
          ]
        }
      ],
      "source": [
        "!sudo apt install python3.10-venv\n",
        "!python -m venv venv_AML_linux\n",
        "!source venv_AML_linux/bin/activate"
      ]
    },
    {
      "cell_type": "code",
      "execution_count": null,
      "metadata": {
        "colab": {
          "base_uri": "https://localhost:8080/"
        },
        "id": "d3-5lc1arkTj",
        "outputId": "039a3e7a-1d0a-49e7-c4f9-bef30ed35de5"
      },
      "outputs": [
        {
          "name": "stdout",
          "output_type": "stream",
          "text": [
            "Reading package lists... Done\n",
            "Building dependency tree... Done\n",
            "Reading state information... Done\n",
            "freeglut3-dev is already the newest version (2.8.1-6).\n",
            "ffmpeg is already the newest version (7:4.4.2-0ubuntu0.22.04.1).\n",
            "xvfb is already the newest version (2:21.1.4-2ubuntu1.7~22.04.5).\n",
            "0 upgraded, 0 newly installed, 0 to remove and 24 not upgraded.\n",
            "Requirement already satisfied: imageio==2.4.0 in /usr/local/lib/python3.10/dist-packages (2.4.0)\n",
            "Requirement already satisfied: numpy in /usr/local/lib/python3.10/dist-packages (from imageio==2.4.0) (1.23.5)\n",
            "Requirement already satisfied: pillow in /usr/local/lib/python3.10/dist-packages (from imageio==2.4.0) (9.4.0)\n",
            "Requirement already satisfied: pyvirtualdisplay in /usr/local/lib/python3.10/dist-packages (3.0)\n",
            "Requirement already satisfied: tf-agents[reverb] in /usr/local/lib/python3.10/dist-packages (0.19.0)\n",
            "Requirement already satisfied: absl-py>=0.6.1 in /usr/local/lib/python3.10/dist-packages (from tf-agents[reverb]) (1.4.0)\n",
            "Requirement already satisfied: cloudpickle>=1.3 in /usr/local/lib/python3.10/dist-packages (from tf-agents[reverb]) (2.2.1)\n",
            "Requirement already satisfied: gin-config>=0.4.0 in /usr/local/lib/python3.10/dist-packages (from tf-agents[reverb]) (0.5.0)\n",
            "Requirement already satisfied: gym<=0.23.0,>=0.17.0 in /usr/local/lib/python3.10/dist-packages (from tf-agents[reverb]) (0.23.0)\n",
            "Requirement already satisfied: numpy>=1.19.0 in /usr/local/lib/python3.10/dist-packages (from tf-agents[reverb]) (1.23.5)\n",
            "Requirement already satisfied: pillow in /usr/local/lib/python3.10/dist-packages (from tf-agents[reverb]) (9.4.0)\n",
            "Requirement already satisfied: six>=1.10.0 in /usr/local/lib/python3.10/dist-packages (from tf-agents[reverb]) (1.16.0)\n",
            "Requirement already satisfied: protobuf>=3.11.3 in /usr/local/lib/python3.10/dist-packages (from tf-agents[reverb]) (3.20.3)\n",
            "Requirement already satisfied: wrapt>=1.11.1 in /usr/local/lib/python3.10/dist-packages (from tf-agents[reverb]) (1.14.1)\n",
            "Requirement already satisfied: typing-extensions==4.5.0 in /usr/local/lib/python3.10/dist-packages (from tf-agents[reverb]) (4.5.0)\n",
            "Requirement already satisfied: pygame==2.1.3 in /usr/local/lib/python3.10/dist-packages (from tf-agents[reverb]) (2.1.3)\n",
            "Requirement already satisfied: tensorflow-probability~=0.23.0 in /usr/local/lib/python3.10/dist-packages (from tf-agents[reverb]) (0.23.0)\n",
            "Requirement already satisfied: rlds in /usr/local/lib/python3.10/dist-packages (from tf-agents[reverb]) (0.1.8)\n",
            "Requirement already satisfied: dm-reverb~=0.14.0 in /usr/local/lib/python3.10/dist-packages (from tf-agents[reverb]) (0.14.0)\n",
            "Requirement already satisfied: tensorflow~=2.15.0 in /usr/local/lib/python3.10/dist-packages (from tf-agents[reverb]) (2.15.0)\n",
            "Requirement already satisfied: dm-tree in /usr/local/lib/python3.10/dist-packages (from dm-reverb~=0.14.0->tf-agents[reverb]) (0.1.8)\n",
            "Requirement already satisfied: portpicker in /usr/local/lib/python3.10/dist-packages (from dm-reverb~=0.14.0->tf-agents[reverb]) (1.5.2)\n",
            "Requirement already satisfied: gym-notices>=0.0.4 in /usr/local/lib/python3.10/dist-packages (from gym<=0.23.0,>=0.17.0->tf-agents[reverb]) (0.0.8)\n",
            "Requirement already satisfied: astunparse>=1.6.0 in /usr/local/lib/python3.10/dist-packages (from tensorflow~=2.15.0->tf-agents[reverb]) (1.6.3)\n",
            "Requirement already satisfied: flatbuffers>=23.5.26 in /usr/local/lib/python3.10/dist-packages (from tensorflow~=2.15.0->tf-agents[reverb]) (23.5.26)\n",
            "Requirement already satisfied: gast!=0.5.0,!=0.5.1,!=0.5.2,>=0.2.1 in /usr/local/lib/python3.10/dist-packages (from tensorflow~=2.15.0->tf-agents[reverb]) (0.5.4)\n",
            "Requirement already satisfied: google-pasta>=0.1.1 in /usr/local/lib/python3.10/dist-packages (from tensorflow~=2.15.0->tf-agents[reverb]) (0.2.0)\n",
            "Requirement already satisfied: h5py>=2.9.0 in /usr/local/lib/python3.10/dist-packages (from tensorflow~=2.15.0->tf-agents[reverb]) (3.9.0)\n",
            "Requirement already satisfied: libclang>=13.0.0 in /usr/local/lib/python3.10/dist-packages (from tensorflow~=2.15.0->tf-agents[reverb]) (16.0.6)\n",
            "Requirement already satisfied: ml-dtypes~=0.2.0 in /usr/local/lib/python3.10/dist-packages (from tensorflow~=2.15.0->tf-agents[reverb]) (0.2.0)\n",
            "Requirement already satisfied: opt-einsum>=2.3.2 in /usr/local/lib/python3.10/dist-packages (from tensorflow~=2.15.0->tf-agents[reverb]) (3.3.0)\n",
            "Requirement already satisfied: packaging in /usr/local/lib/python3.10/dist-packages (from tensorflow~=2.15.0->tf-agents[reverb]) (23.2)\n",
            "Requirement already satisfied: setuptools in /usr/local/lib/python3.10/dist-packages (from tensorflow~=2.15.0->tf-agents[reverb]) (67.7.2)\n",
            "Requirement already satisfied: termcolor>=1.1.0 in /usr/local/lib/python3.10/dist-packages (from tensorflow~=2.15.0->tf-agents[reverb]) (2.4.0)\n",
            "Requirement already satisfied: tensorflow-io-gcs-filesystem>=0.23.1 in /usr/local/lib/python3.10/dist-packages (from tensorflow~=2.15.0->tf-agents[reverb]) (0.34.0)\n",
            "Requirement already satisfied: grpcio<2.0,>=1.24.3 in /usr/local/lib/python3.10/dist-packages (from tensorflow~=2.15.0->tf-agents[reverb]) (1.60.0)\n",
            "Requirement already satisfied: tensorboard<2.16,>=2.15 in /usr/local/lib/python3.10/dist-packages (from tensorflow~=2.15.0->tf-agents[reverb]) (2.15.1)\n",
            "Requirement already satisfied: tensorflow-estimator<2.16,>=2.15.0 in /usr/local/lib/python3.10/dist-packages (from tensorflow~=2.15.0->tf-agents[reverb]) (2.15.0)\n",
            "Requirement already satisfied: keras<2.16,>=2.15.0 in /usr/local/lib/python3.10/dist-packages (from tensorflow~=2.15.0->tf-agents[reverb]) (2.15.0)\n",
            "Requirement already satisfied: decorator in /usr/local/lib/python3.10/dist-packages (from tensorflow-probability~=0.23.0->tf-agents[reverb]) (4.4.2)\n",
            "Requirement already satisfied: wheel<1.0,>=0.23.0 in /usr/local/lib/python3.10/dist-packages (from astunparse>=1.6.0->tensorflow~=2.15.0->tf-agents[reverb]) (0.42.0)\n",
            "Requirement already satisfied: google-auth<3,>=1.6.3 in /usr/local/lib/python3.10/dist-packages (from tensorboard<2.16,>=2.15->tensorflow~=2.15.0->tf-agents[reverb]) (2.17.3)\n",
            "Requirement already satisfied: google-auth-oauthlib<2,>=0.5 in /usr/local/lib/python3.10/dist-packages (from tensorboard<2.16,>=2.15->tensorflow~=2.15.0->tf-agents[reverb]) (1.2.0)\n",
            "Requirement already satisfied: markdown>=2.6.8 in /usr/local/lib/python3.10/dist-packages (from tensorboard<2.16,>=2.15->tensorflow~=2.15.0->tf-agents[reverb]) (3.5.1)\n",
            "Requirement already satisfied: requests<3,>=2.21.0 in /usr/local/lib/python3.10/dist-packages (from tensorboard<2.16,>=2.15->tensorflow~=2.15.0->tf-agents[reverb]) (2.31.0)\n",
            "Requirement already satisfied: tensorboard-data-server<0.8.0,>=0.7.0 in /usr/local/lib/python3.10/dist-packages (from tensorboard<2.16,>=2.15->tensorflow~=2.15.0->tf-agents[reverb]) (0.7.2)\n",
            "Requirement already satisfied: werkzeug>=1.0.1 in /usr/local/lib/python3.10/dist-packages (from tensorboard<2.16,>=2.15->tensorflow~=2.15.0->tf-agents[reverb]) (3.0.1)\n",
            "Requirement already satisfied: psutil in /usr/local/lib/python3.10/dist-packages (from portpicker->dm-reverb~=0.14.0->tf-agents[reverb]) (5.9.5)\n",
            "Requirement already satisfied: cachetools<6.0,>=2.0.0 in /usr/local/lib/python3.10/dist-packages (from google-auth<3,>=1.6.3->tensorboard<2.16,>=2.15->tensorflow~=2.15.0->tf-agents[reverb]) (5.3.2)\n",
            "Requirement already satisfied: pyasn1-modules>=0.2.1 in /usr/local/lib/python3.10/dist-packages (from google-auth<3,>=1.6.3->tensorboard<2.16,>=2.15->tensorflow~=2.15.0->tf-agents[reverb]) (0.3.0)\n",
            "Requirement already satisfied: rsa<5,>=3.1.4 in /usr/local/lib/python3.10/dist-packages (from google-auth<3,>=1.6.3->tensorboard<2.16,>=2.15->tensorflow~=2.15.0->tf-agents[reverb]) (4.9)\n",
            "Requirement already satisfied: requests-oauthlib>=0.7.0 in /usr/local/lib/python3.10/dist-packages (from google-auth-oauthlib<2,>=0.5->tensorboard<2.16,>=2.15->tensorflow~=2.15.0->tf-agents[reverb]) (1.3.1)\n",
            "Requirement already satisfied: charset-normalizer<4,>=2 in /usr/local/lib/python3.10/dist-packages (from requests<3,>=2.21.0->tensorboard<2.16,>=2.15->tensorflow~=2.15.0->tf-agents[reverb]) (3.3.2)\n",
            "Requirement already satisfied: idna<4,>=2.5 in /usr/local/lib/python3.10/dist-packages (from requests<3,>=2.21.0->tensorboard<2.16,>=2.15->tensorflow~=2.15.0->tf-agents[reverb]) (3.6)\n",
            "Requirement already satisfied: urllib3<3,>=1.21.1 in /usr/local/lib/python3.10/dist-packages (from requests<3,>=2.21.0->tensorboard<2.16,>=2.15->tensorflow~=2.15.0->tf-agents[reverb]) (2.0.7)\n",
            "Requirement already satisfied: certifi>=2017.4.17 in /usr/local/lib/python3.10/dist-packages (from requests<3,>=2.21.0->tensorboard<2.16,>=2.15->tensorflow~=2.15.0->tf-agents[reverb]) (2023.11.17)\n",
            "Requirement already satisfied: MarkupSafe>=2.1.1 in /usr/local/lib/python3.10/dist-packages (from werkzeug>=1.0.1->tensorboard<2.16,>=2.15->tensorflow~=2.15.0->tf-agents[reverb]) (2.1.3)\n",
            "Requirement already satisfied: pyasn1<0.6.0,>=0.4.6 in /usr/local/lib/python3.10/dist-packages (from pyasn1-modules>=0.2.1->google-auth<3,>=1.6.3->tensorboard<2.16,>=2.15->tensorflow~=2.15.0->tf-agents[reverb]) (0.5.1)\n",
            "Requirement already satisfied: oauthlib>=3.0.0 in /usr/local/lib/python3.10/dist-packages (from requests-oauthlib>=0.7.0->google-auth-oauthlib<2,>=0.5->tensorboard<2.16,>=2.15->tensorflow~=2.15.0->tf-agents[reverb]) (3.2.2)\n",
            "Requirement already satisfied: pyglet in /usr/local/lib/python3.10/dist-packages (2.0.10)\n",
            "Requirement already satisfied: gymnasium in /usr/local/lib/python3.10/dist-packages (0.29.1)\n",
            "Requirement already satisfied: numpy>=1.21.0 in /usr/local/lib/python3.10/dist-packages (from gymnasium) (1.23.5)\n",
            "Requirement already satisfied: cloudpickle>=1.2.0 in /usr/local/lib/python3.10/dist-packages (from gymnasium) (2.2.1)\n",
            "Requirement already satisfied: typing-extensions>=4.3.0 in /usr/local/lib/python3.10/dist-packages (from gymnasium) (4.5.0)\n",
            "Requirement already satisfied: farama-notifications>=0.0.1 in /usr/local/lib/python3.10/dist-packages (from gymnasium) (0.0.4)\n",
            "Requirement already satisfied: seaborn in /usr/local/lib/python3.10/dist-packages (0.12.2)\n",
            "Requirement already satisfied: numpy!=1.24.0,>=1.17 in /usr/local/lib/python3.10/dist-packages (from seaborn) (1.23.5)\n",
            "Requirement already satisfied: pandas>=0.25 in /usr/local/lib/python3.10/dist-packages (from seaborn) (1.5.3)\n",
            "Requirement already satisfied: matplotlib!=3.6.1,>=3.1 in /usr/local/lib/python3.10/dist-packages (from seaborn) (3.7.1)\n",
            "Requirement already satisfied: contourpy>=1.0.1 in /usr/local/lib/python3.10/dist-packages (from matplotlib!=3.6.1,>=3.1->seaborn) (1.2.0)\n",
            "Requirement already satisfied: cycler>=0.10 in /usr/local/lib/python3.10/dist-packages (from matplotlib!=3.6.1,>=3.1->seaborn) (0.12.1)\n",
            "Requirement already satisfied: fonttools>=4.22.0 in /usr/local/lib/python3.10/dist-packages (from matplotlib!=3.6.1,>=3.1->seaborn) (4.46.0)\n",
            "Requirement already satisfied: kiwisolver>=1.0.1 in /usr/local/lib/python3.10/dist-packages (from matplotlib!=3.6.1,>=3.1->seaborn) (1.4.5)\n",
            "Requirement already satisfied: packaging>=20.0 in /usr/local/lib/python3.10/dist-packages (from matplotlib!=3.6.1,>=3.1->seaborn) (23.2)\n",
            "Requirement already satisfied: pillow>=6.2.0 in /usr/local/lib/python3.10/dist-packages (from matplotlib!=3.6.1,>=3.1->seaborn) (9.4.0)\n",
            "Requirement already satisfied: pyparsing>=2.3.1 in /usr/local/lib/python3.10/dist-packages (from matplotlib!=3.6.1,>=3.1->seaborn) (3.1.1)\n",
            "Requirement already satisfied: python-dateutil>=2.7 in /usr/local/lib/python3.10/dist-packages (from matplotlib!=3.6.1,>=3.1->seaborn) (2.8.2)\n",
            "Requirement already satisfied: pytz>=2020.1 in /usr/local/lib/python3.10/dist-packages (from pandas>=0.25->seaborn) (2023.3.post1)\n",
            "Requirement already satisfied: six>=1.5 in /usr/local/lib/python3.10/dist-packages (from python-dateutil>=2.7->matplotlib!=3.6.1,>=3.1->seaborn) (1.16.0)\n"
          ]
        }
      ],
      "source": [
        "# Uncomment to install packages in collab or if necessary\n",
        "!sudo apt-get install -y xvfb ffmpeg freeglut3-dev\n",
        "!pip install 'imageio==2.4.0'\n",
        "!pip install pyvirtualdisplay\n",
        "!pip install tf-agents[reverb]\n",
        "!pip install pyglet\n",
        "!pip install gymnasium\n",
        "!pip install seaborn"
      ]
    },
    {
      "cell_type": "code",
      "execution_count": null,
      "metadata": {
        "id": "IYdgNidKrkTk"
      },
      "outputs": [],
      "source": [
        "# Imports\n",
        "import matplotlib.pyplot as plt\n",
        "import numpy as np\n",
        "import pandas as pd\n",
        "import random\n",
        "import gymnasium as gym\n",
        "from gymnasium.envs.toy_text.frozen_lake import generate_random_map\n",
        "import seaborn as sns\n",
        "\n",
        "import pyvirtualdisplay\n",
        "import PIL\n",
        "\n",
        "import reverb\n",
        "\n",
        "import base64\n",
        "import imageio\n",
        "import IPython\n",
        "\n",
        "\n",
        "import tensorflow as tf\n",
        "from tf_agents.agents.dqn import dqn_agent\n",
        "from tf_agents.drivers import py_driver\n",
        "from tf_agents.environments import suite_gym\n",
        "from tf_agents.environments import tf_py_environment\n",
        "from tf_agents.eval import metric_utils\n",
        "from tf_agents.metrics import tf_metrics\n",
        "from tf_agents.networks import sequential\n",
        "from tf_agents.policies import py_tf_eager_policy\n",
        "from tf_agents.policies import random_tf_policy\n",
        "from tf_agents.replay_buffers import reverb_replay_buffer\n",
        "from tf_agents.replay_buffers import reverb_utils\n",
        "from tf_agents.trajectories import trajectory\n",
        "from tf_agents.specs import tensor_spec\n",
        "from tf_agents.utils import common"
      ]
    },
    {
      "cell_type": "code",
      "execution_count": null,
      "metadata": {
        "id": "MNfRlO_3rkTl"
      },
      "outputs": [],
      "source": [
        "sns.set(style='whitegrid', palette='muted', context='paper')"
      ]
    },
    {
      "cell_type": "markdown",
      "metadata": {
        "id": "T49RmuWOV6sc"
      },
      "source": [
        "## Table of Contents\n",
        "### 1. The environment\n",
        "### 2. Q-Learning\n",
        "### 3. Deep-Q Learning"
      ]
    },
    {
      "cell_type": "markdown",
      "metadata": {
        "id": "e835KmmtV6sd"
      },
      "source": [
        "## 1. The environment"
      ]
    },
    {
      "cell_type": "code",
      "execution_count": null,
      "metadata": {
        "id": "7rlafl3UV6sd"
      },
      "outputs": [],
      "source": [
        "# Implementation based on TP10 notebook\n",
        "# Still needs checking"
      ]
    },
    {
      "cell_type": "code",
      "execution_count": null,
      "metadata": {
        "id": "Gf-LyJLWV6se"
      },
      "outputs": [],
      "source": [
        "# Load environment\n",
        "env = gym.make(\"MountainCar-v0\",render_mode='rgb_array')"
      ]
    },
    {
      "cell_type": "code",
      "execution_count": null,
      "metadata": {
        "colab": {
          "base_uri": "https://localhost:8080/",
          "height": 367
        },
        "id": "-RMvV3OhV6sf",
        "outputId": "c280fd93-d9a9-4ca4-ceec-24d5af1ef6c1"
      },
      "outputs": [
        {
          "data": {
            "image/png": "[encoded data removed]",
            "text/plain": [
              "<Figure size 640x480 with 1 Axes>"
            ]
          },
          "metadata": {},
          "output_type": "display_data"
        }
      ],
      "source": [
        "env.reset()\n",
        "plt.imshow(env.render())\n",
        "plt.axis('off')\n",
        "plt.show()"
      ]
    },
    {
      "cell_type": "code",
      "execution_count": null,
      "metadata": {
        "colab": {
          "base_uri": "https://localhost:8080/"
        },
        "id": "Iu8hmmBzV6sf",
        "outputId": "f258d51d-ca3b-455f-9e3c-c6ed18db2c09"
      },
      "outputs": [
        {
          "name": "stdout",
          "output_type": "stream",
          "text": [
            "Box([-1.2  -0.07], [0.6  0.07], (2,), float32) Discrete(3)\n"
          ]
        }
      ],
      "source": [
        "# Confirm observation and action space dimensions\n",
        "# Link to documentation: https://gymnasium.farama.org/environments/classic_control/mountain_car/\n",
        "print(env.observation_space, env.action_space)"
      ]
    },
    {
      "cell_type": "markdown",
      "metadata": {
        "id": "1x-CxHfLV6sg"
      },
      "source": [
        "The current state is always defined by the two parameters position (p) and velocity (v).\n",
        "\n",
        "The action space is:\n",
        "- 0: Accelerate to the left\n",
        "- 1: Don’t accelerate\n",
        "- 2: Accelerate to the right"
      ]
    },
    {
      "cell_type": "markdown",
      "metadata": {
        "id": "UoUYWC4CV6sg"
      },
      "source": [
        "## 1. Q-Learning"
      ]
    },
    {
      "cell_type": "markdown",
      "metadata": {
        "id": "PVLiJXcHV6sh"
      },
      "source": [
        "First, we define all necessary functions for better readibility"
      ]
    },
    {
      "cell_type": "code",
      "execution_count": null,
      "metadata": {
        "id": "NKZLk43xV6sh"
      },
      "outputs": [],
      "source": [
        "# Function for discretizing the observation space, either by number of batches or by batch size\n",
        "def discretize(interval, number_batches=-1, batch_percentage=0.1):\n",
        "\n",
        "    sum = abs(interval[0]) + abs(interval[1])\n",
        "\n",
        "    if number_batches != -1:\n",
        "        batch_size = sum / number_batches\n",
        "    else:\n",
        "        batch_size = batch_percentage * sum\n",
        "\n",
        "    return np.arange(interval[0], interval[1], batch_size)"
      ]
    },
    {
      "cell_type": "code",
      "execution_count": null,
      "metadata": {
        "id": "D2w6CPNIV6si"
      },
      "outputs": [],
      "source": [
        "# Define functions for getting index of a batch (position and velocity)\n",
        "def get_index_position_batch(position, position_batches):\n",
        "\n",
        "    l = len(position_batches)\n",
        "\n",
        "    for low in range(l):\n",
        "\n",
        "        if position < position_batches[low]:\n",
        "            return low-1\n",
        "\n",
        "    return l-1\n",
        "\n",
        "def get_index_velocity_batch(velocity, velocity_batches):\n",
        "\n",
        "    l = len(velocity_batches)\n",
        "\n",
        "    for low in range(l):\n",
        "\n",
        "        if velocity < velocity_batches[low]:\n",
        "            return low-1\n",
        "\n",
        "    return l-1"
      ]
    },
    {
      "cell_type": "code",
      "execution_count": null,
      "metadata": {
        "id": "Juoi62NRV6si"
      },
      "outputs": [],
      "source": [
        "# Define epsilon greedy function\n",
        "def epsilon_greedy(state, epsilon):\n",
        "    global q_table\n",
        "\n",
        "    if random.random() < epsilon:\n",
        "        return env.action_space.sample()\n",
        "    else:\n",
        "        # Assuming state is a tuple with (position, velocity)\n",
        "        return np.argmax(q_table[state[0], state[1], :])"
      ]
    },
    {
      "cell_type": "markdown",
      "metadata": {
        "id": "RtrDsTogV6sj"
      },
      "source": [
        "As we are working with Q-tables, we need to discretize the continuous space.\n",
        "\n",
        "In the following, P denotes the number of discrete batches of the *position*, and V the number of discrete batches of *velocity*."
      ]
    },
    {
      "cell_type": "code",
      "execution_count": null,
      "metadata": {
        "colab": {
          "base_uri": "https://localhost:8080/"
        },
        "id": "ok1xh355V6sj",
        "outputId": "cbfe9c13-3266-462d-d16d-99c46db60d46"
      },
      "outputs": [
        {
          "name": "stdout",
          "output_type": "stream",
          "text": [
            "100 [-1.20000005 -1.18200005 -1.16400005 -1.14600005 -1.12800004 -1.11000004\n",
            " -1.09200004 -1.07400004 -1.05600004 -1.03800004 -1.02000004 -1.00200004\n",
            " -0.98400004 -0.96600004 -0.94800004 -0.93000004 -0.91200004 -0.89400004\n",
            " -0.87600003 -0.85800003 -0.84000003 -0.82200003 -0.80400003 -0.78600003\n",
            " -0.76800003 -0.75000003 -0.73200003 -0.71400003 -0.69600003 -0.67800003\n",
            " -0.66000003 -0.64200003 -0.62400002 -0.60600002 -0.58800002 -0.57000002\n",
            " -0.55200002 -0.53400002 -0.51600002 -0.49800002 -0.48000002 -0.46200002\n",
            " -0.44400002 -0.42600002 -0.40800002 -0.39000002 -0.37200001 -0.35400001\n",
            " -0.33600001 -0.31800001 -0.30000001 -0.28200001 -0.26400001 -0.24600001\n",
            " -0.22800001 -0.21000001 -0.19200001 -0.17400001 -0.15600001 -0.13800001\n",
            " -0.12       -0.102      -0.084      -0.066      -0.048      -0.03\n",
            " -0.012       0.006       0.024       0.042       0.06        0.078\n",
            "  0.096       0.114       0.13200001  0.15000001  0.16800001  0.18600001\n",
            "  0.20400001  0.22200001  0.24000001  0.25800001  0.27600001  0.29400001\n",
            "  0.31200001  0.33000001  0.34800001  0.36600001  0.38400002  0.40200002\n",
            "  0.42000002  0.43800002  0.45600002  0.47400002  0.49200002  0.51000002\n",
            "  0.52800002  0.54600002  0.56400002  0.58200002]\n",
            "100 [-7.00000003e-02 -6.86000003e-02 -6.72000003e-02 -6.58000003e-02\n",
            " -6.44000003e-02 -6.30000003e-02 -6.16000003e-02 -6.02000003e-02\n",
            " -5.88000003e-02 -5.74000002e-02 -5.60000002e-02 -5.46000002e-02\n",
            " -5.32000002e-02 -5.18000002e-02 -5.04000002e-02 -4.90000002e-02\n",
            " -4.76000002e-02 -4.62000002e-02 -4.48000002e-02 -4.34000002e-02\n",
            " -4.20000002e-02 -4.06000002e-02 -3.92000002e-02 -3.78000002e-02\n",
            " -3.64000002e-02 -3.50000001e-02 -3.36000001e-02 -3.22000001e-02\n",
            " -3.08000001e-02 -2.94000001e-02 -2.80000001e-02 -2.66000001e-02\n",
            " -2.52000001e-02 -2.38000001e-02 -2.24000001e-02 -2.10000001e-02\n",
            " -1.96000001e-02 -1.82000001e-02 -1.68000001e-02 -1.54000001e-02\n",
            " -1.40000001e-02 -1.26000001e-02 -1.12000000e-02 -9.80000004e-03\n",
            " -8.40000004e-03 -7.00000003e-03 -5.60000002e-03 -4.20000002e-03\n",
            " -2.80000001e-03 -1.40000001e-03  1.11022302e-16  1.40000001e-03\n",
            "  2.80000001e-03  4.20000002e-03  5.60000002e-03  7.00000003e-03\n",
            "  8.40000004e-03  9.80000004e-03  1.12000000e-02  1.26000001e-02\n",
            "  1.40000001e-02  1.54000001e-02  1.68000001e-02  1.82000001e-02\n",
            "  1.96000001e-02  2.10000001e-02  2.24000001e-02  2.38000001e-02\n",
            "  2.52000001e-02  2.66000001e-02  2.80000001e-02  2.94000001e-02\n",
            "  3.08000001e-02  3.22000001e-02  3.36000001e-02  3.50000001e-02\n",
            "  3.64000002e-02  3.78000002e-02  3.92000002e-02  4.06000002e-02\n",
            "  4.20000002e-02  4.34000002e-02  4.48000002e-02  4.62000002e-02\n",
            "  4.76000002e-02  4.90000002e-02  5.04000002e-02  5.18000002e-02\n",
            "  5.32000002e-02  5.46000002e-02  5.60000002e-02  5.74000002e-02\n",
            "  5.88000003e-02  6.02000003e-02  6.16000003e-02  6.30000003e-02\n",
            "  6.44000003e-02  6.58000003e-02  6.72000003e-02  6.86000003e-02]\n"
          ]
        }
      ],
      "source": [
        "BATCH_PERC = 0.01\n",
        "\n",
        "position_batches = discretize((env.observation_space.low[0], env.observation_space.high[0]), batch_percentage=BATCH_PERC)\n",
        "P = len(position_batches)\n",
        "\n",
        "velocity_batches = discretize((env.observation_space.low[1], env.observation_space.high[1]), batch_percentage=BATCH_PERC)\n",
        "V = len(velocity_batches)\n",
        "\n",
        "print(P, position_batches)\n",
        "print(V, velocity_batches)"
      ]
    },
    {
      "cell_type": "code",
      "execution_count": null,
      "metadata": {
        "id": "1C8wzG-VV6sj"
      },
      "outputs": [],
      "source": [
        "# TODO in the end, put all \"global\" parameters in one cell for easier manipulation ???"
      ]
    },
    {
      "cell_type": "code",
      "execution_count": null,
      "metadata": {
        "colab": {
          "base_uri": "https://localhost:8080/"
        },
        "id": "g4_XPmWHV6sj",
        "outputId": "60f1bbd3-62b3-4dcf-83d5-26d6483d209e"
      },
      "outputs": [
        {
          "name": "stdout",
          "output_type": "stream",
          "text": [
            "(100, 100, 3)\n"
          ]
        }
      ],
      "source": [
        "q_table = np.zeros((P, V, env.action_space.n))\n",
        "print(q_table.shape)"
      ]
    },
    {
      "cell_type": "markdown",
      "metadata": {
        "id": "QAQGS16OV6sk"
      },
      "source": [
        "### Hyperparameters"
      ]
    },
    {
      "cell_type": "code",
      "execution_count": null,
      "metadata": {
        "id": "s86GPEpAV6sk"
      },
      "outputs": [],
      "source": [
        "# Hyperparameters\n",
        "alpha = 0.8 # Learning rate\n",
        "gamma = 0.95\n",
        "epsilon = 0.1\n",
        "num_episodes = 10001\n",
        "num_steps = 1000"
      ]
    },
    {
      "cell_type": "code",
      "execution_count": null,
      "metadata": {
        "colab": {
          "base_uri": "https://localhost:8080/"
        },
        "id": "_UvXj150V6sk",
        "outputId": "11a961fa-0422-4130-8831-2c5200424e2b"
      },
      "outputs": [
        {
          "name": "stdout",
          "output_type": "stream",
          "text": [
            "Episode 0 | Total Reward -1000.0 | Steps 1000\n",
            "Episode 1000 | Total Reward -410.0 | Steps 409\n",
            "Episode 2000 | Total Reward -329.0 | Steps 328\n",
            "Episode 3000 | Total Reward -199.0 | Steps 198\n",
            "Episode 4000 | Total Reward -188.0 | Steps 187\n",
            "Episode 5000 | Total Reward -201.0 | Steps 200\n",
            "Episode 6000 | Total Reward -150.0 | Steps 149\n",
            "Episode 7000 | Total Reward -186.0 | Steps 185\n",
            "Episode 8000 | Total Reward -198.0 | Steps 197\n",
            "Episode 9000 | Total Reward -247.0 | Steps 246\n",
            "Episode 10000 | Total Reward -128.0 | Steps 127\n"
          ]
        }
      ],
      "source": [
        "# grid search\n",
        "# for alpha in [0.7, 0.8, 0.9]:\n",
        "#     for gamma in [0.85, 0.9, 0.95]:\n",
        "#         for epsilon in [0.05, 0.1, 0.15]:\n",
        "\n",
        "arr_total_rewards = []\n",
        "arr_steps = []\n",
        "arr_done = np.zeros(num_episodes)\n",
        "\n",
        "# Q-Learning Algorithm\n",
        "# for each episode:\n",
        "for i in range(num_episodes):\n",
        "\n",
        "    # Initialize the state by resetting the environment, reward, and steps\n",
        "    s, _ = env.reset()\n",
        "    total_reward = 0\n",
        "    steps = 0\n",
        "\n",
        "    # Discretize the state\n",
        "    s = [get_index_position_batch(s[0], position_batches), get_index_velocity_batch(s[1], velocity_batches)]\n",
        "\n",
        "    #for each step in the episode\n",
        "    for t in range(num_steps):\n",
        "\n",
        "        # Select action using epsilon-greedy\n",
        "        a = epsilon_greedy(s, epsilon)\n",
        "\n",
        "        # Perform the selected action and store the next state information\n",
        "        s_, r, done, _, _ = env.step(a)\n",
        "\n",
        "        # Discretize s dash\n",
        "        s_ = [get_index_position_batch(s_[0], position_batches), get_index_velocity_batch(s_[1], velocity_batches)]\n",
        "\n",
        "        # First, select the action a dash which has a maximum Q value in the next state\n",
        "        a_ = np.argmax(q_table[s_[0], s_[1], :])\n",
        "\n",
        "        # Calculate the Q value of previous state using our update rule\n",
        "        q_table[s[0], s[1], a] = q_table[s[0], s[1], a] + alpha * (r + gamma * q_table[s_[0], s_[1], a_] - q_table[s[0], s[1], a])\n",
        "\n",
        "        #update current state to next state\n",
        "        s = s_\n",
        "\n",
        "        #info\n",
        "        total_reward += r\n",
        "        steps += 1\n",
        "\n",
        "        #if the current state is the terminal state then break\n",
        "        if done:\n",
        "            steps = t\n",
        "            arr_done[i] = 1\n",
        "            break\n",
        "\n",
        "    arr_total_rewards.append(total_reward)\n",
        "    arr_steps.append(steps)\n",
        "\n",
        "    if(i%1000 == 0):\n",
        "        print(f\"Episode {i} | Total Reward {total_reward} | Steps {steps}\")"
      ]
    },
    {
      "cell_type": "code",
      "execution_count": null,
      "metadata": {
        "colab": {
          "base_uri": "https://localhost:8080/",
          "height": 1000
        },
        "id": "xNJ7owafrkTy",
        "outputId": "5f63129f-9297-4355-d81d-602ec50a5aa5"
      },
      "outputs": [
        {
          "name": "stdout",
          "output_type": "stream",
          "text": [
            "-112.0\n"
          ]
        },
        {
          "data": {
            "image/png": "[encoded data removed]",
            "text/plain": [
              "<Figure size 640x480 with 1 Axes>"
            ]
          },
          "metadata": {},
          "output_type": "display_data"
        },
        {
          "data": {
            "image/png": "[encoded data removed]",
            "text/plain": [
              "<Figure size 640x480 with 1 Axes>"
            ]
          },
          "metadata": {},
          "output_type": "display_data"
        },
        {
          "data": {
            "image/png": "[encoded data removed]",
            "text/plain": [
              "<Figure size 640x480 with 1 Axes>"
            ]
          },
          "metadata": {},
          "output_type": "display_data"
        }
      ],
      "source": [
        "print(max(arr_total_rewards))\n",
        "\n",
        "plt.ylabel(\"Total Reward\")\n",
        "plt.plot(range(0,num_episodes),arr_total_rewards)\n",
        "plt.show()\n",
        "\n",
        "plt.ylabel(\"Number Steps\")\n",
        "plt.plot(range(0,num_episodes),arr_steps)\n",
        "plt.show()\n",
        "\n",
        "plt.ylabel(\"Done?\")\n",
        "plt.plot(range(0,num_episodes),arr_done)\n",
        "plt.show()"
      ]
    },
    {
      "cell_type": "markdown",
      "metadata": {
        "id": "vZx3v4jOtCBI"
      },
      "source": [
        "The algorithm clearly converges to a level, showing that the agent learns how to move in the environment."
      ]
    },
    {
      "cell_type": "code",
      "execution_count": null,
      "metadata": {
        "colab": {
          "base_uri": "https://localhost:8080/"
        },
        "id": "_rx38pXerkTy",
        "outputId": "ee2cad78-2b20-45eb-aeed-536c85d6dc4c"
      },
      "outputs": [
        {
          "name": "stdout",
          "output_type": "stream",
          "text": [
            "(100, 100)\n",
            "[[0. 0. 0. ... 0. 0. 0.]\n",
            " [0. 0. 0. ... 0. 0. 0.]\n",
            " [0. 0. 0. ... 0. 0. 0.]\n",
            " ...\n",
            " [0. 0. 0. ... 0. 0. 0.]\n",
            " [0. 0. 0. ... 0. 0. 0.]\n",
            " [0. 0. 0. ... 0. 0. 0.]]\n"
          ]
        }
      ],
      "source": [
        "# Get the optimal policy\n",
        "# print(q_table)\n",
        "optimal_policy = np.zeros((P,V))\n",
        "for pos in range(P):\n",
        "    for vel in range(V):\n",
        "        optimal_policy[pos,vel] = np.argmax(q_table[pos, vel, :])\n",
        "\n",
        "print(optimal_policy.shape)\n",
        "print(optimal_policy)"
      ]
    },
    {
      "cell_type": "markdown",
      "metadata": {
        "id": "wMbMXsrvs1eb"
      },
      "source": [
        "Although this heatmap is not very intuitive to read, we keep it here because it looks kinda beautiful. Could be considered RL art - \"The Lemon in the Mountain Car Problem\"."
      ]
    },
    {
      "cell_type": "code",
      "execution_count": null,
      "metadata": {
        "colab": {
          "base_uri": "https://localhost:8080/",
          "height": 868
        },
        "id": "m02_Gz4tV6sm",
        "outputId": "d9653580-3951-4b96-d53d-6bb98e8d3e5b"
      },
      "outputs": [
        {
          "data": {
            "image/png": "[encoded data removed]",
            "text/plain": [
              "<Figure size 1000x1000 with 2 Axes>"
            ]
          },
          "metadata": {},
          "output_type": "display_data"
        }
      ],
      "source": [
        "# Create the heatmap\n",
        "plt.figure(figsize=(10, 10))  # Adjust the size as needed\n",
        "ax = sns.heatmap(optimal_policy, cmap=\"viridis\")\n",
        "\n",
        "# Add titles and labels as needed\n",
        "plt.title(\"Optimal Policy Heatmap\")\n",
        "plt.xlabel(\"Velocity Bins\")\n",
        "plt.ylabel(\"Position Bins\")\n",
        "\n",
        "# Flip the y-axis\n",
        "ax.invert_yaxis()\n",
        "\n",
        "# Show the plot\n",
        "plt.show()"
      ]
    },
    {
      "cell_type": "code",
      "execution_count": 20,
      "metadata": {
        "colab": {
          "base_uri": "https://localhost:8080/"
        },
        "id": "C4UrtD_7syqp",
        "outputId": "02e50bf0-b64d-4d3f-e362-7113eef88bb7"
      },
      "outputs": [
        {
          "output_type": "stream",
          "name": "stdout",
          "text": [
            "Running Q-learning for alpha=0.7, gamma=0.85, epsilon=0.05\n",
            "The highest reward for this configuration is: -92.0\n",
            "-----------\n",
            "Running Q-learning for alpha=0.7, gamma=0.85, epsilon=0.1\n",
            "The highest reward for this configuration is: -109.0\n",
            "-----------\n",
            "Running Q-learning for alpha=0.7, gamma=0.85, epsilon=0.15\n",
            "The highest reward for this configuration is: -112.0\n",
            "-----------\n",
            "Running Q-learning for alpha=0.7, gamma=0.9, epsilon=0.05\n",
            "The highest reward for this configuration is: -92.0\n",
            "-----------\n",
            "Running Q-learning for alpha=0.7, gamma=0.9, epsilon=0.1\n",
            "The highest reward for this configuration is: -111.0\n",
            "-----------\n",
            "Running Q-learning for alpha=0.7, gamma=0.9, epsilon=0.15\n",
            "The highest reward for this configuration is: -114.0\n",
            "-----------\n",
            "Running Q-learning for alpha=0.7, gamma=0.95, epsilon=0.05\n",
            "The highest reward for this configuration is: -106.0\n",
            "-----------\n",
            "Running Q-learning for alpha=0.7, gamma=0.95, epsilon=0.1\n",
            "The highest reward for this configuration is: -91.0\n",
            "-----------\n",
            "Running Q-learning for alpha=0.7, gamma=0.95, epsilon=0.15\n",
            "The highest reward for this configuration is: -108.0\n",
            "-----------\n",
            "Running Q-learning for alpha=0.8, gamma=0.85, epsilon=0.05\n",
            "The highest reward for this configuration is: -100.0\n",
            "-----------\n",
            "Running Q-learning for alpha=0.8, gamma=0.85, epsilon=0.1\n",
            "The highest reward for this configuration is: -114.0\n",
            "-----------\n",
            "Running Q-learning for alpha=0.8, gamma=0.85, epsilon=0.15\n",
            "The highest reward for this configuration is: -116.0\n",
            "-----------\n",
            "Running Q-learning for alpha=0.8, gamma=0.9, epsilon=0.05\n",
            "The highest reward for this configuration is: -109.0\n",
            "-----------\n",
            "Running Q-learning for alpha=0.8, gamma=0.9, epsilon=0.1\n",
            "The highest reward for this configuration is: -111.0\n",
            "-----------\n",
            "Running Q-learning for alpha=0.8, gamma=0.9, epsilon=0.15\n",
            "The highest reward for this configuration is: -115.0\n",
            "-----------\n",
            "Running Q-learning for alpha=0.8, gamma=0.95, epsilon=0.05\n",
            "The highest reward for this configuration is: -109.0\n",
            "-----------\n",
            "Running Q-learning for alpha=0.8, gamma=0.95, epsilon=0.1\n",
            "The highest reward for this configuration is: -111.0\n",
            "-----------\n",
            "Running Q-learning for alpha=0.8, gamma=0.95, epsilon=0.15\n",
            "The highest reward for this configuration is: -115.0\n",
            "-----------\n",
            "Running Q-learning for alpha=0.9, gamma=0.85, epsilon=0.05\n",
            "The highest reward for this configuration is: -112.0\n",
            "-----------\n",
            "Running Q-learning for alpha=0.9, gamma=0.85, epsilon=0.1\n",
            "The highest reward for this configuration is: -117.0\n",
            "-----------\n",
            "Running Q-learning for alpha=0.9, gamma=0.85, epsilon=0.15\n",
            "The highest reward for this configuration is: -119.0\n",
            "-----------\n",
            "Running Q-learning for alpha=0.9, gamma=0.9, epsilon=0.05\n",
            "The highest reward for this configuration is: -99.0\n",
            "-----------\n",
            "Running Q-learning for alpha=0.9, gamma=0.9, epsilon=0.1\n",
            "The highest reward for this configuration is: -116.0\n",
            "-----------\n",
            "Running Q-learning for alpha=0.9, gamma=0.9, epsilon=0.15\n",
            "The highest reward for this configuration is: -119.0\n",
            "-----------\n",
            "Running Q-learning for alpha=0.9, gamma=0.95, epsilon=0.05\n",
            "The highest reward for this configuration is: -111.0\n",
            "-----------\n",
            "Running Q-learning for alpha=0.9, gamma=0.95, epsilon=0.1\n",
            "The highest reward for this configuration is: -114.0\n",
            "-----------\n",
            "Running Q-learning for alpha=0.9, gamma=0.95, epsilon=0.15\n",
            "The highest reward for this configuration is: -119.0\n",
            "-----------\n"
          ]
        }
      ],
      "source": [
        "def run_q_learning(env, alpha, gamma, epsilon, num_episodes, num_steps, position_batches, velocity_batches):\n",
        "    global q_table  # Ensure q_table is accessed globally\n",
        "    q_table = np.zeros((len(position_batches), len(velocity_batches), env.action_space.n))\n",
        "    arr_total_rewards = []\n",
        "    arr_steps = []\n",
        "    arr_done = np.zeros(num_episodes)\n",
        "\n",
        "    for i in range(num_episodes):\n",
        "        s, _ = env.reset()\n",
        "        total_reward = 0\n",
        "        steps = 0\n",
        "\n",
        "        s = [get_index_position_batch(s[0], position_batches), get_index_velocity_batch(s[1], velocity_batches)]\n",
        "\n",
        "        for t in range(num_steps):\n",
        "            a = epsilon_greedy(s, epsilon)  # Adjusted to two parameters\n",
        "\n",
        "            s_, r, done, _, _ = env.step(a)\n",
        "            s_ = [get_index_position_batch(s_[0], position_batches), get_index_velocity_batch(s_[1], velocity_batches)]\n",
        "            a_ = np.argmax(q_table[s_[0], s_[1], :])\n",
        "\n",
        "            q_table[s[0], s[1], a] += alpha * (r + gamma * q_table[s_[0], s_[1], a_] - q_table[s[0], s[1], a])\n",
        "            s = s_\n",
        "            total_reward += r\n",
        "            steps += 1\n",
        "\n",
        "            if done:\n",
        "                arr_done[i] = 1\n",
        "                break\n",
        "\n",
        "        arr_total_rewards.append(total_reward)\n",
        "        arr_steps.append(steps)\n",
        "\n",
        "    return q_table, arr_total_rewards, arr_steps\n",
        "\n",
        "# Grid search\n",
        "results = {}\n",
        "for alpha in [0.7, 0.8, 0.9]:\n",
        "    for gamma in [0.85, 0.9, 0.95]:\n",
        "        for epsilon in [0.05, 0.1, 0.15]:\n",
        "            print(f\"Running Q-learning for alpha={alpha}, gamma={gamma}, epsilon={epsilon}\")\n",
        "            q_table, total_rewards, steps = run_q_learning(env, alpha, gamma, epsilon, num_episodes, num_steps, position_batches, velocity_batches)\n",
        "            results[(alpha, gamma, epsilon)] = {\n",
        "                'q_table': q_table,\n",
        "                'total_rewards': total_rewards,\n",
        "                'steps': steps\n",
        "            }\n",
        "            print(f\"The highest reward for this configuration is: {max(total_rewards)}\")\n",
        "            print(\"-----------\")"
      ]
    },
    {
      "cell_type": "markdown",
      "metadata": {
        "id": "gJBf8S_DrkTz"
      },
      "source": [
        "## 2. Deep-Q Learning\n",
        "\n",
        "- Following [the tutorial](https://www.tensorflow.org/agents/tutorials/1_dqn_tutorial?hl=en#introduction) and comparing with TP8 notebook, to understand what I'm doing"
      ]
    },
    {
      "cell_type": "markdown",
      "metadata": {
        "id": "NvdyMwjOl_cH"
      },
      "source": [
        "### Experiments Markdown\n",
        "- Dedicated cell for saving experiments done, meaning the parameters used and results that we got\n",
        "\n",
        "---\n",
        "Exp1 -> DQN Agent\n",
        "- layers: (100,50)\n",
        "- iterations: 20k\n",
        "- learning rate: 0.001\n",
        "\n",
        "Results:\n",
        "- best avg return: -124.9\n",
        "\n",
        "---\n",
        "Exp2 -> DQN Agent\n",
        "- layers (50, 25)\n",
        "- iterations: 30k\n",
        "- learning rate: 0.001\n",
        "\n",
        "Results:\n",
        "- best avg return: -176\n",
        "- best avg steps: 200\n",
        "\n",
        "---\n",
        "Exp3 -> DQN Agent\n",
        "- layers (100, 50, 25)\n",
        "- iterations: 30k\n",
        "- learning rate: 0.001\n",
        "\n",
        "Results:\n",
        "- best avg return: -180\n",
        "- best avg steps: 200\n",
        "\n",
        "---\n",
        "Exp4 -> DQN Agent\n",
        "- layers (100, 50, 5)\n",
        "- iterations: 30k\n",
        "- learning rate: 0.001\n",
        "\n",
        "Results:\n",
        "- best avg return: -132\n",
        "- best avg steps: 200\n",
        "\n",
        "---\n",
        "Exp5 -> DQN Agent\n",
        "- layers (100, 50)\n",
        "- iterations: 150k\n",
        "- learning rate: 0.001\n",
        "\n",
        "Results:\n",
        "- best avg return: -94.0\n",
        "- best avg steps: 94\n",
        "\n",
        "---\n",
        "Exp6 -> DQN Agent\n",
        "- layers (150, 100)\n",
        "- iterations: 50k\n",
        "- learning rate: 0.001\n",
        "\n",
        "Results:\n",
        "- best avg return: -111\n",
        "- best avg steps: 111\n",
        "\n",
        "---\n",
        "Exp7 -> DQN Agent\n",
        "- layers (200, 125, 50)\n",
        "- iterations: 50k\n",
        "- learning rate: 0.001\n",
        "\n",
        "Results:\n",
        "- best avg return: -103\n",
        "- best avg steps: 103\n",
        "\n",
        "---\n",
        "Exp8 -> DQN Agent\n",
        "- layers (200, 125, 50)\n",
        "- iterations: 50k\n",
        "- learning rate: 0.005\n",
        "\n",
        "Results:\n",
        "- best avg return: -189\n",
        "- best avg steps: 189\n",
        "\n",
        "---\n",
        "Exp9 -> DQN Agent\n",
        "- layers (200, 125, 50)\n",
        "- iterations: 150k\n",
        "- learning rate: 0.002\n",
        "\n",
        "Results:\n",
        "- best avg return: -121\n",
        "- best avg steps: 121\n",
        "\n",
        "---\n",
        "Exp10 -> DQN Agent\n",
        "- layers (50, 100, 100, 50)\n",
        "- iterations: 150k\n",
        "- learning rate: 0.001\n",
        "\n",
        "Results:\n",
        "- best avg return: -146\n",
        "- best avg steps: 146\n",
        "\n",
        "---\n",
        "Exp11 -> DQN Agent\n",
        "- layers (300, 175, 100)\n",
        "- iterations: 150k\n",
        "- learning rate: 0.001\n",
        "\n",
        "Results:\n",
        "- best avg return: -199.0\n",
        "- best avg steps: 199\n",
        "\n",
        "---\n",
        "Exp12 -> DQN Agent\n",
        "- layers (100, 50)\n",
        "- iterations: 150k\n",
        "- learning rate: 0.001\n",
        "\n",
        "Results:\n",
        "- best avg return: -96\n",
        "- best avg steps: 96"
      ]
    },
    {
      "cell_type": "code",
      "execution_count": 21,
      "metadata": {
        "id": "6_CTbMwmrkT0"
      },
      "outputs": [],
      "source": [
        "#\n",
        "display = pyvirtualdisplay.Display(visible=0, size=(1400, 900)).start()\n"
      ]
    },
    {
      "cell_type": "markdown",
      "metadata": {
        "id": "O7YNXYUyrkT0"
      },
      "source": [
        "### Hyperparameters"
      ]
    },
    {
      "cell_type": "code",
      "execution_count": 22,
      "metadata": {
        "id": "x3DfYG9GrkT1"
      },
      "outputs": [],
      "source": [
        "dqn_layer_params = (100, 50) #\n",
        "\n",
        "num_iterations = 150000\n",
        "\n",
        "initial_collect_steps = 100\n",
        "collect_steps_per_iteration = 1\n",
        "replay_buffer_max_length = 100000\n",
        "\n",
        "batch_size = 64\n",
        "learning_rate = 1e-3\n",
        "log_interval = 250\n",
        "\n",
        "num_episodes = 10\n",
        "eval_interval = 750"
      ]
    },
    {
      "cell_type": "markdown",
      "metadata": {
        "id": "eJZC9dFQrkT2"
      },
      "source": [
        "### Env"
      ]
    },
    {
      "cell_type": "code",
      "execution_count": 23,
      "metadata": {
        "id": "TYHU6mAvrkT2",
        "colab": {
          "base_uri": "https://localhost:8080/"
        },
        "outputId": "570d3aaa-8159-4b7c-c548-406429955076"
      },
      "outputs": [
        {
          "output_type": "execute_result",
          "data": {
            "text/plain": [
              "TimeStep(\n",
              "{'step_type': array(0, dtype=int32),\n",
              " 'reward': array(0., dtype=float32),\n",
              " 'discount': array(1., dtype=float32),\n",
              " 'observation': array([-0.55657315,  0.        ], dtype=float32)})"
            ]
          },
          "metadata": {},
          "execution_count": 23
        }
      ],
      "source": [
        "env_name = \"MountainCar-v0\"\n",
        "env_dqn = suite_gym.load(env_name)\n",
        "env_dqn.reset()"
      ]
    },
    {
      "cell_type": "code",
      "execution_count": 24,
      "metadata": {
        "id": "ftJznA_YrkT2",
        "colab": {
          "base_uri": "https://localhost:8080/",
          "height": 417
        },
        "outputId": "ca352803-0776-4b9d-b3f0-783b3fa54852"
      },
      "outputs": [
        {
          "output_type": "execute_result",
          "data": {
            "text/plain": [
              "<PIL.Image.Image image mode=RGB size=600x400>"
            ],
            "image/png": "[encoded data removed]"
          },
          "metadata": {},
          "execution_count": 24
        }
      ],
      "source": [
        "PIL.Image.fromarray(env_dqn.render())"
      ]
    },
    {
      "cell_type": "code",
      "execution_count": 25,
      "metadata": {
        "id": "POHGfr7brkT3",
        "colab": {
          "base_uri": "https://localhost:8080/"
        },
        "outputId": "c7499fe9-96b8-4b0c-cc9d-5759806983ae"
      },
      "outputs": [
        {
          "output_type": "stream",
          "name": "stdout",
          "text": [
            "Observation Space:\n",
            "BoundedArraySpec(shape=(2,), dtype=dtype('float32'), name='observation', minimum=[-1.2  -0.07], maximum=[0.6  0.07])\n",
            "Action Space:\n",
            "BoundedArraySpec(shape=(), dtype=dtype('int64'), name='action', minimum=0, maximum=2)\n"
          ]
        }
      ],
      "source": [
        "print('Observation Space:')\n",
        "print(env_dqn.time_step_spec().observation)\n",
        "\n",
        "print('Action Space:')\n",
        "print(env_dqn.action_spec())\n"
      ]
    },
    {
      "cell_type": "markdown",
      "metadata": {
        "id": "k0yl-VVNrkT4"
      },
      "source": [
        "### Environments\n",
        "- written in python, need to be converted to tensorflow environments"
      ]
    },
    {
      "cell_type": "code",
      "execution_count": 26,
      "metadata": {
        "id": "-I-WqlY6rkT4"
      },
      "outputs": [],
      "source": [
        "train_py_env = suite_gym.load(env_name)\n",
        "eval_py_env = suite_gym.load(env_name)"
      ]
    },
    {
      "cell_type": "code",
      "execution_count": 27,
      "metadata": {
        "id": "Zec67DETrkT4"
      },
      "outputs": [],
      "source": [
        "train_env = tf_py_environment.TFPyEnvironment(train_py_env)\n",
        "eval_env = tf_py_environment.TFPyEnvironment(eval_py_env)"
      ]
    },
    {
      "cell_type": "markdown",
      "metadata": {
        "id": "zH0Xgoj_rkT5"
      },
      "source": [
        "### Agents"
      ]
    },
    {
      "cell_type": "markdown",
      "metadata": {
        "id": "Hy2vca1QrkT5"
      },
      "source": [
        "#### Layer Funcs"
      ]
    },
    {
      "cell_type": "code",
      "execution_count": 28,
      "metadata": {
        "id": "heUXGKRorkT5"
      },
      "outputs": [],
      "source": [
        "def dense_layer(num_units, name= \"\"):\n",
        "    return tf.keras.layers.Dense(\n",
        "      num_units,\n",
        "      activation=tf.keras.activations.relu,\n",
        "      name=name\n",
        "      ,kernel_initializer=tf.keras.initializers.VarianceScaling(\n",
        "          scale=2.0, mode='fan_in', distribution='truncated_normal')\n",
        "      )"
      ]
    },
    {
      "cell_type": "code",
      "execution_count": 29,
      "metadata": {
        "id": "VQPi7apvrkT6"
      },
      "outputs": [],
      "source": [
        "action_tensor_spec = tensor_spec.from_spec(env_dqn.action_spec())\n",
        "num_actions = action_tensor_spec.maximum - action_tensor_spec.minimum + 1\n",
        "\n",
        "# hidden layers\n",
        "dense_layers = [dense_layer(num_unit, f\"Layer_{i}\") for num_unit,i in zip(dqn_layer_params, range(len(dqn_layer_params)))]\n",
        "\n",
        "# last layer, with results\n",
        "q_value_layer = tf.keras.layers.Dense(\n",
        "    num_actions,\n",
        "    activation=None,\n",
        "    name = \"q_layer\"\n",
        "    ,kernel_initializer=tf.keras.initializers.RandomUniform(\n",
        "        minval=-0.03, maxval=0.03),\n",
        "    bias_initializer=tf.keras.initializers.Constant(-0.2)\n",
        "    )\n",
        "\n",
        "q_net = sequential.Sequential(dense_layers + [q_value_layer])"
      ]
    },
    {
      "cell_type": "markdown",
      "metadata": {
        "id": "-BOFh-1trkT6"
      },
      "source": [
        "### Creating an Agent"
      ]
    },
    {
      "cell_type": "code",
      "execution_count": 30,
      "metadata": {
        "id": "EZUGstQsrkT6"
      },
      "outputs": [],
      "source": [
        "# choosing an optimizer, inputing the learning rate\n",
        "optimizer = tf.keras.optimizers.Adam(learning_rate=learning_rate)\n",
        "\n",
        "# step counter\n",
        "train_step_counter = tf.Variable(0)\n",
        "\n",
        "# create the agent object, feeding it with\n",
        "# observation and action space,\n",
        "# the network architecture,\n",
        "# the choosen optimizer and a loss function (TODO we might test multiple?)\n",
        "agent = dqn_agent.DqnAgent(\n",
        "    train_env.time_step_spec(),\n",
        "    train_env.action_spec(),\n",
        "    q_network=q_net,\n",
        "    optimizer=optimizer,\n",
        "    td_errors_loss_fn=common.element_wise_squared_loss,\n",
        "    train_step_counter=train_step_counter)\n",
        "\n",
        "agent.initialize()\n"
      ]
    },
    {
      "cell_type": "markdown",
      "metadata": {
        "id": "XJuNlkCGrkT6"
      },
      "source": [
        "### Policies"
      ]
    },
    {
      "cell_type": "code",
      "execution_count": 31,
      "metadata": {
        "id": "bRaNUu3mrkT7"
      },
      "outputs": [],
      "source": [
        "eval_policy = agent.policy\n",
        "collect_policy = agent.collect_policy"
      ]
    },
    {
      "cell_type": "code",
      "execution_count": 32,
      "metadata": {
        "id": "KUj1F36UrkT8"
      },
      "outputs": [],
      "source": [
        "random_policy = random_tf_policy.RandomTFPolicy(train_env.time_step_spec(),\n",
        "                                                train_env.action_spec())\n"
      ]
    },
    {
      "cell_type": "markdown",
      "metadata": {
        "id": "wcthozLbrkT8"
      },
      "source": [
        "### Buffer"
      ]
    },
    {
      "cell_type": "code",
      "execution_count": 33,
      "metadata": {
        "id": "APgyGxZtrkT9"
      },
      "outputs": [],
      "source": [
        "table_name = 'uniform_table'\n",
        "replay_buffer_signature = tensor_spec.from_spec(\n",
        "      agent.collect_data_spec)\n",
        "replay_buffer_signature = tensor_spec.add_outer_dim(\n",
        "    replay_buffer_signature)\n",
        "\n",
        "table = reverb.Table(\n",
        "    table_name,\n",
        "    max_size=replay_buffer_max_length,\n",
        "    sampler=reverb.selectors.Uniform(),\n",
        "    remover=reverb.selectors.Fifo(),\n",
        "    rate_limiter=reverb.rate_limiters.MinSize(1),\n",
        "    signature=replay_buffer_signature)\n",
        "\n",
        "reverb_server = reverb.Server([table])\n",
        "\n",
        "replay_buffer = reverb_replay_buffer.ReverbReplayBuffer(\n",
        "    agent.collect_data_spec,\n",
        "    table_name=table_name,\n",
        "    sequence_length=2,\n",
        "    local_server=reverb_server)\n",
        "\n",
        "rb_observer = reverb_utils.ReverbAddTrajectoryObserver(\n",
        "  replay_buffer.py_client,\n",
        "  table_name,\n",
        "  sequence_length=2)\n"
      ]
    },
    {
      "cell_type": "markdown",
      "metadata": {
        "id": "WJ_zf9U_rkT9"
      },
      "source": [
        "### Training the agent"
      ]
    },
    {
      "cell_type": "code",
      "execution_count": 34,
      "metadata": {
        "id": "Fg42qypOrkT-"
      },
      "outputs": [],
      "source": [
        "def compute_avg_return(environment, policy, num_episodes=10):\n",
        "\n",
        "  total_return = 0.0\n",
        "  total_steps = 0\n",
        "\n",
        "  for _ in range(num_episodes):\n",
        "\n",
        "    time_step = environment.reset()\n",
        "    episode_return = 0.0\n",
        "    episode_steps = 0\n",
        "\n",
        "    while not time_step.is_last():\n",
        "      episode_steps += 1\n",
        "\n",
        "      action_step = policy.action(time_step)\n",
        "      time_step = environment.step(action_step.action)\n",
        "      episode_return += time_step.reward\n",
        "\n",
        "    total_return += episode_return\n",
        "    total_steps += episode_steps\n",
        "    # print(f\"ep steps {episode_steps}\")\n",
        "\n",
        "  avg_return = total_return / num_episodes\n",
        "  avg_steps = total_steps / num_episodes\n",
        "\n",
        "\n",
        "  return avg_return.numpy()[0], avg_steps\n"
      ]
    },
    {
      "cell_type": "markdown",
      "metadata": {
        "id": "cZd3qzXzrkT-"
      },
      "source": [
        "- Totally need do review this code below, i still don't understand the buffer\n",
        "- Just copied it to see if it runs on colab!!"
      ]
    },
    {
      "cell_type": "code",
      "execution_count": 35,
      "metadata": {
        "id": "FTauPMyQACdf",
        "colab": {
          "base_uri": "https://localhost:8080/"
        },
        "outputId": "d3b90839-9f1f-4056-d148-ee1b5b4c03ee"
      },
      "outputs": [
        {
          "output_type": "execute_result",
          "data": {
            "text/plain": [
              "(TimeStep(\n",
              " {'step_type': array(1, dtype=int32),\n",
              "  'reward': array(-1., dtype=float32),\n",
              "  'discount': array(1., dtype=float32),\n",
              "  'observation': array([-0.48325977,  0.0069196 ], dtype=float32)}),\n",
              " ())"
            ]
          },
          "metadata": {},
          "execution_count": 35
        }
      ],
      "source": [
        "py_driver.PyDriver(\n",
        "    env_dqn,\n",
        "    py_tf_eager_policy.PyTFEagerPolicy(\n",
        "      random_policy, use_tf_function=True),\n",
        "    [rb_observer],\n",
        "    max_steps=initial_collect_steps).run(train_py_env.reset())\n"
      ]
    },
    {
      "cell_type": "code",
      "execution_count": 36,
      "metadata": {
        "id": "zsOxa4darkT-"
      },
      "outputs": [],
      "source": [
        "dataset = replay_buffer.as_dataset(\n",
        "    num_parallel_calls=3,\n",
        "    sample_batch_size=batch_size,\n",
        "    num_steps=2).prefetch(3)\n"
      ]
    },
    {
      "cell_type": "code",
      "execution_count": 37,
      "metadata": {
        "id": "Fj-VqOpkrkT_"
      },
      "outputs": [],
      "source": [
        "# print(replay_buffer)\n",
        "# print(dataset)\n",
        "iterator = iter(dataset)"
      ]
    },
    {
      "cell_type": "code",
      "execution_count": 38,
      "metadata": {
        "id": "9heZwdYIgcwN",
        "colab": {
          "base_uri": "https://localhost:8080/"
        },
        "outputId": "9f2ff953-4552-4f7e-b555-bd7d0dac2b3d"
      },
      "outputs": [
        {
          "output_type": "execute_result",
          "data": {
            "text/plain": [
              "(-200.0, 200.0)"
            ]
          },
          "metadata": {},
          "execution_count": 38
        }
      ],
      "source": [
        "# Baseline Performance with a random policy for a DQN-Agent\n",
        "compute_avg_return(eval_env, random_policy, num_episodes)"
      ]
    },
    {
      "cell_type": "code",
      "execution_count": null,
      "metadata": {
        "id": "kjDOok83rkT_",
        "colab": {
          "base_uri": "https://localhost:8080/"
        },
        "outputId": "61db7b0e-33c7-4719-8ff3-688df8832297"
      },
      "outputs": [
        {
          "metadata": {
            "tags": null
          },
          "name": "stderr",
          "output_type": "stream",
          "text": [
            "WARNING:tensorflow:From /usr/local/lib/python3.10/dist-packages/tensorflow/python/util/dispatch.py:1260: calling foldr_v2 (from tensorflow.python.ops.functional_ops) with back_prop=False is deprecated and will be removed in a future version.\n",
            "Instructions for updating:\n",
            "back_prop=False is deprecated. Consider using tf.stop_gradient instead.\n",
            "Instead of:\n",
            "results = tf.foldr(fn, elems, back_prop=False)\n",
            "Use:\n",
            "results = tf.nest.map_structure(tf.stop_gradient, tf.foldr(fn, elems))\n"
          ]
        },
        {
          "output_type": "stream",
          "name": "stdout",
          "text": [
            "step = 250: loss = 0.8902363777160645\n",
            "step = 500: loss = 1.6220693588256836\n",
            "step = 750: loss = 1.2932350635528564\n",
            "step = 750: Average Return = -200.0, Average Steps 200.0\n",
            "step = 1000: loss = 190.7344207763672\n",
            "step = 1250: loss = 223.82833862304688\n",
            "step = 1500: loss = 3.1963486671447754\n",
            "step = 1500: Average Return = -200.0, Average Steps 200.0\n",
            "step = 1750: loss = 2.449657440185547\n",
            "step = 2000: loss = 2.422795534133911\n",
            "step = 2250: loss = 1.5899161100387573\n",
            "step = 2250: Average Return = -200.0, Average Steps 200.0\n",
            "step = 2500: loss = 350.11004638671875\n",
            "step = 2750: loss = 243.63795471191406\n",
            "step = 3000: loss = 2.466883420944214\n",
            "step = 3000: Average Return = -200.0, Average Steps 200.0\n",
            "step = 3250: loss = 1.2371102571487427\n",
            "step = 3500: loss = 2.3434009552001953\n",
            "step = 3750: loss = 1.950278401374817\n",
            "step = 3750: Average Return = -200.0, Average Steps 200.0\n",
            "step = 4000: loss = 2.084265947341919\n",
            "step = 4250: loss = 198.21922302246094\n",
            "step = 4500: loss = 204.17210388183594\n",
            "step = 4500: Average Return = -200.0, Average Steps 200.0\n",
            "step = 4750: loss = 170.7971649169922\n",
            "step = 5000: loss = 1.3969204425811768\n",
            "step = 5250: loss = 0.9984323978424072\n",
            "step = 5250: Average Return = -200.0, Average Steps 200.0\n",
            "step = 5500: loss = 160.6812744140625\n",
            "step = 5750: loss = 180.5366668701172\n",
            "step = 6000: loss = 1.370943307876587\n",
            "step = 6000: Average Return = -200.0, Average Steps 200.0\n",
            "step = 6250: loss = 185.89915466308594\n",
            "step = 6500: loss = 0.9559623003005981\n",
            "step = 6750: loss = 1.4188175201416016\n",
            "step = 6750: Average Return = -200.0, Average Steps 200.0\n",
            "step = 7000: loss = 241.73190307617188\n",
            "step = 7250: loss = 1.3178750276565552\n",
            "step = 7500: loss = 1.2020078897476196\n",
            "step = 7500: Average Return = -200.0, Average Steps 200.0\n",
            "step = 7750: loss = 1.266373634338379\n",
            "step = 8000: loss = 144.52606201171875\n",
            "step = 8250: loss = 186.885986328125\n",
            "step = 8250: Average Return = -200.0, Average Steps 200.0\n",
            "step = 8500: loss = 1.101076602935791\n",
            "step = 8750: loss = 1.068871259689331\n",
            "step = 9000: loss = 212.43490600585938\n",
            "step = 9000: Average Return = -200.0, Average Steps 200.0\n",
            "step = 9250: loss = 1.3073084354400635\n",
            "step = 9500: loss = 1.2187378406524658\n",
            "step = 9750: loss = 1.3639079332351685\n",
            "step = 9750: Average Return = -200.0, Average Steps 200.0\n",
            "step = 10000: loss = 127.7217025756836\n",
            "step = 10250: loss = 426.16741943359375\n",
            "step = 10500: loss = 2.075453281402588\n",
            "step = 10500: Average Return = -200.0, Average Steps 200.0\n",
            "step = 10750: loss = 100.65972900390625\n",
            "step = 11000: loss = 1.873468041419983\n",
            "step = 11250: loss = 292.7054443359375\n",
            "step = 11250: Average Return = -200.0, Average Steps 200.0\n",
            "step = 11500: loss = 1.9890302419662476\n",
            "step = 11750: loss = 201.24465942382812\n",
            "step = 12000: loss = 238.59051513671875\n",
            "step = 12000: Average Return = -200.0, Average Steps 200.0\n",
            "step = 12250: loss = 2.820063591003418\n",
            "step = 12500: loss = 3.961650848388672\n",
            "step = 12750: loss = 2.765435218811035\n",
            "step = 12750: Average Return = -200.0, Average Steps 200.0\n",
            "step = 13000: loss = 2.9692211151123047\n",
            "step = 13250: loss = 3.36572265625\n",
            "step = 13500: loss = 4.179280757904053\n",
            "step = 13500: Average Return = -200.0, Average Steps 200.0\n",
            "step = 13750: loss = 118.81941223144531\n",
            "step = 14000: loss = 2.0755152702331543\n",
            "step = 14250: loss = 3.9922409057617188\n",
            "step = 14250: Average Return = -200.0, Average Steps 200.0\n",
            "step = 14500: loss = 3.575814962387085\n",
            "step = 14750: loss = 2.7569026947021484\n",
            "step = 15000: loss = 2.203496217727661\n",
            "step = 15000: Average Return = -200.0, Average Steps 200.0\n",
            "step = 15250: loss = 2.638882875442505\n",
            "step = 15500: loss = 2.609901189804077\n",
            "step = 15750: loss = 66.02476501464844\n",
            "step = 15750: Average Return = -200.0, Average Steps 200.0\n",
            "step = 16000: loss = 177.93505859375\n",
            "step = 16250: loss = 1.9098522663116455\n",
            "step = 16500: loss = 2.2435646057128906\n",
            "step = 16500: Average Return = -200.0, Average Steps 200.0\n",
            "step = 16750: loss = 274.2227783203125\n",
            "step = 17000: loss = 1.6465256214141846\n",
            "step = 17250: loss = 1.3783190250396729\n",
            "step = 17250: Average Return = -200.0, Average Steps 200.0\n",
            "step = 17500: loss = 2.0565834045410156\n",
            "step = 17750: loss = 0.9381297826766968\n",
            "step = 18000: loss = 1.4505596160888672\n",
            "step = 18000: Average Return = -200.0, Average Steps 200.0\n",
            "step = 18250: loss = 0.9912480711936951\n",
            "step = 18500: loss = 1.5617003440856934\n",
            "step = 18750: loss = 239.8187713623047\n",
            "step = 18750: Average Return = -200.0, Average Steps 200.0\n",
            "step = 19000: loss = 1.4601869583129883\n",
            "step = 19250: loss = 1.2227842807769775\n",
            "step = 19500: loss = 1.0408575534820557\n",
            "step = 19500: Average Return = -200.0, Average Steps 200.0\n",
            "step = 19750: loss = 0.9451932907104492\n",
            "step = 20000: loss = 0.6357540488243103\n",
            "step = 20250: loss = 1.103047251701355\n",
            "step = 20250: Average Return = -200.0, Average Steps 200.0\n",
            "step = 20500: loss = 1.0698509216308594\n",
            "step = 20750: loss = 1.665085792541504\n",
            "step = 21000: loss = 0.7619526982307434\n",
            "step = 21000: Average Return = -200.0, Average Steps 200.0\n",
            "step = 21250: loss = 0.8511184453964233\n",
            "step = 21500: loss = 1.062607765197754\n",
            "step = 21750: loss = 0.8040438890457153\n",
            "step = 21750: Average Return = -200.0, Average Steps 200.0\n",
            "step = 22000: loss = 1.0048468112945557\n",
            "step = 22250: loss = 1.3973360061645508\n",
            "step = 22500: loss = 1.346745491027832\n",
            "step = 22500: Average Return = -200.0, Average Steps 200.0\n",
            "step = 22750: loss = 112.62190246582031\n",
            "step = 23000: loss = 0.8254135251045227\n",
            "step = 23250: loss = 0.9346920251846313\n",
            "step = 23250: Average Return = -200.0, Average Steps 200.0\n",
            "step = 23500: loss = 1.4255518913269043\n",
            "step = 23750: loss = 2.551506519317627\n",
            "step = 24000: loss = 1.6692951917648315\n",
            "step = 24000: Average Return = -200.0, Average Steps 200.0\n",
            "step = 24250: loss = 0.8680192828178406\n",
            "step = 24500: loss = 2.306405782699585\n",
            "step = 24750: loss = 1.319240927696228\n",
            "step = 24750: Average Return = -200.0, Average Steps 200.0\n",
            "step = 25000: loss = 1.3603931665420532\n",
            "step = 25250: loss = 1.3228520154953003\n",
            "step = 25500: loss = 216.95431518554688\n",
            "step = 25500: Average Return = -200.0, Average Steps 200.0\n",
            "step = 25750: loss = 0.9613617062568665\n",
            "step = 26000: loss = 1.1143178939819336\n",
            "step = 26250: loss = 1.1792964935302734\n",
            "step = 26250: Average Return = -200.0, Average Steps 200.0\n",
            "step = 26500: loss = 1.2629741430282593\n",
            "step = 26750: loss = 157.50584411621094\n",
            "step = 27000: loss = 0.9931678771972656\n",
            "step = 27000: Average Return = -200.0, Average Steps 200.0\n",
            "step = 27250: loss = 1.2793169021606445\n",
            "step = 27500: loss = 0.7272545099258423\n",
            "step = 27750: loss = 2.121161937713623\n",
            "step = 27750: Average Return = -191.3000030517578, Average Steps 191.3\n",
            "step = 28000: loss = 216.24197387695312\n",
            "step = 28250: loss = 0.8342806100845337\n",
            "step = 28500: loss = 1.11529541015625\n",
            "step = 28500: Average Return = -200.0, Average Steps 200.0\n",
            "step = 28750: loss = 0.8457566499710083\n",
            "step = 29000: loss = 1.3458902835845947\n",
            "step = 29250: loss = 0.5404002666473389\n",
            "step = 29250: Average Return = -200.0, Average Steps 200.0\n",
            "step = 29500: loss = 0.6773831844329834\n",
            "step = 29750: loss = 1.4826979637145996\n",
            "step = 30000: loss = 346.1152038574219\n",
            "step = 30000: Average Return = -200.0, Average Steps 200.0\n",
            "step = 30250: loss = 2.4911575317382812\n",
            "step = 30500: loss = 158.02940368652344\n",
            "step = 30750: loss = 1.0932707786560059\n",
            "step = 30750: Average Return = -200.0, Average Steps 200.0\n",
            "step = 31000: loss = 2.0393803119659424\n",
            "step = 31250: loss = 1.2805875539779663\n",
            "step = 31500: loss = 1.0627357959747314\n",
            "step = 31500: Average Return = -200.0, Average Steps 200.0\n",
            "step = 31750: loss = 163.4041748046875\n",
            "step = 32000: loss = 0.8796437978744507\n",
            "step = 32250: loss = 1.5201646089553833\n",
            "step = 32250: Average Return = -200.0, Average Steps 200.0\n",
            "step = 32500: loss = 0.8533662557601929\n",
            "step = 32750: loss = 2.1086621284484863\n",
            "step = 33000: loss = 0.9926382303237915\n",
            "step = 33000: Average Return = -177.8000030517578, Average Steps 177.8\n",
            "step = 33250: loss = 0.9449706673622131\n",
            "step = 33500: loss = 1.4274342060089111\n",
            "step = 33750: loss = 2.911527156829834\n",
            "step = 33750: Average Return = -167.5, Average Steps 167.5\n",
            "step = 34000: loss = 4.131618499755859\n",
            "step = 34250: loss = 168.2672882080078\n",
            "step = 34500: loss = 4.65727424621582\n",
            "step = 34500: Average Return = -200.0, Average Steps 200.0\n",
            "step = 34750: loss = 130.9805450439453\n",
            "step = 35000: loss = 2.5817184448242188\n",
            "step = 35250: loss = 3.4278829097747803\n",
            "step = 35250: Average Return = -159.8000030517578, Average Steps 159.8\n",
            "step = 35500: loss = 60.11872863769531\n",
            "step = 35750: loss = 3.9617648124694824\n",
            "step = 36000: loss = 1.2316219806671143\n",
            "step = 36000: Average Return = -178.8000030517578, Average Steps 178.8\n",
            "step = 36250: loss = 53.812744140625\n",
            "step = 36500: loss = 1.534457802772522\n",
            "step = 36750: loss = 69.17941284179688\n",
            "step = 36750: Average Return = -200.0, Average Steps 200.0\n",
            "step = 37000: loss = 1.683669090270996\n",
            "step = 37250: loss = 4.087615489959717\n",
            "step = 37500: loss = 68.68370819091797\n",
            "step = 37500: Average Return = -151.39999389648438, Average Steps 151.4\n",
            "step = 37750: loss = 84.60775756835938\n",
            "step = 38000: loss = 3.4852848052978516\n",
            "step = 38250: loss = 65.57221221923828\n",
            "step = 38250: Average Return = -153.60000610351562, Average Steps 153.6\n",
            "step = 38500: loss = 1.757798194885254\n",
            "step = 38750: loss = 3.743488073348999\n",
            "step = 39000: loss = 1.425947904586792\n",
            "step = 39000: Average Return = -178.60000610351562, Average Steps 178.6\n",
            "step = 39250: loss = 1.2528514862060547\n",
            "step = 39500: loss = 1.6208093166351318\n",
            "step = 39750: loss = 3.0975875854492188\n",
            "step = 39750: Average Return = -200.0, Average Steps 200.0\n",
            "step = 40000: loss = 1.37007737159729\n",
            "step = 40250: loss = 182.44140625\n",
            "step = 40500: loss = 1.3279873132705688\n",
            "step = 40500: Average Return = -136.6999969482422, Average Steps 136.7\n",
            "step = 40750: loss = 1.0284955501556396\n",
            "step = 41000: loss = 1.7000539302825928\n",
            "step = 41250: loss = 23.126441955566406\n",
            "step = 41250: Average Return = -138.3000030517578, Average Steps 138.3\n",
            "step = 41500: loss = 1.3639633655548096\n",
            "step = 41750: loss = 103.79810333251953\n",
            "step = 42000: loss = 0.784754753112793\n",
            "step = 42000: Average Return = -142.89999389648438, Average Steps 142.9\n",
            "step = 42250: loss = 3.5108284950256348\n",
            "step = 42500: loss = 1.0404285192489624\n",
            "step = 42750: loss = 0.6375353336334229\n",
            "step = 42750: Average Return = -136.39999389648438, Average Steps 136.4\n",
            "step = 43000: loss = 54.029273986816406\n",
            "step = 43250: loss = 0.8574204444885254\n",
            "step = 43500: loss = 0.9394586682319641\n",
            "step = 43500: Average Return = -147.39999389648438, Average Steps 147.4\n",
            "step = 43750: loss = 0.6411871314048767\n",
            "step = 44000: loss = 1.296921730041504\n",
            "step = 44250: loss = 0.7452834248542786\n",
            "step = 44250: Average Return = -149.8000030517578, Average Steps 149.8\n",
            "step = 44500: loss = 28.83774757385254\n",
            "step = 44750: loss = 60.48164749145508\n",
            "step = 45000: loss = 30.914220809936523\n",
            "step = 45000: Average Return = -148.8000030517578, Average Steps 148.8\n",
            "step = 45250: loss = 1.098197340965271\n",
            "step = 45500: loss = 0.8471451997756958\n",
            "step = 45750: loss = 172.91671752929688\n",
            "step = 45750: Average Return = -160.1999969482422, Average Steps 160.2\n",
            "step = 46000: loss = 1.2707440853118896\n",
            "step = 46250: loss = 1.1089810132980347\n",
            "step = 46500: loss = 0.9696964025497437\n",
            "step = 46500: Average Return = -151.3000030517578, Average Steps 151.3\n",
            "step = 46750: loss = 59.95695495605469\n",
            "step = 47000: loss = 106.297119140625\n",
            "step = 47250: loss = 1.502791404724121\n",
            "step = 47250: Average Return = -140.10000610351562, Average Steps 140.1\n",
            "step = 47500: loss = 117.13088989257812\n",
            "step = 47750: loss = 1.3031401634216309\n",
            "step = 48000: loss = 1.6589833498001099\n",
            "step = 48000: Average Return = -121.5, Average Steps 121.5\n",
            "step = 48250: loss = 1.0551623106002808\n",
            "step = 48500: loss = 16.231454849243164\n",
            "step = 48750: loss = 2.08516526222229\n",
            "step = 48750: Average Return = -170.10000610351562, Average Steps 170.1\n",
            "step = 49000: loss = 10.198114395141602\n",
            "step = 49250: loss = 1.3335943222045898\n",
            "step = 49500: loss = 1.4426372051239014\n",
            "step = 49500: Average Return = -124.30000305175781, Average Steps 124.3\n",
            "step = 49750: loss = 22.27672004699707\n",
            "step = 50000: loss = 1.9202293157577515\n",
            "step = 50250: loss = 1.1477022171020508\n",
            "step = 50250: Average Return = -169.60000610351562, Average Steps 169.6\n",
            "step = 50500: loss = 1.3388888835906982\n",
            "step = 50750: loss = 0.7253341674804688\n",
            "step = 51000: loss = 1.5428664684295654\n",
            "step = 51000: Average Return = -132.10000610351562, Average Steps 132.1\n",
            "step = 51250: loss = 0.8327814340591431\n",
            "step = 51500: loss = 2.428251266479492\n",
            "step = 51750: loss = 0.4981090724468231\n",
            "step = 51750: Average Return = -142.5, Average Steps 142.5\n",
            "step = 52000: loss = 1.2738902568817139\n",
            "step = 52250: loss = 0.9324226975440979\n",
            "step = 52500: loss = 1.5250494480133057\n",
            "step = 52500: Average Return = -140.6999969482422, Average Steps 140.7\n",
            "step = 52750: loss = 0.9565067291259766\n",
            "step = 53000: loss = 1.3717219829559326\n",
            "step = 53250: loss = 1.7904331684112549\n",
            "step = 53250: Average Return = -112.9000015258789, Average Steps 112.9\n",
            "step = 53500: loss = 1.5492002964019775\n",
            "step = 53750: loss = 0.9003211259841919\n",
            "step = 54000: loss = 0.5512162446975708\n",
            "step = 54000: Average Return = -139.5, Average Steps 139.5\n",
            "step = 54250: loss = 0.4791228175163269\n",
            "step = 54500: loss = 0.23199115693569183\n",
            "step = 54750: loss = 92.56398010253906\n",
            "step = 54750: Average Return = -142.89999389648438, Average Steps 142.9\n",
            "step = 55000: loss = 0.43596962094306946\n",
            "step = 55250: loss = 0.42667871713638306\n",
            "step = 55500: loss = 0.6558252573013306\n",
            "step = 55500: Average Return = -148.6999969482422, Average Steps 148.7\n",
            "step = 55750: loss = 0.3651657700538635\n",
            "step = 56000: loss = 1.1142692565917969\n",
            "step = 56250: loss = 0.7776056528091431\n",
            "step = 56250: Average Return = -151.3000030517578, Average Steps 151.3\n",
            "step = 56500: loss = 0.9932713508605957\n",
            "step = 56750: loss = 1.0940582752227783\n",
            "step = 57000: loss = 0.5033875107765198\n",
            "step = 57000: Average Return = -131.60000610351562, Average Steps 131.6\n",
            "step = 57250: loss = 0.3441554307937622\n",
            "step = 57500: loss = 0.4405559003353119\n",
            "step = 57750: loss = 0.39204466342926025\n",
            "step = 57750: Average Return = -130.6999969482422, Average Steps 130.7\n",
            "step = 58000: loss = 0.5715283751487732\n",
            "step = 58250: loss = 0.6151748895645142\n",
            "step = 58500: loss = 1.0017828941345215\n",
            "step = 58500: Average Return = -132.10000610351562, Average Steps 132.1\n",
            "step = 58750: loss = 0.46790432929992676\n",
            "step = 59000: loss = 0.6784074902534485\n",
            "step = 59250: loss = 0.5724751949310303\n",
            "step = 59250: Average Return = -129.39999389648438, Average Steps 129.4\n",
            "step = 59500: loss = 0.520106315612793\n",
            "step = 59750: loss = 0.5672557353973389\n",
            "step = 60000: loss = 0.3959391117095947\n",
            "step = 60000: Average Return = -132.8000030517578, Average Steps 132.8\n",
            "step = 60250: loss = 0.44852620363235474\n",
            "step = 60500: loss = 0.552692174911499\n",
            "step = 60750: loss = 64.20429229736328\n",
            "step = 60750: Average Return = -137.8000030517578, Average Steps 137.8\n",
            "step = 61000: loss = 63.056243896484375\n",
            "step = 61250: loss = 0.7162959575653076\n",
            "step = 61500: loss = 1.2827072143554688\n",
            "step = 61500: Average Return = -149.6999969482422, Average Steps 149.7\n",
            "step = 61750: loss = 0.6694231033325195\n",
            "step = 62000: loss = 0.8615468740463257\n",
            "step = 62250: loss = 0.3595152795314789\n",
            "step = 62250: Average Return = -162.0, Average Steps 162.0\n",
            "step = 62500: loss = 0.28827744722366333\n",
            "step = 62750: loss = 0.6069310307502747\n",
            "step = 63000: loss = 0.5694748163223267\n",
            "step = 63000: Average Return = -176.0, Average Steps 176.0\n",
            "step = 63250: loss = 0.6427803635597229\n",
            "step = 63500: loss = 1.46016526222229\n",
            "step = 63750: loss = 0.8135698437690735\n",
            "step = 63750: Average Return = -114.9000015258789, Average Steps 114.9\n",
            "step = 64000: loss = 0.8636233806610107\n",
            "step = 64250: loss = 0.8345770835876465\n",
            "step = 64500: loss = 0.7466034889221191\n",
            "step = 64500: Average Return = -144.60000610351562, Average Steps 144.6\n",
            "step = 64750: loss = 0.24287088215351105\n",
            "step = 65000: loss = 0.6804566383361816\n",
            "step = 65250: loss = 128.83424377441406\n",
            "step = 65250: Average Return = -174.10000610351562, Average Steps 174.1\n",
            "step = 65500: loss = 0.7188304662704468\n",
            "step = 65750: loss = 36.58367156982422\n",
            "step = 66000: loss = 9.694859504699707\n",
            "step = 66000: Average Return = -135.0, Average Steps 135.0\n",
            "step = 66250: loss = 1.127739667892456\n",
            "step = 66500: loss = 44.35515213012695\n",
            "step = 66750: loss = 0.5698997974395752\n",
            "step = 66750: Average Return = -149.10000610351562, Average Steps 149.1\n",
            "step = 67000: loss = 0.8522336483001709\n",
            "step = 67250: loss = 0.3836626410484314\n",
            "step = 67500: loss = 0.504864513874054\n",
            "step = 67500: Average Return = -128.3000030517578, Average Steps 128.3\n",
            "step = 67750: loss = 0.5280239582061768\n",
            "step = 68000: loss = 0.7070884704589844\n",
            "step = 68250: loss = 0.44472822546958923\n",
            "step = 68250: Average Return = -133.8000030517578, Average Steps 133.8\n",
            "step = 68500: loss = 0.9019196033477783\n",
            "step = 68750: loss = 0.36063170433044434\n",
            "step = 69000: loss = 85.79765319824219\n",
            "step = 69000: Average Return = -145.1999969482422, Average Steps 145.2\n",
            "step = 69250: loss = 89.19340515136719\n",
            "step = 69500: loss = 87.73790740966797\n",
            "step = 69750: loss = 0.2649981379508972\n",
            "step = 69750: Average Return = -104.80000305175781, Average Steps 104.8\n",
            "step = 70000: loss = 2.062962770462036\n",
            "step = 70250: loss = 0.46697425842285156\n",
            "step = 70500: loss = 0.48913586139678955\n",
            "step = 70500: Average Return = -151.89999389648438, Average Steps 151.9\n",
            "step = 70750: loss = 0.5277916193008423\n",
            "step = 71000: loss = 14.165096282958984\n",
            "step = 71250: loss = 0.6336219310760498\n",
            "step = 71250: Average Return = -149.6999969482422, Average Steps 149.7\n",
            "step = 71500: loss = 1.0792317390441895\n",
            "step = 71750: loss = 104.97742462158203\n",
            "step = 72000: loss = 40.38191604614258\n",
            "step = 72000: Average Return = -124.19999694824219, Average Steps 124.2\n",
            "step = 72250: loss = 0.5259763598442078\n",
            "step = 72500: loss = 54.44135665893555\n",
            "step = 72750: loss = 0.6165152788162231\n",
            "step = 72750: Average Return = -126.30000305175781, Average Steps 126.3\n",
            "step = 73000: loss = 0.4982861280441284\n",
            "step = 73250: loss = 1.3086585998535156\n",
            "step = 73500: loss = 0.569541335105896\n",
            "step = 73500: Average Return = -136.5, Average Steps 136.5\n",
            "step = 73750: loss = 0.854295015335083\n",
            "step = 74000: loss = 0.5738239288330078\n",
            "step = 74250: loss = 3.6243860721588135\n",
            "step = 74250: Average Return = -111.5999984741211, Average Steps 111.6\n",
            "step = 74500: loss = 0.4155956208705902\n",
            "step = 74750: loss = 0.575023889541626\n",
            "step = 75000: loss = 49.6893196105957\n",
            "step = 75000: Average Return = -123.0, Average Steps 123.0\n",
            "step = 75250: loss = 0.5236510038375854\n",
            "step = 75500: loss = 0.3698905110359192\n",
            "step = 75750: loss = 0.46282804012298584\n",
            "step = 75750: Average Return = -135.89999389648438, Average Steps 135.9\n",
            "step = 76000: loss = 50.2138671875\n",
            "step = 76250: loss = 6.782398700714111\n",
            "step = 76500: loss = 0.596443772315979\n",
            "step = 76500: Average Return = -156.39999389648438, Average Steps 156.4\n",
            "step = 76750: loss = 6.204629898071289\n",
            "step = 77000: loss = 0.4197108745574951\n",
            "step = 77250: loss = 0.8352929353713989\n",
            "step = 77250: Average Return = -146.8000030517578, Average Steps 146.8\n",
            "step = 77500: loss = 0.6105799078941345\n",
            "step = 77750: loss = 0.9499268531799316\n",
            "step = 78000: loss = 1.112802505493164\n",
            "step = 78000: Average Return = -144.89999389648438, Average Steps 144.9\n",
            "step = 78250: loss = 0.8575243949890137\n",
            "step = 78500: loss = 0.44056206941604614\n",
            "step = 78750: loss = 0.37472426891326904\n",
            "step = 78750: Average Return = -106.19999694824219, Average Steps 106.2\n",
            "step = 79000: loss = 0.7698246836662292\n",
            "step = 79250: loss = 0.4870659112930298\n",
            "step = 79500: loss = 0.7547463178634644\n",
            "step = 79500: Average Return = -143.6999969482422, Average Steps 143.7\n",
            "step = 79750: loss = 1.1508325338363647\n",
            "step = 80000: loss = 0.6182540059089661\n",
            "step = 80250: loss = 0.5288355350494385\n",
            "step = 80250: Average Return = -113.80000305175781, Average Steps 113.8\n",
            "step = 80500: loss = 0.43145477771759033\n",
            "step = 80750: loss = 126.07559967041016\n",
            "step = 81000: loss = 32.69709777832031\n",
            "step = 81000: Average Return = -158.0, Average Steps 158.0\n",
            "step = 81250: loss = 0.5388867855072021\n",
            "step = 81500: loss = 0.4749145209789276\n",
            "step = 81750: loss = 0.4987044334411621\n",
            "step = 81750: Average Return = -143.3000030517578, Average Steps 143.3\n",
            "step = 82000: loss = 0.5626274347305298\n",
            "step = 82250: loss = 0.506634533405304\n",
            "step = 82500: loss = 0.7578747272491455\n",
            "step = 82500: Average Return = -143.5, Average Steps 143.5\n",
            "step = 82750: loss = 0.8490096926689148\n",
            "step = 83000: loss = 0.9103045463562012\n",
            "step = 83250: loss = 0.9428138732910156\n",
            "step = 83250: Average Return = -116.19999694824219, Average Steps 116.2\n",
            "step = 83500: loss = 0.8674119710922241\n",
            "step = 83750: loss = 170.5241241455078\n",
            "step = 84000: loss = 0.6813881397247314\n",
            "step = 84000: Average Return = -111.4000015258789, Average Steps 111.4\n",
            "step = 84250: loss = 0.7571700811386108\n",
            "step = 84500: loss = 0.8561108708381653\n",
            "step = 84750: loss = 0.45386603474617004\n",
            "step = 84750: Average Return = -137.1999969482422, Average Steps 137.2\n",
            "step = 85000: loss = 0.7606574296951294\n",
            "step = 85250: loss = 0.5254729986190796\n",
            "step = 85500: loss = 0.6580705642700195\n",
            "step = 85500: Average Return = -104.80000305175781, Average Steps 104.8\n",
            "step = 85750: loss = 0.7307645678520203\n",
            "step = 86000: loss = 40.54003143310547\n",
            "step = 86250: loss = 0.38968783617019653\n",
            "step = 86250: Average Return = -133.10000610351562, Average Steps 133.1\n",
            "step = 86500: loss = 114.76970672607422\n",
            "step = 86750: loss = 0.4995294511318207\n",
            "step = 87000: loss = 0.799648642539978\n",
            "step = 87000: Average Return = -127.19999694824219, Average Steps 127.2\n",
            "step = 87250: loss = 0.5103557705879211\n",
            "step = 87500: loss = 0.5648054480552673\n",
            "step = 87750: loss = 0.5795849561691284\n",
            "step = 87750: Average Return = -101.5999984741211, Average Steps 101.6\n",
            "step = 88000: loss = 102.70623779296875\n",
            "step = 88250: loss = 0.5821226239204407\n",
            "step = 88500: loss = 1.0766868591308594\n",
            "step = 88500: Average Return = -158.89999389648438, Average Steps 158.9\n",
            "step = 88750: loss = 0.7378696203231812\n",
            "step = 89000: loss = 1.1212116479873657\n",
            "step = 89250: loss = 0.7054723501205444\n",
            "step = 89250: Average Return = -134.8000030517578, Average Steps 134.8\n",
            "step = 89500: loss = 1.07254958152771\n",
            "step = 89750: loss = 0.4074675440788269\n",
            "step = 90000: loss = 0.8187116980552673\n",
            "step = 90000: Average Return = -177.8000030517578, Average Steps 177.8\n",
            "step = 90250: loss = 1.4597010612487793\n",
            "step = 90500: loss = 0.6051175594329834\n",
            "step = 90750: loss = 0.5602710247039795\n",
            "step = 90750: Average Return = -147.6999969482422, Average Steps 147.7\n",
            "step = 91000: loss = 0.6954487562179565\n",
            "step = 91250: loss = 137.3034210205078\n",
            "step = 91500: loss = 0.9661797285079956\n",
            "step = 91500: Average Return = -153.60000610351562, Average Steps 153.6\n",
            "step = 91750: loss = 0.7477675676345825\n",
            "step = 92000: loss = 0.7631391286849976\n",
            "step = 92250: loss = 1.9057002067565918\n",
            "step = 92250: Average Return = -170.39999389648438, Average Steps 170.4\n",
            "step = 92500: loss = 2.3467493057250977\n",
            "step = 92750: loss = 1.0212109088897705\n",
            "step = 93000: loss = 0.2700267434120178\n",
            "step = 93000: Average Return = -119.30000305175781, Average Steps 119.3\n",
            "step = 93250: loss = 0.600858211517334\n",
            "step = 93500: loss = 3.0458056926727295\n",
            "step = 93750: loss = 0.523320734500885\n",
            "step = 93750: Average Return = -128.5, Average Steps 128.5\n",
            "step = 94000: loss = 0.7803732752799988\n",
            "step = 94250: loss = 0.6023590564727783\n",
            "step = 94500: loss = 0.5957880616188049\n",
            "step = 94500: Average Return = -120.5999984741211, Average Steps 120.6\n",
            "step = 94750: loss = 50.54377746582031\n",
            "step = 95000: loss = 0.6325891017913818\n",
            "step = 95250: loss = 1.6110705137252808\n",
            "step = 95250: Average Return = -122.0999984741211, Average Steps 122.1\n",
            "step = 95500: loss = 2.6961278915405273\n",
            "step = 95750: loss = 0.9346418976783752\n",
            "step = 96000: loss = 5.418813705444336\n",
            "step = 96000: Average Return = -172.6999969482422, Average Steps 172.7\n",
            "step = 96250: loss = 2.700315475463867\n",
            "step = 96500: loss = 3.2093052864074707\n",
            "step = 96750: loss = 2.0732643604278564\n",
            "step = 96750: Average Return = -111.5, Average Steps 111.5\n",
            "step = 97000: loss = 0.9230403304100037\n",
            "step = 97250: loss = 0.755237340927124\n",
            "step = 97500: loss = 0.47371742129325867\n",
            "step = 97500: Average Return = -133.39999389648438, Average Steps 133.4\n",
            "step = 97750: loss = 0.5431268811225891\n",
            "step = 98000: loss = 0.9737101793289185\n",
            "step = 98250: loss = 0.9654676914215088\n",
            "step = 98250: Average Return = -154.6999969482422, Average Steps 154.7\n",
            "step = 98500: loss = 4.839898109436035\n",
            "step = 98750: loss = 1.2990086078643799\n",
            "step = 99000: loss = 1.047996997833252\n",
            "step = 99000: Average Return = -115.0, Average Steps 115.0\n",
            "step = 99250: loss = 2.022862434387207\n",
            "step = 99500: loss = 1.0559415817260742\n",
            "step = 99750: loss = 0.5052258968353271\n",
            "step = 99750: Average Return = -120.19999694824219, Average Steps 120.2\n",
            "step = 100000: loss = 0.761449933052063\n",
            "step = 100250: loss = 0.6770231127738953\n",
            "step = 100500: loss = 1.1394543647766113\n",
            "step = 100500: Average Return = -160.3000030517578, Average Steps 160.3\n",
            "step = 100750: loss = 1.3998632431030273\n",
            "step = 101000: loss = 45.57007598876953\n",
            "step = 101250: loss = 1.1324107646942139\n",
            "step = 101250: Average Return = -158.5, Average Steps 158.5\n",
            "step = 101500: loss = 17.153865814208984\n",
            "step = 101750: loss = 0.8279745578765869\n",
            "step = 102000: loss = 1.514988660812378\n",
            "step = 102000: Average Return = -156.3000030517578, Average Steps 156.3\n",
            "step = 102250: loss = 0.5766059160232544\n",
            "step = 102500: loss = 1.0357177257537842\n",
            "step = 102750: loss = 8.280325889587402\n",
            "step = 102750: Average Return = -147.8000030517578, Average Steps 147.8\n",
            "step = 103000: loss = 0.7057406306266785\n",
            "step = 103250: loss = 0.8614355325698853\n",
            "step = 103500: loss = 1.0830528736114502\n",
            "step = 103500: Average Return = -140.5, Average Steps 140.5\n",
            "step = 103750: loss = 3.3821094036102295\n",
            "step = 104000: loss = 1.3673022985458374\n",
            "step = 104250: loss = 1.316543459892273\n",
            "step = 104250: Average Return = -184.6999969482422, Average Steps 184.7\n",
            "step = 104500: loss = 72.93709564208984\n",
            "step = 104750: loss = 1.3946908712387085\n",
            "step = 105000: loss = 1.302649736404419\n",
            "step = 105000: Average Return = -148.3000030517578, Average Steps 148.3\n",
            "step = 105250: loss = 0.7114328145980835\n",
            "step = 105500: loss = 76.77972412109375\n",
            "step = 105750: loss = 1.369483232498169\n",
            "step = 105750: Average Return = -182.39999389648438, Average Steps 182.4\n",
            "step = 106000: loss = 1.0693111419677734\n",
            "step = 106250: loss = 1.453942894935608\n",
            "step = 106500: loss = 0.6022398471832275\n",
            "step = 106500: Average Return = -200.0, Average Steps 200.0\n",
            "step = 106750: loss = 1.1023565530776978\n",
            "step = 107000: loss = 0.6240187287330627\n",
            "step = 107250: loss = 1.4120007753372192\n",
            "step = 107250: Average Return = -144.1999969482422, Average Steps 144.2\n",
            "step = 107500: loss = 0.7559329271316528\n",
            "step = 107750: loss = 5.668982982635498\n",
            "step = 108000: loss = 0.965730607509613\n",
            "step = 108000: Average Return = -174.39999389648438, Average Steps 174.4\n",
            "step = 108250: loss = 0.5855756998062134\n",
            "step = 108500: loss = 0.47303393483161926\n",
            "step = 108750: loss = 0.6051385402679443\n",
            "step = 108750: Average Return = -137.8000030517578, Average Steps 137.8\n",
            "step = 109000: loss = 1.0337908267974854\n",
            "step = 109250: loss = 0.7061818242073059\n",
            "step = 109500: loss = 21.913387298583984\n",
            "step = 109500: Average Return = -151.39999389648438, Average Steps 151.4\n",
            "step = 109750: loss = 0.7905286550521851\n",
            "step = 110000: loss = 1.3534832000732422\n",
            "step = 110250: loss = 1.3242135047912598\n",
            "step = 110250: Average Return = -170.6999969482422, Average Steps 170.7\n",
            "step = 110500: loss = 0.9515020847320557\n",
            "step = 110750: loss = 0.38662490248680115\n",
            "step = 111000: loss = 0.9714312553405762\n",
            "step = 111000: Average Return = -126.0999984741211, Average Steps 126.1\n",
            "step = 111250: loss = 2.8523313999176025\n",
            "step = 111500: loss = 0.49395257234573364\n",
            "step = 111750: loss = 0.3252403438091278\n",
            "step = 111750: Average Return = -154.39999389648438, Average Steps 154.4\n",
            "step = 112000: loss = 0.269135057926178\n",
            "step = 112250: loss = 0.9201772212982178\n",
            "step = 112500: loss = 0.5582163333892822\n",
            "step = 112500: Average Return = -166.39999389648438, Average Steps 166.4\n",
            "step = 112750: loss = 0.9898622035980225\n",
            "step = 113000: loss = 0.44298309087753296\n",
            "step = 113250: loss = 112.1078109741211\n",
            "step = 113250: Average Return = -133.39999389648438, Average Steps 133.4\n",
            "step = 113500: loss = 0.37409746646881104\n",
            "step = 113750: loss = 1.9133926630020142\n",
            "step = 114000: loss = 11.69890022277832\n",
            "step = 114000: Average Return = -106.19999694824219, Average Steps 106.2\n",
            "step = 114250: loss = 1.1092509031295776\n",
            "step = 114500: loss = 0.8723436594009399\n",
            "step = 114750: loss = 0.7461219429969788\n",
            "step = 114750: Average Return = -137.3000030517578, Average Steps 137.3\n",
            "step = 115000: loss = 0.34941673278808594\n",
            "step = 115250: loss = 0.4597487449645996\n",
            "step = 115500: loss = 1.5472766160964966\n",
            "step = 115500: Average Return = -128.60000610351562, Average Steps 128.6\n",
            "step = 115750: loss = 0.49189841747283936\n",
            "step = 116000: loss = 0.6997261643409729\n",
            "step = 116250: loss = 2.915865659713745\n",
            "step = 116250: Average Return = -200.0, Average Steps 200.0\n",
            "step = 116500: loss = 0.9099370241165161\n",
            "step = 116750: loss = 1.107560396194458\n",
            "step = 117000: loss = 1.0196645259857178\n",
            "step = 117000: Average Return = -171.8000030517578, Average Steps 171.8\n",
            "step = 117250: loss = 0.4882054328918457\n",
            "step = 117500: loss = 0.796565055847168\n",
            "step = 117750: loss = 0.5582348704338074\n",
            "step = 117750: Average Return = -181.89999389648438, Average Steps 181.9\n",
            "step = 118000: loss = 0.40775805711746216\n",
            "step = 118250: loss = 0.8694351315498352\n",
            "step = 118500: loss = 9.353541374206543\n",
            "step = 118500: Average Return = -149.89999389648438, Average Steps 149.9\n",
            "step = 118750: loss = 1.030627727508545\n",
            "step = 119000: loss = 0.5744249820709229\n",
            "step = 119250: loss = 0.9029847383499146\n",
            "step = 119250: Average Return = -140.8000030517578, Average Steps 140.8\n",
            "step = 119500: loss = 0.9649199843406677\n",
            "step = 119750: loss = 0.847929835319519\n",
            "step = 120000: loss = 0.7853341102600098\n",
            "step = 120000: Average Return = -185.89999389648438, Average Steps 185.9\n",
            "step = 120250: loss = 0.7718316912651062\n",
            "step = 120500: loss = 0.8387754559516907\n",
            "step = 120750: loss = 0.8214453458786011\n",
            "step = 120750: Average Return = -167.10000610351562, Average Steps 167.1\n",
            "step = 121000: loss = 0.8512072563171387\n",
            "step = 121250: loss = 1.4292526245117188\n",
            "step = 121500: loss = 0.40387260913848877\n",
            "step = 121500: Average Return = -127.69999694824219, Average Steps 127.7\n",
            "step = 121750: loss = 0.7149226069450378\n",
            "step = 122000: loss = 0.5644738078117371\n",
            "step = 122250: loss = 0.6726560592651367\n",
            "step = 122250: Average Return = -125.4000015258789, Average Steps 125.4\n",
            "step = 122500: loss = 0.4440866708755493\n",
            "step = 122750: loss = 13.931490898132324\n",
            "step = 123000: loss = 0.7826471924781799\n",
            "step = 123000: Average Return = -115.4000015258789, Average Steps 115.4\n",
            "step = 123250: loss = 1.0197837352752686\n",
            "step = 123500: loss = 1.8265862464904785\n",
            "step = 123750: loss = 0.8084436655044556\n",
            "step = 123750: Average Return = -118.4000015258789, Average Steps 118.4\n",
            "step = 124000: loss = 0.7792658805847168\n",
            "step = 124250: loss = 0.7888908982276917\n",
            "step = 124500: loss = 0.5706973671913147\n",
            "step = 124500: Average Return = -127.19999694824219, Average Steps 127.2\n",
            "step = 124750: loss = 0.48720815777778625\n",
            "step = 125000: loss = 0.5997916460037231\n",
            "step = 125250: loss = 1.0074043273925781\n",
            "step = 125250: Average Return = -155.1999969482422, Average Steps 155.2\n",
            "step = 125500: loss = 1.1895028352737427\n",
            "step = 125750: loss = 0.628987193107605\n",
            "step = 126000: loss = 0.6055886745452881\n",
            "step = 126000: Average Return = -138.60000610351562, Average Steps 138.6\n",
            "step = 126250: loss = 0.4283421039581299\n",
            "step = 126500: loss = 0.5951956510543823\n",
            "step = 126750: loss = 0.7168315052986145\n",
            "step = 126750: Average Return = -179.89999389648438, Average Steps 179.9\n"
          ]
        }
      ],
      "source": [
        "# Optimize by wrapping some of the code in a graph using TF function.\n",
        "agent.train = common.function(agent.train)\n",
        "\n",
        "# Reset the train step.\n",
        "agent.train_step_counter.assign(0)\n",
        "\n",
        "# Evaluate the agent's policy once before training.\n",
        "avg_return , avg_steps= compute_avg_return(eval_env, agent.policy, num_episodes)\n",
        "returns = [avg_return]\n",
        "steps = [avg_steps]\n",
        "losses = []\n",
        "\n",
        "# Reset the environment.\n",
        "time_step = train_py_env.reset()\n",
        "\n",
        "# Create a driver to collect experience.\n",
        "collect_driver = py_driver.PyDriver(\n",
        "    env_dqn,\n",
        "    py_tf_eager_policy.PyTFEagerPolicy(\n",
        "      agent.collect_policy, use_tf_function=True),\n",
        "    [rb_observer],\n",
        "    max_steps=collect_steps_per_iteration)\n",
        "\n",
        "for _ in range(num_iterations):\n",
        "\n",
        "  # Collect a few steps and save to the replay buffer.\n",
        "  time_step, _ = collect_driver.run(time_step)\n",
        "\n",
        "  # Sample a batch of data from the buffer and update the agent's network.\n",
        "  experience, unused_info = next(iterator)\n",
        "  train_loss = agent.train(experience).loss\n",
        "\n",
        "  step = agent.train_step_counter.numpy()\n",
        "\n",
        "  losses.append(train_loss)\n",
        "  if step % log_interval == 0:\n",
        "    print('step = {0}: loss = {1}'.format(step, train_loss))\n",
        "\n",
        "  if step % eval_interval == 0:\n",
        "    avg_return, avg_steps = compute_avg_return(eval_env, agent.policy, num_episodes)\n",
        "    print('step = {0}: Average Return = {1}, Average Steps {2}'.format(step, avg_return, avg_steps))\n",
        "    returns.append(avg_return)\n",
        "    steps.append(avg_steps)\n"
      ]
    },
    {
      "cell_type": "markdown",
      "metadata": {
        "id": "-J56t0m7BozX"
      },
      "source": [
        "### Plots"
      ]
    },
    {
      "cell_type": "code",
      "execution_count": null,
      "metadata": {
        "id": "KwCI-hVvBoBS"
      },
      "outputs": [],
      "source": [
        "iterations = range(0, num_iterations + 1, eval_interval)\n",
        "\n",
        "print(f\"Best Avg Return: {max(returns)}\")\n",
        "print(f\"Best Avg Steps: {min(steps)}\")\n",
        "plt.plot(iterations, returns)\n",
        "plt.ylabel('Average Return')\n",
        "plt.xlabel('Iterations')\n",
        "plt.ylim(top=25)\n",
        "plt.show()\n",
        "\n",
        "iterations_log = range(0, num_iterations)\n",
        "plt.scatter(iterations_log, losses)\n",
        "plt.ylabel('Losses')\n",
        "plt.xlabel('Iterations')\n",
        "# plt.ylim(top=250)"
      ]
    },
    {
      "cell_type": "markdown",
      "metadata": {
        "id": "UvWLHCgAQGFp"
      },
      "source": [
        "### Videos"
      ]
    },
    {
      "cell_type": "code",
      "execution_count": null,
      "metadata": {
        "id": "_4X1_r1tQHv6"
      },
      "outputs": [],
      "source": [
        "def embed_mp4(filename):\n",
        "  \"\"\"Embeds an mp4 file in the notebook.\"\"\"\n",
        "  video = open(filename,'rb').read()\n",
        "  b64 = base64.b64encode(video)\n",
        "  tag = '''\n",
        "  <video width=\"640\" height=\"480\" controls>\n",
        "    <source src=\"data:video/mp4;base64,{0}\" type=\"video/mp4\">\n",
        "  Your browser does not support the video tag.\n",
        "  </video>'''.format(b64.decode())\n",
        "\n",
        "  return IPython.display.HTML(tag)\n"
      ]
    },
    {
      "cell_type": "code",
      "execution_count": null,
      "metadata": {
        "id": "4m2eHZR6YPyh"
      },
      "outputs": [],
      "source": [
        "def create_policy_eval_video_qlearn(filename, num_episodes=5, fps=30):\n",
        "  filename = filename + \".mp4\"\n",
        "  with imageio.get_writer(filename, fps=fps) as video:\n",
        "    for _ in range(num_episodes):\n",
        "\n",
        "      video.append_data(env.render())\n",
        "\n",
        "      #initialize the state by resetting the environment\n",
        "      s,_ = env.reset()\n",
        "      total_reward = 0\n",
        "      steps = 0\n",
        "\n",
        "      # discretize\n",
        "      s = [get_index_position_batch(s[0], position_batches), get_index_velocity_batch(s[1], velocity_batches)]\n",
        "\n",
        "      #for each step in the episode\n",
        "      for t in range(num_steps):\n",
        "\n",
        "          #select the action using optimal policy table\n",
        "          a = int(optimal_policy[s[0], s[1]])\n",
        "\n",
        "          #perform the selected action and store the next state information\n",
        "          s_, _ , done, _, _ = env.step(a)\n",
        "\n",
        "          # discretize\n",
        "          s_ = [get_index_position_batch(s_[0], position_batches), get_index_velocity_batch(s_[1], velocity_batches)]\n",
        "\n",
        "          #update current state to next state\n",
        "          s = s_\n",
        "\n",
        "          video.append_data(env.render())\n",
        "\n",
        "          #if the current state is the terminal state then break\n",
        "          if done:\n",
        "              break\n",
        "\n",
        "\n",
        "  return embed_mp4(filename)"
      ]
    },
    {
      "cell_type": "code",
      "execution_count": null,
      "metadata": {
        "id": "G2c9VzGHQTPk"
      },
      "outputs": [],
      "source": [
        "def create_policy_eval_video(policy, filename, num_episodes=5, fps=30):\n",
        "  filename = filename + \".mp4\"\n",
        "  with imageio.get_writer(filename, fps=fps) as video:\n",
        "    for _ in range(num_episodes):\n",
        "      time_step = eval_env.reset()\n",
        "      video.append_data(eval_py_env.render())\n",
        "      while not time_step.is_last():\n",
        "        action_step = policy.action(time_step)\n",
        "        time_step = eval_env.step(action_step.action)\n",
        "        video.append_data(eval_py_env.render())\n",
        "  return embed_mp4(filename)"
      ]
    },
    {
      "cell_type": "code",
      "execution_count": null,
      "metadata": {
        "id": "p0p53BCHB8_h"
      },
      "outputs": [],
      "source": [
        "create_policy_eval_video(agent.policy, \"trained-dqn-agent\")"
      ]
    },
    {
      "cell_type": "code",
      "execution_count": null,
      "metadata": {
        "id": "wRpu7DKAjZhc"
      },
      "outputs": [],
      "source": [
        "create_policy_eval_video_qlearn(\"trained-qlearn-agent\")"
      ]
    },
    {
      "cell_type": "code",
      "execution_count": null,
      "metadata": {
        "id": "EhEJTfktQxZ4"
      },
      "outputs": [],
      "source": [
        "create_policy_eval_video(random_policy, \"random-dqn-agent\")\n"
      ]
    }
  ],
  "metadata": {
    "colab": {
      "provenance": []
    },
    "kernelspec": {
      "display_name": "Python 3",
      "name": "python3"
    },
    "language_info": {
      "codemirror_mode": {
        "name": "ipython",
        "version": 3
      },
      "file_extension": ".py",
      "mimetype": "text/x-python",
      "name": "python",
      "nbconvert_exporter": "python",
      "pygments_lexer": "ipython3",
      "version": "3.11.6"
    },
    "vscode": {
      "interpreter": {
        "hash": "e7370f93d1d0cde622a1f8e1c04877d8463912d04d973331ad4851f04de6915a"
      }
    }
  },
  "nbformat": 4,
  "nbformat_minor": 0
}